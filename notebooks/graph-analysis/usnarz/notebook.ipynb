{
 "cells": [
  {
   "cell_type": "code",
   "execution_count": 33,
   "id": "e5c8c950",
   "metadata": {},
   "outputs": [],
   "source": [
    "import pandas as pd\n",
    "import numpy as np"
   ]
  },
  {
   "cell_type": "code",
   "execution_count": 34,
   "id": "6b102401",
   "metadata": {},
   "outputs": [],
   "source": [
    "df = pd.read_excel(\"data.xlsx\")"
   ]
  },
  {
   "cell_type": "code",
   "execution_count": 44,
   "id": "eb69cc95",
   "metadata": {},
   "outputs": [],
   "source": [
    "#Adding score column\n",
    "df['score'] = (df['nreplies'] + df['nlikes']*3 + df['nretweets']*3)/7"
   ]
  },
  {
   "cell_type": "code",
   "execution_count": 64,
   "id": "b44ef1b1",
   "metadata": {},
   "outputs": [
    {
     "data": {
      "text/plain": [
       "[{'screen_name': 'jzpinski', 'name': 'Jan Piński', 'id': '755478612443267072'},\n",
       " {'screen_name': 'pisorgpl',\n",
       "  'name': 'Prawo i Sprawiedliwość',\n",
       "  'id': '15877628'}]"
      ]
     },
     "execution_count": 64,
     "metadata": {},
     "output_type": "execute_result"
    }
   ],
   "source": [
    "import ast\n",
    "l = ast.literal_eval(df['reply_to'][133])\n",
    "l"
   ]
  },
  {
   "cell_type": "code",
   "execution_count": 71,
   "id": "908c163a",
   "metadata": {},
   "outputs": [],
   "source": [
    "def change_reply_to_user_list(reply_to):\n",
    "    user_list = []\n",
    "    temps = ast.literal_eval(reply_to)\n",
    "    for temp in temps:\n",
    "        user_list.append(temp[\"screen_name\"])\n",
    "    return user_list\n",
    "\n",
    "graph_list = []\n",
    "#first source than target -> eg. \"A\" tweeted about/replied to/qouted \"B\", \"C\", \"D\"\n",
    "for index, row in df.iterrows():\n",
    "    for user in change_reply_to_user_list(row[\"reply_to\"]):\n",
    "        graph_list.append([row[\"username\"],user])\n",
    "\n",
    "graph_df = pd.DataFrame(graph_list, columns=['source', 'target'])\n",
    "graph_df.to_csv(\"usnarz-graph.csv\", index = False)"
   ]
  },
  {
   "cell_type": "code",
   "execution_count": null,
   "id": "60a195b8",
   "metadata": {},
   "outputs": [],
   "source": []
  }
 ],
 "metadata": {
  "kernelspec": {
   "display_name": "Python 3",
   "language": "python",
   "name": "python3"
  },
  "language_info": {
   "codemirror_mode": {
    "name": "ipython",
    "version": 3
   },
   "file_extension": ".py",
   "mimetype": "text/x-python",
   "name": "python",
   "nbconvert_exporter": "python",
   "pygments_lexer": "ipython3",
   "version": "3.8.10"
  }
 },
 "nbformat": 4,
 "nbformat_minor": 5
}
