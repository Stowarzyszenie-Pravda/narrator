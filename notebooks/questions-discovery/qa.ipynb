{
 "cells": [
  {
   "cell_type": "code",
   "execution_count": 1,
   "id": "9ea948ea",
   "metadata": {},
   "outputs": [],
   "source": [
    "import pandas as pd \n",
    "import numpy as np "
   ]
  },
  {
   "cell_type": "code",
   "execution_count": 8,
   "id": "0ec52d53",
   "metadata": {},
   "outputs": [
    {
     "name": "stdout",
     "output_type": "stream",
     "text": [
      "C:/Users/kubas/Desktop/narrator/database/vaccines/2021-11-08-2920.csv\n",
      "C:/Users/kubas/Desktop/narrator/database/vaccines/2021-11-21-715.csv\n"
     ]
    },
    {
     "name": "stderr",
     "output_type": "stream",
     "text": [
      "c:\\users\\kubas\\appdata\\local\\programs\\python\\python38\\lib\\site-packages\\IPython\\core\\interactiveshell.py:3169: DtypeWarning: Columns (9) have mixed types.Specify dtype option on import or set low_memory=False.\n",
      "  has_raised = await self.run_ast_nodes(code_ast.body, cell_name,\n"
     ]
    },
    {
     "name": "stdout",
     "output_type": "stream",
     "text": [
      "C:/Users/kubas/Desktop/narrator/database/vaccines/2021-11-23-5264.csv\n",
      "C:/Users/kubas/Desktop/narrator/database/vaccines/2021-11-24-8219.csv\n",
      "C:/Users/kubas/Desktop/narrator/database/vaccines/2021-11-25-6158.csv\n",
      "C:/Users/kubas/Desktop/narrator/database/vaccines/2021-11-26-8044.csv\n",
      "C:/Users/kubas/Desktop/narrator/database/vaccines/2021-11-27-220.csv\n",
      "C:/Users/kubas/Desktop/narrator/database/vaccines/2021-11-28-1124.csv\n",
      "C:/Users/kubas/Desktop/narrator/database/vaccines/2021-11-29-1998.csv\n",
      "C:/Users/kubas/Desktop/narrator/database/vaccines/2021-11-30-3408.csv\n",
      "C:/Users/kubas/Desktop/narrator/database/vaccines/2021-12-01-5065.csv\n",
      "C:/Users/kubas/Desktop/narrator/database/vaccines/2021-12-02-4807.csv\n",
      "C:/Users/kubas/Desktop/narrator/database/vaccines/2021-12-03-4561.csv\n",
      "C:/Users/kubas/Desktop/narrator/database/vaccines/2021-12-04-2548.csv\n",
      "C:/Users/kubas/Desktop/narrator/database/vaccines/2021-12-04-5203.csv\n",
      "C:/Users/kubas/Desktop/narrator/database/vaccines/2021-12-06-4582.csv\n",
      "C:/Users/kubas/Desktop/narrator/database/vaccines/2021-12-09-1920.csv\n",
      "C:/Users/kubas/Desktop/narrator/database/vaccines/2021-12-10-1582.csv\n",
      "C:/Users/kubas/Desktop/narrator/database/vaccines/2021-12-12-1260.csv\n",
      "C:/Users/kubas/Desktop/narrator/database/vaccines/2021-12-12-5437.csv\n",
      "C:/Users/kubas/Desktop/narrator/database/vaccines/2021-12-14-8509.csv\n",
      "C:/Users/kubas/Desktop/narrator/database/vaccines/2021-12-15-8915.csv\n",
      "C:/Users/kubas/Desktop/narrator/database/vaccines/2021-12-16-384.csv\n",
      "C:/Users/kubas/Desktop/narrator/database/vaccines/2021-12-17-2631.csv\n",
      "C:/Users/kubas/Desktop/narrator/database/vaccines/2021-12-17-808.csv\n",
      "C:/Users/kubas/Desktop/narrator/database/vaccines/2021-12-19-123.csv\n",
      "C:/Users/kubas/Desktop/narrator/database/vaccines/2021-12-20-1848.csv\n",
      "C:/Users/kubas/Desktop/narrator/database/vaccines/2021-12-21-6249.csv\n",
      "C:/Users/kubas/Desktop/narrator/database/vaccines/2021-12-22-2676.csv\n",
      "C:/Users/kubas/Desktop/narrator/database/vaccines/2021-12-23-1872.csv\n",
      "C:/Users/kubas/Desktop/narrator/database/vaccines/2021-12-24-2330.csv\n",
      "C:/Users/kubas/Desktop/narrator/database/vaccines/2021-12-25-3269.csv\n",
      "C:/Users/kubas/Desktop/narrator/database/vaccines/2021-12-26-4199.csv\n",
      "C:/Users/kubas/Desktop/narrator/database/vaccines/2021-12-27-9087.csv\n",
      "C:/Users/kubas/Desktop/narrator/database/vaccines/2021-12-28-1284.csv\n",
      "C:/Users/kubas/Desktop/narrator/database/vaccines/2021-12-30-1575.csv\n",
      "C:/Users/kubas/Desktop/narrator/database/vaccines/2022-01-02-1585.csv\n",
      "C:/Users/kubas/Desktop/narrator/database/vaccines/2022-01-04-4597.csv\n",
      "C:/Users/kubas/Desktop/narrator/database/vaccines/2022-01-05-5962.csv\n",
      "C:/Users/kubas/Desktop/narrator/database/vaccines/2022-01-07-2300.csv\n",
      "C:/Users/kubas/Desktop/narrator/database/vaccines/2022-01-08-2464.csv\n",
      "C:/Users/kubas/Desktop/narrator/database/vaccines/2022-01-09-3704.csv\n",
      "C:/Users/kubas/Desktop/narrator/database/vaccines/2022-01-10-172.csv\n",
      "C:/Users/kubas/Desktop/narrator/database/vaccines/2022-01-11-766.csv\n",
      "C:/Users/kubas/Desktop/narrator/database/vaccines/2022-01-12-771.csv\n",
      "C:/Users/kubas/Desktop/narrator/database/vaccines/2022-01-14-8126.csv\n"
     ]
    }
   ],
   "source": [
    "import os\n",
    "\n",
    "for subdir, dirs, files in os.walk(\"C:/Users/kubas/Desktop/narrator/database/vaccines\"):\n",
    "    for e, file in enumerate(files):\n",
    "        #print os.path.join(subdir, file)\n",
    "        filepath = subdir + os.sep + file\n",
    "\n",
    "        if filepath.endswith(\".csv\"):\n",
    "            filepath = str(filepath).replace(' \\ '.strip(),'/')\n",
    "            print(filepath)\n",
    "        if e == 0:\n",
    "            df = pd.read_csv(filepath)\n",
    "        else:\n",
    "            temp_df = pd.read_csv(filepath)\n",
    "            df = df.append(temp_df)"
   ]
  },
  {
   "cell_type": "code",
   "execution_count": 9,
   "id": "c287d8df",
   "metadata": {},
   "outputs": [],
   "source": [
    "df = df.drop(columns = 'Unnamed: 0')\n",
    "df = df.drop_duplicates(subset = ['id'])\n",
    "\n",
    "df['score'] = df['nlikes'] + df['nreplies'] + df['nretweets']\n",
    "df['date-day'] = df['date'].apply(lambda x: x.split(' ')[0])\n",
    "\n",
    "df = df.reset_index()"
   ]
  },
  {
   "cell_type": "code",
   "execution_count": 5,
   "id": "1ecc1230",
   "metadata": {},
   "outputs": [
    {
     "data": {
      "text/plain": [
       "Index(['index', 'id', 'conversation_id', 'date', 'tweet', 'hashtags',\n",
       "       'user_id_str', 'username', 'name', 'link', 'urls', 'photos', 'nlikes',\n",
       "       'nreplies', 'nretweets', 'search', 'reply_to'],\n",
       "      dtype='object')"
      ]
     },
     "execution_count": 5,
     "metadata": {},
     "output_type": "execute_result"
    }
   ],
   "source": [
    "df.columns"
   ]
  },
  {
   "cell_type": "markdown",
   "id": "5b3d53c4",
   "metadata": {},
   "source": [
    "## Questions analysis"
   ]
  },
  {
   "cell_type": "code",
   "execution_count": 13,
   "id": "2ec1a057",
   "metadata": {},
   "outputs": [],
   "source": [
    "t = df.groupby([\"date-day\"]).apply(lambda x: x.sort_values([\"score\"], ascending = False)).reset_index(drop=True)"
   ]
  },
  {
   "cell_type": "code",
   "execution_count": 14,
   "id": "e9435198",
   "metadata": {},
   "outputs": [],
   "source": [
    "top_df = t.groupby('date-day').head(50)\n",
    "top_df = top_df.drop(columns = 'index')"
   ]
  },
  {
   "cell_type": "code",
   "execution_count": 22,
   "id": "58885f19",
   "metadata": {},
   "outputs": [
    {
     "data": {
      "text/plain": [
       "szczepionki                 539\n",
       "stopsegregacjisanitarnej    326\n",
       "segregacji                  326\n",
       "zaszczepieni                256\n",
       "szczepimysie                236\n",
       "niezaszczepieni             207\n",
       "szczepionka                 167\n",
       "segregacja                  122\n",
       "zaszczepiony                118\n",
       "nie zaszczepiony            108\n",
       "segregację                  100\n",
       "zaszczepiona                 96\n",
       "niezaszczepiony              65\n",
       "nie zaszczepiona             64\n",
       "paszporty covidowe           54\n",
       "niezaszczepiona              54\n",
       "szczepionkach                48\n",
       "paszportów covidowych        46\n",
       "paszport covidowy            37\n",
       "plandemia                    36\n",
       "szczepią                     34\n",
       "szczepiony                   32\n",
       "szczepionkami                30\n",
       "segregacją                   27\n",
       "szczepionce                  25\n",
       "nop                          25\n",
       "nwo                          24\n",
       "szczepimysię                 22\n",
       "certyfikatów covidowych      20\n",
       "nieszczepimysię              19\n",
       "zajob                        19\n",
       "paszportu covidowego         18\n",
       "certyfikaty covidowe         18\n",
       "szczepiona                   17\n",
       "szczepieni                   17\n",
       "szczepionką                  16\n",
       "szczepię                     16\n",
       "paszportom covidowym         15\n",
       "nie zaszczepią               11\n",
       "szczepionkom                 10\n",
       "zaszczepią                    9\n",
       "nie zaszczepię                9\n",
       "certyfikatu covid             8\n",
       "paszportami covidowymi        6\n",
       "certyfikat covid              6\n",
       "plandemii                     6\n",
       "stopss                        5\n",
       "paszportem covidowym          5\n",
       "plandemią                     5\n",
       "paszportach covidowych        5\n",
       "plandemie                     4\n",
       "nieszczepimysie               4\n",
       "zaszczepię                    2\n",
       "certyfikatem covidowym        2\n",
       "certyfikatami covidowymi      1\n",
       "paszporcie covidowym          1\n",
       "certyfikatach covidowych      1\n",
       "certyfikacie covidowym        1\n",
       "Name: search, dtype: int64"
      ]
     },
     "execution_count": 22,
     "metadata": {},
     "output_type": "execute_result"
    }
   ],
   "source": [
    "top_df['search'].value_counts()"
   ]
  },
  {
   "cell_type": "code",
   "execution_count": null,
   "id": "b1eacc29",
   "metadata": {},
   "outputs": [],
   "source": []
  }
 ],
 "metadata": {
  "kernelspec": {
   "display_name": "Python 3",
   "language": "python",
   "name": "python3"
  },
  "language_info": {
   "codemirror_mode": {
    "name": "ipython",
    "version": 3
   },
   "file_extension": ".py",
   "mimetype": "text/x-python",
   "name": "python",
   "nbconvert_exporter": "python",
   "pygments_lexer": "ipython3",
   "version": "3.8.10"
  }
 },
 "nbformat": 4,
 "nbformat_minor": 5
}
