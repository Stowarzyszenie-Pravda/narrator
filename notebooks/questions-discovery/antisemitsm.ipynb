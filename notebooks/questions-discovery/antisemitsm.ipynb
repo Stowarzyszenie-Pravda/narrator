{
 "cells": [
  {
   "cell_type": "code",
   "execution_count": 1,
   "id": "9ea948ea",
   "metadata": {},
   "outputs": [],
   "source": [
    "import pandas as pd \n",
    "import numpy as np "
   ]
  },
  {
   "cell_type": "code",
   "execution_count": 13,
   "id": "0ec52d53",
   "metadata": {},
   "outputs": [
    {
     "name": "stdout",
     "output_type": "stream",
     "text": [
      "C:/Users/kubas/Desktop/narrator/database/antisemitism/2021-11-29-4172.csv\n",
      "C:/Users/kubas/Desktop/narrator/database/antisemitism/2021-11-30-4000.csv\n",
      "C:/Users/kubas/Desktop/narrator/database/antisemitism/2021-12-01-4198.csv\n",
      "C:/Users/kubas/Desktop/narrator/database/antisemitism/2021-12-02-2370.csv\n",
      "C:/Users/kubas/Desktop/narrator/database/antisemitism/2021-12-03-7421.csv\n",
      "C:/Users/kubas/Desktop/narrator/database/antisemitism/2021-12-04-9166.csv\n",
      "C:/Users/kubas/Desktop/narrator/database/antisemitism/2021-12-05-2807.csv\n",
      "C:/Users/kubas/Desktop/narrator/database/antisemitism/2021-12-06-9097.csv\n",
      "C:/Users/kubas/Desktop/narrator/database/antisemitism/2021-12-09-3567.csv\n",
      "C:/Users/kubas/Desktop/narrator/database/antisemitism/2021-12-10-1852.csv\n",
      "C:/Users/kubas/Desktop/narrator/database/antisemitism/2021-12-12-1639.csv\n",
      "C:/Users/kubas/Desktop/narrator/database/antisemitism/2021-12-12-9231.csv\n",
      "C:/Users/kubas/Desktop/narrator/database/antisemitism/2021-12-15-5490.csv\n",
      "C:/Users/kubas/Desktop/narrator/database/antisemitism/2021-12-16-7211.csv\n",
      "C:/Users/kubas/Desktop/narrator/database/antisemitism/2021-12-20-4606.csv\n",
      "C:/Users/kubas/Desktop/narrator/database/antisemitism/2021-12-21-7524.csv\n",
      "C:/Users/kubas/Desktop/narrator/database/antisemitism/2021-12-22-2290.csv\n",
      "C:/Users/kubas/Desktop/narrator/database/antisemitism/2021-12-25-3900.csv\n",
      "C:/Users/kubas/Desktop/narrator/database/antisemitism/2021-12-27-7775.csv\n",
      "C:/Users/kubas/Desktop/narrator/database/antisemitism/2021-12-28-1317.csv\n",
      "C:/Users/kubas/Desktop/narrator/database/antisemitism/2022-01-07-9834.csv\n",
      "C:/Users/kubas/Desktop/narrator/database/antisemitism/2022-01-08-5072.csv\n",
      "C:/Users/kubas/Desktop/narrator/database/antisemitism/2022-01-09-643.csv\n",
      "C:/Users/kubas/Desktop/narrator/database/antisemitism/2022-01-10-9677.csv\n",
      "C:/Users/kubas/Desktop/narrator/database/antisemitism/2022-01-11-6256.csv\n",
      "C:/Users/kubas/Desktop/narrator/database/antisemitism/2022-01-12-6213.csv\n",
      "C:/Users/kubas/Desktop/narrator/database/antisemitism/2022-01-14-113.csv\n"
     ]
    }
   ],
   "source": [
    "import os\n",
    "\n",
    "for subdir, dirs, files in os.walk(\"C:/Users/kubas/Desktop/narrator/database/antisemitism\"):\n",
    "    for e, file in enumerate(files):\n",
    "        #print os.path.join(subdir, file)\n",
    "        filepath = subdir + os.sep + file\n",
    "\n",
    "        if filepath.endswith(\".csv\"):\n",
    "            filepath = str(filepath).replace(' \\ '.strip(),'/')\n",
    "            print(filepath)\n",
    "        if e == 0:\n",
    "            df = pd.read_csv(filepath)\n",
    "        else:\n",
    "            temp_df = pd.read_csv(filepath)\n",
    "            df = df.append(temp_df)"
   ]
  },
  {
   "cell_type": "code",
   "execution_count": 14,
   "id": "c287d8df",
   "metadata": {},
   "outputs": [],
   "source": [
    "df = df.drop(columns = 'Unnamed: 0')\n",
    "df = df.drop_duplicates(subset = ['id'])\n",
    "\n",
    "df['score'] = df['nlikes'] + df['nreplies'] + df['nretweets']\n",
    "df['date-day'] = df['date'].apply(lambda x: x.split(' ')[0])\n",
    "\n",
    "df = df.reset_index()"
   ]
  },
  {
   "cell_type": "code",
   "execution_count": 15,
   "id": "1ecc1230",
   "metadata": {},
   "outputs": [
    {
     "data": {
      "text/plain": [
       "Index(['index', 'id', 'conversation_id', 'date', 'tweet', 'hashtags',\n",
       "       'user_id_str', 'username', 'name', 'link', 'urls', 'photos', 'nlikes',\n",
       "       'nreplies', 'nretweets', 'search', 'reply_to', 'score', 'date-day'],\n",
       "      dtype='object')"
      ]
     },
     "execution_count": 15,
     "metadata": {},
     "output_type": "execute_result"
    }
   ],
   "source": [
    "df.columns"
   ]
  },
  {
   "cell_type": "markdown",
   "id": "5b3d53c4",
   "metadata": {},
   "source": [
    "## Discovery"
   ]
  },
  {
   "cell_type": "code",
   "execution_count": 23,
   "id": "b1eacc29",
   "metadata": {},
   "outputs": [],
   "source": [
    "t = df.groupby([\"search\"]).apply(lambda x: x.sort_values([\"score\"], ascending = False)).reset_index(drop=True)\n",
    "popular_tweets = t.groupby('search').head(50).drop('index', axis=1)"
   ]
  },
  {
   "cell_type": "code",
   "execution_count": 25,
   "id": "8e719f0e",
   "metadata": {},
   "outputs": [],
   "source": [
    "popular_tweets.to_csv('popularne_tweet_antysemityzm.csv', encoding=\"utf-8\", index=False)"
   ]
  },
  {
   "cell_type": "code",
   "execution_count": 26,
   "id": "eb1aa116",
   "metadata": {},
   "outputs": [],
   "source": []
  },
  {
   "cell_type": "code",
   "execution_count": null,
   "id": "063a4921",
   "metadata": {},
   "outputs": [],
   "source": []
  }
 ],
 "metadata": {
  "kernelspec": {
   "display_name": "Python 3",
   "language": "python",
   "name": "python3"
  },
  "language_info": {
   "codemirror_mode": {
    "name": "ipython",
    "version": 3
   },
   "file_extension": ".py",
   "mimetype": "text/x-python",
   "name": "python",
   "nbconvert_exporter": "python",
   "pygments_lexer": "ipython3",
   "version": "3.8.10"
  }
 },
 "nbformat": 4,
 "nbformat_minor": 5
}
