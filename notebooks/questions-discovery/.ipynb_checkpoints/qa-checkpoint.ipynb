{
 "cells": [
  {
   "cell_type": "code",
   "execution_count": 2,
   "id": "9ea948ea",
   "metadata": {},
   "outputs": [],
   "source": [
    "import pandas as pd \n",
    "import numpy as np "
   ]
  },
  {
   "cell_type": "code",
   "execution_count": 3,
   "id": "0ec52d53",
   "metadata": {},
   "outputs": [
    {
     "name": "stdout",
     "output_type": "stream",
     "text": [
      "C:/Users/kubas/Desktop/narrator/database/vaccines/2021-11-08-2920.csv\n",
      "C:/Users/kubas/Desktop/narrator/database/vaccines/2021-11-21-715.csv\n"
     ]
    },
    {
     "name": "stderr",
     "output_type": "stream",
     "text": [
      "c:\\users\\kubas\\appdata\\local\\programs\\python\\python38\\lib\\site-packages\\IPython\\core\\interactiveshell.py:3169: DtypeWarning: Columns (9) have mixed types.Specify dtype option on import or set low_memory=False.\n",
      "  has_raised = await self.run_ast_nodes(code_ast.body, cell_name,\n"
     ]
    },
    {
     "name": "stdout",
     "output_type": "stream",
     "text": [
      "C:/Users/kubas/Desktop/narrator/database/vaccines/2021-11-23-5264.csv\n",
      "C:/Users/kubas/Desktop/narrator/database/vaccines/2021-11-24-8219.csv\n",
      "C:/Users/kubas/Desktop/narrator/database/vaccines/2021-11-25-6158.csv\n",
      "C:/Users/kubas/Desktop/narrator/database/vaccines/2021-11-26-8044.csv\n",
      "C:/Users/kubas/Desktop/narrator/database/vaccines/2021-11-27-220.csv\n",
      "C:/Users/kubas/Desktop/narrator/database/vaccines/2021-11-28-1124.csv\n",
      "C:/Users/kubas/Desktop/narrator/database/vaccines/2021-11-29-1998.csv\n",
      "C:/Users/kubas/Desktop/narrator/database/vaccines/2021-11-30-3408.csv\n",
      "C:/Users/kubas/Desktop/narrator/database/vaccines/2021-12-01-5065.csv\n",
      "C:/Users/kubas/Desktop/narrator/database/vaccines/2021-12-02-4807.csv\n",
      "C:/Users/kubas/Desktop/narrator/database/vaccines/2021-12-03-4561.csv\n",
      "C:/Users/kubas/Desktop/narrator/database/vaccines/2021-12-04-2548.csv\n",
      "C:/Users/kubas/Desktop/narrator/database/vaccines/2021-12-04-5203.csv\n",
      "C:/Users/kubas/Desktop/narrator/database/vaccines/2021-12-06-4582.csv\n",
      "C:/Users/kubas/Desktop/narrator/database/vaccines/2021-12-09-1920.csv\n",
      "C:/Users/kubas/Desktop/narrator/database/vaccines/2021-12-10-1582.csv\n",
      "C:/Users/kubas/Desktop/narrator/database/vaccines/2021-12-12-1260.csv\n",
      "C:/Users/kubas/Desktop/narrator/database/vaccines/2021-12-12-5437.csv\n",
      "C:/Users/kubas/Desktop/narrator/database/vaccines/2021-12-14-8509.csv\n",
      "C:/Users/kubas/Desktop/narrator/database/vaccines/2021-12-15-8915.csv\n",
      "C:/Users/kubas/Desktop/narrator/database/vaccines/2021-12-16-384.csv\n",
      "C:/Users/kubas/Desktop/narrator/database/vaccines/2021-12-17-2631.csv\n",
      "C:/Users/kubas/Desktop/narrator/database/vaccines/2021-12-17-808.csv\n",
      "C:/Users/kubas/Desktop/narrator/database/vaccines/2021-12-19-123.csv\n",
      "C:/Users/kubas/Desktop/narrator/database/vaccines/2021-12-20-1848.csv\n",
      "C:/Users/kubas/Desktop/narrator/database/vaccines/2021-12-21-6249.csv\n",
      "C:/Users/kubas/Desktop/narrator/database/vaccines/2021-12-22-2676.csv\n",
      "C:/Users/kubas/Desktop/narrator/database/vaccines/2021-12-23-1872.csv\n",
      "C:/Users/kubas/Desktop/narrator/database/vaccines/2021-12-24-2330.csv\n",
      "C:/Users/kubas/Desktop/narrator/database/vaccines/2021-12-25-3269.csv\n",
      "C:/Users/kubas/Desktop/narrator/database/vaccines/2021-12-26-4199.csv\n",
      "C:/Users/kubas/Desktop/narrator/database/vaccines/2021-12-27-9087.csv\n",
      "C:/Users/kubas/Desktop/narrator/database/vaccines/2021-12-28-1284.csv\n",
      "C:/Users/kubas/Desktop/narrator/database/vaccines/2021-12-30-1575.csv\n",
      "C:/Users/kubas/Desktop/narrator/database/vaccines/2022-01-02-1585.csv\n",
      "C:/Users/kubas/Desktop/narrator/database/vaccines/2022-01-04-4597.csv\n",
      "C:/Users/kubas/Desktop/narrator/database/vaccines/2022-01-05-5962.csv\n",
      "C:/Users/kubas/Desktop/narrator/database/vaccines/2022-01-07-2300.csv\n",
      "C:/Users/kubas/Desktop/narrator/database/vaccines/2022-01-08-2464.csv\n",
      "C:/Users/kubas/Desktop/narrator/database/vaccines/2022-01-09-3704.csv\n",
      "C:/Users/kubas/Desktop/narrator/database/vaccines/2022-01-10-172.csv\n",
      "C:/Users/kubas/Desktop/narrator/database/vaccines/2022-01-11-766.csv\n",
      "C:/Users/kubas/Desktop/narrator/database/vaccines/2022-01-12-771.csv\n",
      "C:/Users/kubas/Desktop/narrator/database/vaccines/2022-01-14-8126.csv\n"
     ]
    }
   ],
   "source": [
    "import os\n",
    "\n",
    "for subdir, dirs, files in os.walk(\"C:/Users/kubas/Desktop/narrator/database/vaccines\"):\n",
    "    for e, file in enumerate(files):\n",
    "        #print os.path.join(subdir, file)\n",
    "        filepath = subdir + os.sep + file\n",
    "\n",
    "        if filepath.endswith(\".csv\"):\n",
    "            filepath = str(filepath).replace(' \\ '.strip(),'/')\n",
    "            print(filepath)\n",
    "        if e == 0:\n",
    "            df = pd.read_csv(filepath)\n",
    "        else:\n",
    "            temp_df = pd.read_csv(filepath)\n",
    "            df = df.append(temp_df)"
   ]
  },
  {
   "cell_type": "code",
   "execution_count": 4,
   "id": "c287d8df",
   "metadata": {},
   "outputs": [
    {
     "data": {
      "text/html": [
       "<div>\n",
       "<style scoped>\n",
       "    .dataframe tbody tr th:only-of-type {\n",
       "        vertical-align: middle;\n",
       "    }\n",
       "\n",
       "    .dataframe tbody tr th {\n",
       "        vertical-align: top;\n",
       "    }\n",
       "\n",
       "    .dataframe thead th {\n",
       "        text-align: right;\n",
       "    }\n",
       "</style>\n",
       "<table border=\"1\" class=\"dataframe\">\n",
       "  <thead>\n",
       "    <tr style=\"text-align: right;\">\n",
       "      <th></th>\n",
       "      <th>index</th>\n",
       "      <th>id</th>\n",
       "      <th>conversation_id</th>\n",
       "      <th>date</th>\n",
       "      <th>tweet</th>\n",
       "      <th>hashtags</th>\n",
       "      <th>user_id_str</th>\n",
       "      <th>username</th>\n",
       "      <th>name</th>\n",
       "      <th>link</th>\n",
       "      <th>urls</th>\n",
       "      <th>photos</th>\n",
       "      <th>nlikes</th>\n",
       "      <th>nreplies</th>\n",
       "      <th>nretweets</th>\n",
       "      <th>search</th>\n",
       "      <th>reply_to</th>\n",
       "    </tr>\n",
       "  </thead>\n",
       "  <tbody>\n",
       "    <tr>\n",
       "      <th>418891</th>\n",
       "      <td>16756</td>\n",
       "      <td>1480587440150786053</td>\n",
       "      <td>1480174321389772809</td>\n",
       "      <td>2022-01-10 18:08:48</td>\n",
       "      <td>@freshmarket2014 @SlawomiraR @Wyrwal Mówisz to...</td>\n",
       "      <td>[]</td>\n",
       "      <td>1420893364669620235</td>\n",
       "      <td>sentientfork</td>\n",
       "      <td>hooman lvl 4</td>\n",
       "      <td>https://twitter.com/sentientfork/status/148058...</td>\n",
       "      <td>[]</td>\n",
       "      <td>[]</td>\n",
       "      <td>0</td>\n",
       "      <td>3</td>\n",
       "      <td>0</td>\n",
       "      <td>nie zaszczepiona</td>\n",
       "      <td>[{'screen_name': 'freshmarket2014', 'name': 'm...</td>\n",
       "    </tr>\n",
       "  </tbody>\n",
       "</table>\n",
       "</div>"
      ],
      "text/plain": [
       "        index                   id      conversation_id                 date  \\\n",
       "418891  16756  1480587440150786053  1480174321389772809  2022-01-10 18:08:48   \n",
       "\n",
       "                                                    tweet hashtags  \\\n",
       "418891  @freshmarket2014 @SlawomiraR @Wyrwal Mówisz to...       []   \n",
       "\n",
       "                user_id_str      username          name  \\\n",
       "418891  1420893364669620235  sentientfork  hooman lvl 4   \n",
       "\n",
       "                                                     link urls photos  nlikes  \\\n",
       "418891  https://twitter.com/sentientfork/status/148058...   []     []       0   \n",
       "\n",
       "        nreplies  nretweets            search  \\\n",
       "418891         3          0  nie zaszczepiona   \n",
       "\n",
       "                                                 reply_to  \n",
       "418891  [{'screen_name': 'freshmarket2014', 'name': 'm...  "
      ]
     },
     "execution_count": 4,
     "metadata": {},
     "output_type": "execute_result"
    }
   ],
   "source": [
    "df = df.drop(columns = 'Unnamed: 0')\n",
    "df = df.drop_duplicates(subset = ['id'])\n",
    "df = df.reset_index()\n",
    "df.sample()"
   ]
  },
  {
   "cell_type": "code",
   "execution_count": 5,
   "id": "1ecc1230",
   "metadata": {},
   "outputs": [
    {
     "data": {
      "text/plain": [
       "Index(['index', 'id', 'conversation_id', 'date', 'tweet', 'hashtags',\n",
       "       'user_id_str', 'username', 'name', 'link', 'urls', 'photos', 'nlikes',\n",
       "       'nreplies', 'nretweets', 'search', 'reply_to'],\n",
       "      dtype='object')"
      ]
     },
     "execution_count": 5,
     "metadata": {},
     "output_type": "execute_result"
    }
   ],
   "source": [
    "df.columns"
   ]
  },
  {
   "cell_type": "code",
   "execution_count": null,
   "id": "0df55124",
   "metadata": {},
   "outputs": [],
   "source": []
  },
  {
   "cell_type": "markdown",
   "id": "2f5593b3",
   "metadata": {},
   "source": [
    "### Search frequency "
   ]
  },
  {
   "cell_type": "code",
   "execution_count": 6,
   "id": "9441bb10",
   "metadata": {},
   "outputs": [
    {
     "data": {
      "text/plain": [
       "<AxesSubplot:>"
      ]
     },
     "execution_count": 6,
     "metadata": {},
     "output_type": "execute_result"
    },
    {
     "data": {
      "image/png": "[encoded data removed]",
      "text/plain": [
       "<Figure size 1080x360 with 1 Axes>"
      ]
     },
     "metadata": {
      "needs_background": "light"
     },
     "output_type": "display_data"
    }
   ],
   "source": [
    "import matplotlib.pyplot as plt\n",
    "plt.figure(figsize=(15,5))\n",
    "df['search'].value_counts().plot(kind=\"bar\")"
   ]
  },
  {
   "cell_type": "code",
   "execution_count": 7,
   "id": "511f86f6",
   "metadata": {},
   "outputs": [],
   "source": [
    "search_df = pd.DataFrame.from_dict(dict(df['search'].value_counts()), orient='index', columns=['search_count'])\n",
    "search_df.to_csv('search_count.csv')"
   ]
  },
  {
   "cell_type": "markdown",
   "id": "5165e49d",
   "metadata": {},
   "source": [
    "### Score frequency"
   ]
  },
  {
   "cell_type": "code",
   "execution_count": 8,
   "id": "38f3b233",
   "metadata": {},
   "outputs": [],
   "source": [
    "df['score'] = df['nlikes'] + df['nreplies'] + df['nretweets']"
   ]
  },
  {
   "cell_type": "code",
   "execution_count": 9,
   "id": "4a1a9b83",
   "metadata": {},
   "outputs": [],
   "source": [
    "df_top_scores = df.groupby(by = 'username').sum().reset_index().sort_values(by='score',ascending=False)"
   ]
  },
  {
   "cell_type": "code",
   "execution_count": 10,
   "id": "4e1cf237",
   "metadata": {},
   "outputs": [],
   "source": [
    "score_sum = df['score'].sum()\n",
    "df_top_scores['score_percentage'] = df_top_scores['score'].apply(lambda x: x/score_sum)"
   ]
  },
  {
   "cell_type": "code",
   "execution_count": 11,
   "id": "667c3f36",
   "metadata": {},
   "outputs": [
    {
     "data": {
      "image/png": "[encoded data removed]",
      "text/plain": [
       "<Figure size 432x288 with 1 Axes>"
      ]
     },
     "metadata": {
      "needs_background": "light"
     },
     "output_type": "display_data"
    }
   ],
   "source": [
    "import seaborn as sns\n",
    "import matplotlib.pyplot as plt\n",
    "\n",
    "fig, ax = plt.subplots()\n",
    "sns.lineplot(x = range(0,len(df_top_scores)), y = df_top_scores['score'], ax = ax, linewidth = 2)\n",
    "ax.set_xlim(0)\n",
    "fig.linewidth = 100\n",
    "plt.show()"
   ]
  },
  {
   "cell_type": "code",
   "execution_count": 12,
   "id": "0c5e5b62",
   "metadata": {},
   "outputs": [
    {
     "data": {
      "image/png": "[encoded data removed]",
      "text/plain": [
       "<Figure size 432x288 with 1 Axes>"
      ]
     },
     "metadata": {
      "needs_background": "light"
     },
     "output_type": "display_data"
    }
   ],
   "source": [
    "sns.histplot(x = df_top_scores['score'], linewidth = 2, bins = 50, kde = True)\n",
    "ax.set_xlim(0)\n",
    "fig.linewidth = 100\n",
    "plt.show()"
   ]
  },
  {
   "cell_type": "code",
   "execution_count": 13,
   "id": "2065082f",
   "metadata": {},
   "outputs": [],
   "source": [
    "df_top_scores[['username', 'score','score_percentage']].to_csv('top_spreaders.csv',index=False)"
   ]
  },
  {
   "cell_type": "markdown",
   "id": "d68fd540",
   "metadata": {},
   "source": [
    "### Number of tweets per day"
   ]
  },
  {
   "cell_type": "code",
   "execution_count": 14,
   "id": "f7089cfa",
   "metadata": {},
   "outputs": [],
   "source": [
    "df['date-day'] = df['date'].apply(lambda x: x.split(' ')[0])"
   ]
  },
  {
   "cell_type": "code",
   "execution_count": 15,
   "id": "2b3a4391",
   "metadata": {},
   "outputs": [],
   "source": [
    "df_date_day = df.groupby(by = 'date-day').count().reset_index()"
   ]
  },
  {
   "cell_type": "code",
   "execution_count": 16,
   "id": "4bfb2eb8",
   "metadata": {},
   "outputs": [
    {
     "data": {
      "text/html": [
       "<div>\n",
       "<style scoped>\n",
       "    .dataframe tbody tr th:only-of-type {\n",
       "        vertical-align: middle;\n",
       "    }\n",
       "\n",
       "    .dataframe tbody tr th {\n",
       "        vertical-align: top;\n",
       "    }\n",
       "\n",
       "    .dataframe thead th {\n",
       "        text-align: right;\n",
       "    }\n",
       "</style>\n",
       "<table border=\"1\" class=\"dataframe\">\n",
       "  <thead>\n",
       "    <tr style=\"text-align: right;\">\n",
       "      <th></th>\n",
       "      <th>date-day</th>\n",
       "      <th>index</th>\n",
       "      <th>id</th>\n",
       "      <th>conversation_id</th>\n",
       "      <th>date</th>\n",
       "      <th>tweet</th>\n",
       "      <th>hashtags</th>\n",
       "      <th>user_id_str</th>\n",
       "      <th>username</th>\n",
       "      <th>name</th>\n",
       "      <th>link</th>\n",
       "      <th>urls</th>\n",
       "      <th>photos</th>\n",
       "      <th>nlikes</th>\n",
       "      <th>nreplies</th>\n",
       "      <th>nretweets</th>\n",
       "      <th>search</th>\n",
       "      <th>reply_to</th>\n",
       "      <th>score</th>\n",
       "    </tr>\n",
       "  </thead>\n",
       "  <tbody>\n",
       "    <tr>\n",
       "      <th>37</th>\n",
       "      <td>2021-12-13</td>\n",
       "      <td>6827</td>\n",
       "      <td>6827</td>\n",
       "      <td>6827</td>\n",
       "      <td>6827</td>\n",
       "      <td>6827</td>\n",
       "      <td>6827</td>\n",
       "      <td>6827</td>\n",
       "      <td>6827</td>\n",
       "      <td>6827</td>\n",
       "      <td>6827</td>\n",
       "      <td>6827</td>\n",
       "      <td>6827</td>\n",
       "      <td>6827</td>\n",
       "      <td>6827</td>\n",
       "      <td>6827</td>\n",
       "      <td>6827</td>\n",
       "      <td>6827</td>\n",
       "      <td>6827</td>\n",
       "    </tr>\n",
       "  </tbody>\n",
       "</table>\n",
       "</div>"
      ],
      "text/plain": [
       "      date-day  index    id  conversation_id  date  tweet  hashtags  \\\n",
       "37  2021-12-13   6827  6827             6827  6827   6827      6827   \n",
       "\n",
       "    user_id_str  username  name  link  urls  photos  nlikes  nreplies  \\\n",
       "37         6827      6827  6827  6827  6827    6827    6827      6827   \n",
       "\n",
       "    nretweets  search  reply_to  score  \n",
       "37       6827    6827      6827   6827  "
      ]
     },
     "execution_count": 16,
     "metadata": {},
     "output_type": "execute_result"
    }
   ],
   "source": [
    "df_date_day.sample()"
   ]
  },
  {
   "cell_type": "code",
   "execution_count": 17,
   "id": "cb062e9f",
   "metadata": {},
   "outputs": [
    {
     "data": {
      "image/png": "[encoded data removed]",
      "text/plain": [
       "<Figure size 432x288 with 1 Axes>"
      ]
     },
     "metadata": {
      "needs_background": "light"
     },
     "output_type": "display_data"
    }
   ],
   "source": [
    "fig, ax = plt.subplots()\n",
    "plt.rcParams[\"figure.figsize\"] = (40,3)\n",
    "\n",
    "sns.barplot(x = df_date_day['date-day'], y = df_date_day['id'], ax = ax, linewidth = 2)\n",
    "ax.set_xlim(0)\n",
    "fig.linewidth = 100\n",
    "plt.xticks(rotation=90)\n",
    "plt.show()"
   ]
  },
  {
   "cell_type": "markdown",
   "id": "f68fce9c",
   "metadata": {},
   "source": [
    "## 10k sum"
   ]
  },
  {
   "cell_type": "code",
   "execution_count": 18,
   "id": "2ec1a057",
   "metadata": {},
   "outputs": [],
   "source": [
    "t = df.groupby([\"date-day\"]).apply(lambda x: x.sort_values([\"score\"], ascending = False)).reset_index(drop=True)\n",
    "# select top N rows within each continent"
   ]
  },
  {
   "cell_type": "code",
   "execution_count": 19,
   "id": "e9435198",
   "metadata": {},
   "outputs": [],
   "source": [
    "#t.groupby('date-day')['id','search','tweet'].head(15).to_csv(\"out_search_pop.csv\", index = False, encoding=\"utf-8\")"
   ]
  },
  {
   "cell_type": "markdown",
   "id": "3ae90a80",
   "metadata": {},
   "source": [
    "## Topics "
   ]
  },
  {
   "cell_type": "code",
   "execution_count": 20,
   "id": "0106ce9c",
   "metadata": {},
   "outputs": [
    {
     "data": {
      "text/html": [
       "<div>\n",
       "<style scoped>\n",
       "    .dataframe tbody tr th:only-of-type {\n",
       "        vertical-align: middle;\n",
       "    }\n",
       "\n",
       "    .dataframe tbody tr th {\n",
       "        vertical-align: top;\n",
       "    }\n",
       "\n",
       "    .dataframe thead th {\n",
       "        text-align: right;\n",
       "    }\n",
       "</style>\n",
       "<table border=\"1\" class=\"dataframe\">\n",
       "  <thead>\n",
       "    <tr style=\"text-align: right;\">\n",
       "      <th></th>\n",
       "      <th>index</th>\n",
       "      <th>id</th>\n",
       "      <th>conversation_id</th>\n",
       "      <th>date</th>\n",
       "      <th>tweet</th>\n",
       "      <th>hashtags</th>\n",
       "      <th>user_id_str</th>\n",
       "      <th>username</th>\n",
       "      <th>name</th>\n",
       "      <th>link</th>\n",
       "      <th>urls</th>\n",
       "      <th>photos</th>\n",
       "      <th>nlikes</th>\n",
       "      <th>nreplies</th>\n",
       "      <th>nretweets</th>\n",
       "      <th>search</th>\n",
       "      <th>reply_to</th>\n",
       "      <th>score</th>\n",
       "      <th>date-day</th>\n",
       "    </tr>\n",
       "  </thead>\n",
       "  <tbody>\n",
       "    <tr>\n",
       "      <th>0</th>\n",
       "      <td>0</td>\n",
       "      <td>1457490532758863873</td>\n",
       "      <td>1457044902034935808</td>\n",
       "      <td>2021-11-08 00:29:56</td>\n",
       "      <td>@Punkx93x @pdeuko777 @LukaszBok Segregacja nie...</td>\n",
       "      <td>[]</td>\n",
       "      <td>887039242660130817</td>\n",
       "      <td>DarBlaz01</td>\n",
       "      <td>Dariusz Błażejewski 🇪🇺🇵🇱</td>\n",
       "      <td>https://twitter.com/DarBlaz01/status/145749053...</td>\n",
       "      <td>[]</td>\n",
       "      <td>[]</td>\n",
       "      <td>0</td>\n",
       "      <td>0</td>\n",
       "      <td>0</td>\n",
       "      <td>segregacja</td>\n",
       "      <td>[{'screen_name': 'Punkx93x', 'name': 'Patryk',...</td>\n",
       "      <td>0</td>\n",
       "      <td>2021-11-08</td>\n",
       "    </tr>\n",
       "    <tr>\n",
       "      <th>1</th>\n",
       "      <td>1</td>\n",
       "      <td>1457481984171814912</td>\n",
       "      <td>1457371051231531008</td>\n",
       "      <td>2021-11-07 23:55:58</td>\n",
       "      <td>@ArturDziambor Jak to jest, może Pan wyjaśni. ...</td>\n",
       "      <td>[]</td>\n",
       "      <td>1116073702234501120</td>\n",
       "      <td>ewa_lc</td>\n",
       "      <td>Ewa LC</td>\n",
       "      <td>https://twitter.com/ewa_lc/status/145748198417...</td>\n",
       "      <td>[]</td>\n",
       "      <td>[]</td>\n",
       "      <td>0</td>\n",
       "      <td>0</td>\n",
       "      <td>0</td>\n",
       "      <td>segregacja</td>\n",
       "      <td>[{'screen_name': 'ArturDziambor', 'name': 'Art...</td>\n",
       "      <td>0</td>\n",
       "      <td>2021-11-07</td>\n",
       "    </tr>\n",
       "    <tr>\n",
       "      <th>2</th>\n",
       "      <td>2</td>\n",
       "      <td>1457474679862710280</td>\n",
       "      <td>1457463351957729282</td>\n",
       "      <td>2021-11-07 23:26:56</td>\n",
       "      <td>@Dominik51141857 Nie jestem...za segregacją sa...</td>\n",
       "      <td>[]</td>\n",
       "      <td>1338822618422652930</td>\n",
       "      <td>ARozbojnik</td>\n",
       "      <td>Alibaba Rozbójnik</td>\n",
       "      <td>https://twitter.com/ARozbojnik/status/14574746...</td>\n",
       "      <td>[]</td>\n",
       "      <td>['https://pbs.twimg.com/media/FDn9SYNWUAcpHEo....</td>\n",
       "      <td>1</td>\n",
       "      <td>0</td>\n",
       "      <td>0</td>\n",
       "      <td>segregacja</td>\n",
       "      <td>[{'screen_name': 'Dominik51141857', 'name': 'Z...</td>\n",
       "      <td>1</td>\n",
       "      <td>2021-11-07</td>\n",
       "    </tr>\n",
       "    <tr>\n",
       "      <th>3</th>\n",
       "      <td>3</td>\n",
       "      <td>1457469424227729409</td>\n",
       "      <td>1457468778510438403</td>\n",
       "      <td>2021-11-07 23:06:03</td>\n",
       "      <td>@_Dasenowa_ Pf, odkąd moje tweety dotyczą głów...</td>\n",
       "      <td>[]</td>\n",
       "      <td>3254125756</td>\n",
       "      <td>aithusade</td>\n",
       "      <td>🌴</td>\n",
       "      <td>https://twitter.com/aithusade/status/145746942...</td>\n",
       "      <td>[]</td>\n",
       "      <td>[]</td>\n",
       "      <td>1</td>\n",
       "      <td>0</td>\n",
       "      <td>0</td>\n",
       "      <td>segregacja</td>\n",
       "      <td>[{'screen_name': '_Dasenowa_', 'name': '⚡Tomys...</td>\n",
       "      <td>1</td>\n",
       "      <td>2021-11-07</td>\n",
       "    </tr>\n",
       "    <tr>\n",
       "      <th>4</th>\n",
       "      <td>4</td>\n",
       "      <td>1457467745474424835</td>\n",
       "      <td>1457446472442601483</td>\n",
       "      <td>2021-11-07 22:59:23</td>\n",
       "      <td>@Mateusz95992875 @JaskoEk @krzysztofbosak Zabi...</td>\n",
       "      <td>[]</td>\n",
       "      <td>809686449914347520</td>\n",
       "      <td>TomekPerlinski</td>\n",
       "      <td>Tomek Perliński</td>\n",
       "      <td>https://twitter.com/TomekPerlinski/status/1457...</td>\n",
       "      <td>[]</td>\n",
       "      <td>[]</td>\n",
       "      <td>0</td>\n",
       "      <td>1</td>\n",
       "      <td>0</td>\n",
       "      <td>segregacja</td>\n",
       "      <td>[{'screen_name': 'Mateusz95992875', 'name': 'M...</td>\n",
       "      <td>1</td>\n",
       "      <td>2021-11-07</td>\n",
       "    </tr>\n",
       "    <tr>\n",
       "      <th>...</th>\n",
       "      <td>...</td>\n",
       "      <td>...</td>\n",
       "      <td>...</td>\n",
       "      <td>...</td>\n",
       "      <td>...</td>\n",
       "      <td>...</td>\n",
       "      <td>...</td>\n",
       "      <td>...</td>\n",
       "      <td>...</td>\n",
       "      <td>...</td>\n",
       "      <td>...</td>\n",
       "      <td>...</td>\n",
       "      <td>...</td>\n",
       "      <td>...</td>\n",
       "      <td>...</td>\n",
       "      <td>...</td>\n",
       "      <td>...</td>\n",
       "      <td>...</td>\n",
       "      <td>...</td>\n",
       "    </tr>\n",
       "    <tr>\n",
       "      <th>442047</th>\n",
       "      <td>40973</td>\n",
       "      <td>1481341753672273931</td>\n",
       "      <td>1481341753672273931</td>\n",
       "      <td>2022-01-12 20:06:10</td>\n",
       "      <td>Pis nic nie robi w sprawie covidu ,poniewaz zw...</td>\n",
       "      <td>[]</td>\n",
       "      <td>1060225671086137344</td>\n",
       "      <td>Koloproktologi1</td>\n",
       "      <td>Filigranowa</td>\n",
       "      <td>https://twitter.com/Koloproktologi1/status/148...</td>\n",
       "      <td>[]</td>\n",
       "      <td>[]</td>\n",
       "      <td>6</td>\n",
       "      <td>0</td>\n",
       "      <td>1</td>\n",
       "      <td>certyfikatów covidowych</td>\n",
       "      <td>[]</td>\n",
       "      <td>7</td>\n",
       "      <td>2022-01-12</td>\n",
       "    </tr>\n",
       "    <tr>\n",
       "      <th>442048</th>\n",
       "      <td>40974</td>\n",
       "      <td>1481284784529846278</td>\n",
       "      <td>1481246846563627010</td>\n",
       "      <td>2022-01-12 16:19:48</td>\n",
       "      <td>@mefistofelleess W innych europejskich krajach...</td>\n",
       "      <td>[]</td>\n",
       "      <td>1421355727</td>\n",
       "      <td>Stumdemt</td>\n",
       "      <td>Stumdemt 🇵🇱🇪🇺</td>\n",
       "      <td>https://twitter.com/Stumdemt/status/1481284784...</td>\n",
       "      <td>[]</td>\n",
       "      <td>[]</td>\n",
       "      <td>4</td>\n",
       "      <td>1</td>\n",
       "      <td>0</td>\n",
       "      <td>certyfikatów covidowych</td>\n",
       "      <td>[{'screen_name': 'mefistofelleess', 'name': 'M...</td>\n",
       "      <td>5</td>\n",
       "      <td>2022-01-12</td>\n",
       "    </tr>\n",
       "    <tr>\n",
       "      <th>442049</th>\n",
       "      <td>40975</td>\n",
       "      <td>1481154577269510145</td>\n",
       "      <td>1480927011912798212</td>\n",
       "      <td>2022-01-12 07:42:24</td>\n",
       "      <td>@PolsatNewsPL @MorawieckiM Może mi ktoś powied...</td>\n",
       "      <td>[]</td>\n",
       "      <td>1424637184284532736</td>\n",
       "      <td>MowMiWuju</td>\n",
       "      <td>mgr inż. Zagłoba</td>\n",
       "      <td>https://twitter.com/MowMiWuju/status/148115457...</td>\n",
       "      <td>[]</td>\n",
       "      <td>[]</td>\n",
       "      <td>9</td>\n",
       "      <td>4</td>\n",
       "      <td>2</td>\n",
       "      <td>certyfikatów covidowych</td>\n",
       "      <td>[{'screen_name': 'PolsatNewsPL', 'name': 'Pols...</td>\n",
       "      <td>15</td>\n",
       "      <td>2022-01-12</td>\n",
       "    </tr>\n",
       "    <tr>\n",
       "      <th>442050</th>\n",
       "      <td>41021</td>\n",
       "      <td>1481327444342853639</td>\n",
       "      <td>1481327444342853639</td>\n",
       "      <td>2022-01-12 19:09:19</td>\n",
       "      <td>Przed parlamentem w Sofii doszło do starć z po...</td>\n",
       "      <td>[]</td>\n",
       "      <td>1076576528</td>\n",
       "      <td>DoRzeczy_pl</td>\n",
       "      <td>DoRzeczy</td>\n",
       "      <td>https://twitter.com/DoRzeczy_pl/status/1481327...</td>\n",
       "      <td>['https://dorzeczy.pl/swiat/250405/bulgaria-pr...</td>\n",
       "      <td>[]</td>\n",
       "      <td>104</td>\n",
       "      <td>10</td>\n",
       "      <td>27</td>\n",
       "      <td>certyfikatom covidowym</td>\n",
       "      <td>[]</td>\n",
       "      <td>141</td>\n",
       "      <td>2022-01-12</td>\n",
       "    </tr>\n",
       "    <tr>\n",
       "      <th>442051</th>\n",
       "      <td>41025</td>\n",
       "      <td>1481562447819382786</td>\n",
       "      <td>1481562447819382786</td>\n",
       "      <td>2022-01-13 10:43:08</td>\n",
       "      <td>Od lutego zmiany w certyfikatach covidowych. B...</td>\n",
       "      <td>[]</td>\n",
       "      <td>4869612250</td>\n",
       "      <td>BIPolska</td>\n",
       "      <td>Business Insider Polska 🇵🇱</td>\n",
       "      <td>https://twitter.com/BIPolska/status/1481562447...</td>\n",
       "      <td>['http://dlvr.it/SH2d4Q']</td>\n",
       "      <td>['https://pbs.twimg.com/media/FI-RMfDVgAIRL2P....</td>\n",
       "      <td>0</td>\n",
       "      <td>0</td>\n",
       "      <td>0</td>\n",
       "      <td>certyfikatach covidowych</td>\n",
       "      <td>[]</td>\n",
       "      <td>0</td>\n",
       "      <td>2022-01-13</td>\n",
       "    </tr>\n",
       "  </tbody>\n",
       "</table>\n",
       "<p>442052 rows × 19 columns</p>\n",
       "</div>"
      ],
      "text/plain": [
       "        index                   id      conversation_id                 date  \\\n",
       "0           0  1457490532758863873  1457044902034935808  2021-11-08 00:29:56   \n",
       "1           1  1457481984171814912  1457371051231531008  2021-11-07 23:55:58   \n",
       "2           2  1457474679862710280  1457463351957729282  2021-11-07 23:26:56   \n",
       "3           3  1457469424227729409  1457468778510438403  2021-11-07 23:06:03   \n",
       "4           4  1457467745474424835  1457446472442601483  2021-11-07 22:59:23   \n",
       "...       ...                  ...                  ...                  ...   \n",
       "442047  40973  1481341753672273931  1481341753672273931  2022-01-12 20:06:10   \n",
       "442048  40974  1481284784529846278  1481246846563627010  2022-01-12 16:19:48   \n",
       "442049  40975  1481154577269510145  1480927011912798212  2022-01-12 07:42:24   \n",
       "442050  41021  1481327444342853639  1481327444342853639  2022-01-12 19:09:19   \n",
       "442051  41025  1481562447819382786  1481562447819382786  2022-01-13 10:43:08   \n",
       "\n",
       "                                                    tweet hashtags  \\\n",
       "0       @Punkx93x @pdeuko777 @LukaszBok Segregacja nie...       []   \n",
       "1       @ArturDziambor Jak to jest, może Pan wyjaśni. ...       []   \n",
       "2       @Dominik51141857 Nie jestem...za segregacją sa...       []   \n",
       "3       @_Dasenowa_ Pf, odkąd moje tweety dotyczą głów...       []   \n",
       "4       @Mateusz95992875 @JaskoEk @krzysztofbosak Zabi...       []   \n",
       "...                                                   ...      ...   \n",
       "442047  Pis nic nie robi w sprawie covidu ,poniewaz zw...       []   \n",
       "442048  @mefistofelleess W innych europejskich krajach...       []   \n",
       "442049  @PolsatNewsPL @MorawieckiM Może mi ktoś powied...       []   \n",
       "442050  Przed parlamentem w Sofii doszło do starć z po...       []   \n",
       "442051  Od lutego zmiany w certyfikatach covidowych. B...       []   \n",
       "\n",
       "                user_id_str         username                        name  \\\n",
       "0        887039242660130817        DarBlaz01    Dariusz Błażejewski 🇪🇺🇵🇱   \n",
       "1       1116073702234501120           ewa_lc                      Ewa LC   \n",
       "2       1338822618422652930       ARozbojnik           Alibaba Rozbójnik   \n",
       "3                3254125756        aithusade                           🌴   \n",
       "4        809686449914347520   TomekPerlinski             Tomek Perliński   \n",
       "...                     ...              ...                         ...   \n",
       "442047  1060225671086137344  Koloproktologi1                 Filigranowa   \n",
       "442048           1421355727         Stumdemt               Stumdemt 🇵🇱🇪🇺   \n",
       "442049  1424637184284532736        MowMiWuju            mgr inż. Zagłoba   \n",
       "442050           1076576528      DoRzeczy_pl                    DoRzeczy   \n",
       "442051           4869612250         BIPolska  Business Insider Polska 🇵🇱   \n",
       "\n",
       "                                                     link  \\\n",
       "0       https://twitter.com/DarBlaz01/status/145749053...   \n",
       "1       https://twitter.com/ewa_lc/status/145748198417...   \n",
       "2       https://twitter.com/ARozbojnik/status/14574746...   \n",
       "3       https://twitter.com/aithusade/status/145746942...   \n",
       "4       https://twitter.com/TomekPerlinski/status/1457...   \n",
       "...                                                   ...   \n",
       "442047  https://twitter.com/Koloproktologi1/status/148...   \n",
       "442048  https://twitter.com/Stumdemt/status/1481284784...   \n",
       "442049  https://twitter.com/MowMiWuju/status/148115457...   \n",
       "442050  https://twitter.com/DoRzeczy_pl/status/1481327...   \n",
       "442051  https://twitter.com/BIPolska/status/1481562447...   \n",
       "\n",
       "                                                     urls  \\\n",
       "0                                                      []   \n",
       "1                                                      []   \n",
       "2                                                      []   \n",
       "3                                                      []   \n",
       "4                                                      []   \n",
       "...                                                   ...   \n",
       "442047                                                 []   \n",
       "442048                                                 []   \n",
       "442049                                                 []   \n",
       "442050  ['https://dorzeczy.pl/swiat/250405/bulgaria-pr...   \n",
       "442051                          ['http://dlvr.it/SH2d4Q']   \n",
       "\n",
       "                                                   photos  nlikes  nreplies  \\\n",
       "0                                                      []       0         0   \n",
       "1                                                      []       0         0   \n",
       "2       ['https://pbs.twimg.com/media/FDn9SYNWUAcpHEo....       1         0   \n",
       "3                                                      []       1         0   \n",
       "4                                                      []       0         1   \n",
       "...                                                   ...     ...       ...   \n",
       "442047                                                 []       6         0   \n",
       "442048                                                 []       4         1   \n",
       "442049                                                 []       9         4   \n",
       "442050                                                 []     104        10   \n",
       "442051  ['https://pbs.twimg.com/media/FI-RMfDVgAIRL2P....       0         0   \n",
       "\n",
       "        nretweets                    search  \\\n",
       "0               0                segregacja   \n",
       "1               0                segregacja   \n",
       "2               0                segregacja   \n",
       "3               0                segregacja   \n",
       "4               0                segregacja   \n",
       "...           ...                       ...   \n",
       "442047          1   certyfikatów covidowych   \n",
       "442048          0   certyfikatów covidowych   \n",
       "442049          2   certyfikatów covidowych   \n",
       "442050         27    certyfikatom covidowym   \n",
       "442051          0  certyfikatach covidowych   \n",
       "\n",
       "                                                 reply_to  score    date-day  \n",
       "0       [{'screen_name': 'Punkx93x', 'name': 'Patryk',...      0  2021-11-08  \n",
       "1       [{'screen_name': 'ArturDziambor', 'name': 'Art...      0  2021-11-07  \n",
       "2       [{'screen_name': 'Dominik51141857', 'name': 'Z...      1  2021-11-07  \n",
       "3       [{'screen_name': '_Dasenowa_', 'name': '⚡Tomys...      1  2021-11-07  \n",
       "4       [{'screen_name': 'Mateusz95992875', 'name': 'M...      1  2021-11-07  \n",
       "...                                                   ...    ...         ...  \n",
       "442047                                                 []      7  2022-01-12  \n",
       "442048  [{'screen_name': 'mefistofelleess', 'name': 'M...      5  2022-01-12  \n",
       "442049  [{'screen_name': 'PolsatNewsPL', 'name': 'Pols...     15  2022-01-12  \n",
       "442050                                                 []    141  2022-01-12  \n",
       "442051                                                 []      0  2022-01-13  \n",
       "\n",
       "[442052 rows x 19 columns]"
      ]
     },
     "execution_count": 20,
     "metadata": {},
     "output_type": "execute_result"
    }
   ],
   "source": [
    "df"
   ]
  },
  {
   "cell_type": "code",
   "execution_count": null,
   "id": "58885f19",
   "metadata": {},
   "outputs": [],
   "source": []
  }
 ],
 "metadata": {
  "kernelspec": {
   "display_name": "Python 3",
   "language": "python",
   "name": "python3"
  },
  "language_info": {
   "codemirror_mode": {
    "name": "ipython",
    "version": 3
   },
   "file_extension": ".py",
   "mimetype": "text/x-python",
   "name": "python",
   "nbconvert_exporter": "python",
   "pygments_lexer": "ipython3",
   "version": "3.8.10"
  }
 },
 "nbformat": 4,
 "nbformat_minor": 5
}
