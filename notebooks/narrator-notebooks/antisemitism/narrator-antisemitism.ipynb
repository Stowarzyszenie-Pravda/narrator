{
 "cells": [
  {
   "cell_type": "code",
   "execution_count": 87,
   "metadata": {},
   "outputs": [
    {
     "name": "stderr",
     "output_type": "stream",
     "text": [
      "c:\\users\\kubas\\appdata\\local\\programs\\python\\python38\\lib\\site-packages\\ipykernel\\ipkernel.py:283: DeprecationWarning: `should_run_async` will not call `transform_cell` automatically in the future. Please pass the result to `transformed_cell` argument and any exception that happen during thetransform in `preprocessing_exc_tuple` in IPython 7.17 and above.\n",
      "  and should_run_async(code)\n"
     ]
    }
   ],
   "source": [
    "import pandas as pd\n",
    "pd.set_option(\"display.max_columns\", None)\n",
    "\n",
    "import numpy as np\n",
    "import seaborn as sns\n",
    "\n",
    "import matplotlib.pyplot as plt"
   ]
  },
  {
   "cell_type": "code",
   "execution_count": 88,
   "metadata": {},
   "outputs": [
    {
     "name": "stderr",
     "output_type": "stream",
     "text": [
      "c:\\users\\kubas\\appdata\\local\\programs\\python\\python38\\lib\\site-packages\\ipykernel\\ipkernel.py:283: DeprecationWarning: `should_run_async` will not call `transform_cell` automatically in the future. Please pass the result to `transformed_cell` argument and any exception that happen during thetransform in `preprocessing_exc_tuple` in IPython 7.17 and above.\n",
      "  and should_run_async(code)\n"
     ]
    }
   ],
   "source": [
    "data = pd.read_csv(\"../../../data/twitter-scraped-data/antisemitism/processed.csv\")"
   ]
  },
  {
   "cell_type": "code",
   "execution_count": 89,
   "metadata": {},
   "outputs": [
    {
     "name": "stderr",
     "output_type": "stream",
     "text": [
      "c:\\users\\kubas\\appdata\\local\\programs\\python\\python38\\lib\\site-packages\\ipykernel\\ipkernel.py:283: DeprecationWarning: `should_run_async` will not call `transform_cell` automatically in the future. Please pass the result to `transformed_cell` argument and any exception that happen during thetransform in `preprocessing_exc_tuple` in IPython 7.17 and above.\n",
      "  and should_run_async(code)\n"
     ]
    },
    {
     "data": {
      "text/html": [
       "<div>\n",
       "<style scoped>\n",
       "    .dataframe tbody tr th:only-of-type {\n",
       "        vertical-align: middle;\n",
       "    }\n",
       "\n",
       "    .dataframe tbody tr th {\n",
       "        vertical-align: top;\n",
       "    }\n",
       "\n",
       "    .dataframe thead th {\n",
       "        text-align: right;\n",
       "    }\n",
       "</style>\n",
       "<table border=\"1\" class=\"dataframe\">\n",
       "  <thead>\n",
       "    <tr style=\"text-align: right;\">\n",
       "      <th></th>\n",
       "      <th>id</th>\n",
       "      <th>conversation_id</th>\n",
       "      <th>date</th>\n",
       "      <th>tweet</th>\n",
       "      <th>hashtags</th>\n",
       "      <th>user_id_str</th>\n",
       "      <th>username</th>\n",
       "      <th>name</th>\n",
       "      <th>link</th>\n",
       "      <th>urls</th>\n",
       "      <th>photos</th>\n",
       "      <th>nlikes</th>\n",
       "      <th>nreplies</th>\n",
       "      <th>nretweets</th>\n",
       "      <th>search</th>\n",
       "      <th>reply_to</th>\n",
       "      <th>score</th>\n",
       "      <th>cleaned_tweet</th>\n",
       "      <th>lg_number_of_capital_letters</th>\n",
       "      <th>lg_number_of_words_starting_with_capital_letters</th>\n",
       "      <th>lg_percent_of_complex_nouns</th>\n",
       "      <th>lg_percent_of_nouns</th>\n",
       "      <th>lg_percent_of_complex_verbs</th>\n",
       "      <th>lg_percent_of_verbs</th>\n",
       "      <th>lg_percent_of_complex_adjectives</th>\n",
       "      <th>lg_percent_of_adjectives</th>\n",
       "      <th>lg_noun_to_verb_ratio</th>\n",
       "      <th>lg_number_of_words</th>\n",
       "      <th>lg_number_of_complex_words</th>\n",
       "      <th>lg_percent_of_complex_words</th>\n",
       "      <th>lg_number_of_sentences</th>\n",
       "      <th>lg_average_sentence_length</th>\n",
       "      <th>lg_fog_index</th>\n",
       "      <th>lg_pisarek_index</th>\n",
       "      <th>lg_contains_badword</th>\n",
       "      <th>purified_tweet</th>\n",
       "    </tr>\n",
       "  </thead>\n",
       "  <tbody>\n",
       "    <tr>\n",
       "      <th>0</th>\n",
       "      <td>1465100306920972293</td>\n",
       "      <td>1465053734241714184</td>\n",
       "      <td>2021-11-29 00:28:28</td>\n",
       "      <td>@EmiliaKaminska @JerzyOstrowski5 @gazeta_wyborcza Jak żyd w okupacji</td>\n",
       "      <td>[]</td>\n",
       "      <td>1289137837972107264</td>\n",
       "      <td>JacekKo11354585</td>\n",
       "      <td>Jacek Kowalski</td>\n",
       "      <td>https://twitter.com/JacekKo11354585/status/1465100306920972293</td>\n",
       "      <td>[]</td>\n",
       "      <td>[]</td>\n",
       "      <td>1</td>\n",
       "      <td>0</td>\n",
       "      <td>0</td>\n",
       "      <td>Żyd</td>\n",
       "      <td>[{'screen_name': 'EmiliaKaminska', 'name': 'Emilia Kamińska', 'id': '923171498382254080'}, {'screen_name': 'JerzyOstrowski5', 'name': 'Jurek Ostrowski🇵🇱PL', 'id': '931530722338377728'}, {'screen_name': 'gazeta_wyborcza', 'name': 'Gazeta Wyborcza.pl', 'id': '19179390'}]</td>\n",
       "      <td>1</td>\n",
       "      <td>Jak żyd w okupacji</td>\n",
       "      <td>1</td>\n",
       "      <td>1</td>\n",
       "      <td>25.000000</td>\n",
       "      <td>50.000000</td>\n",
       "      <td>0.000000</td>\n",
       "      <td>0.000000</td>\n",
       "      <td>0.000000</td>\n",
       "      <td>0.000000</td>\n",
       "      <td>-1.000000</td>\n",
       "      <td>4</td>\n",
       "      <td>1</td>\n",
       "      <td>25.000000</td>\n",
       "      <td>1</td>\n",
       "      <td>4.00</td>\n",
       "      <td>11.600000</td>\n",
       "      <td>12.658989</td>\n",
       "      <td>False</td>\n",
       "      <td>żyd okupacji</td>\n",
       "    </tr>\n",
       "    <tr>\n",
       "      <th>1</th>\n",
       "      <td>1465099908365664258</td>\n",
       "      <td>1464992046821871621</td>\n",
       "      <td>2021-11-29 00:26:53</td>\n",
       "      <td>@AM_Zukowska Jako żyd dziękuję. Ale zastanawia mnie ta nierówność traktowania przez Panią żydów i katolików.</td>\n",
       "      <td>[]</td>\n",
       "      <td>1161341418146807808</td>\n",
       "      <td>lignator3</td>\n",
       "      <td>lignator</td>\n",
       "      <td>https://twitter.com/lignator3/status/1465099908365664258</td>\n",
       "      <td>[]</td>\n",
       "      <td>[]</td>\n",
       "      <td>0</td>\n",
       "      <td>0</td>\n",
       "      <td>0</td>\n",
       "      <td>Żyd</td>\n",
       "      <td>[{'screen_name': 'AM_Zukowska', 'name': 'Anna-Maria Żukowska 💁🏻\\u200d♀️ #Lewica ↙️↙️↙️🏳️\\u200d🌈☮️', 'id': '941899796'}]</td>\n",
       "      <td>0</td>\n",
       "      <td>Jako żyd dziękuję. Ale zastanawia mnie ta nierówność traktowania przez Panią żydów i katolików.</td>\n",
       "      <td>3</td>\n",
       "      <td>3</td>\n",
       "      <td>7.142857</td>\n",
       "      <td>35.714286</td>\n",
       "      <td>7.142857</td>\n",
       "      <td>21.428571</td>\n",
       "      <td>0.000000</td>\n",
       "      <td>0.000000</td>\n",
       "      <td>1.666667</td>\n",
       "      <td>14</td>\n",
       "      <td>2</td>\n",
       "      <td>14.285714</td>\n",
       "      <td>2</td>\n",
       "      <td>8.00</td>\n",
       "      <td>8.514286</td>\n",
       "      <td>7.954270</td>\n",
       "      <td>False</td>\n",
       "      <td>żyd dziękuję zastanawia nierówność traktowania panią żydów katolików</td>\n",
       "    </tr>\n",
       "    <tr>\n",
       "      <th>2</th>\n",
       "      <td>1465096114126864391</td>\n",
       "      <td>1464992046821871621</td>\n",
       "      <td>2021-11-29 00:11:48</td>\n",
       "      <td>@AM_Zukowska Zaden szanujacy sie Zyd nie bedzie komunista.</td>\n",
       "      <td>[]</td>\n",
       "      <td>1329201104526127104</td>\n",
       "      <td>Wonski4</td>\n",
       "      <td>Hebrew Hammer</td>\n",
       "      <td>https://twitter.com/Wonski4/status/1465096114126864391</td>\n",
       "      <td>[]</td>\n",
       "      <td>[]</td>\n",
       "      <td>1</td>\n",
       "      <td>0</td>\n",
       "      <td>0</td>\n",
       "      <td>Żyd</td>\n",
       "      <td>[{'screen_name': 'AM_Zukowska', 'name': 'Anna-Maria Żukowska 💁🏻\\u200d♀️ #Lewica ↙️↙️↙️🏳️\\u200d🌈☮️', 'id': '941899796'}]</td>\n",
       "      <td>1</td>\n",
       "      <td>Zaden szanujacy sie Zyd nie bedzie komunista.</td>\n",
       "      <td>2</td>\n",
       "      <td>2</td>\n",
       "      <td>28.571429</td>\n",
       "      <td>28.571429</td>\n",
       "      <td>0.000000</td>\n",
       "      <td>0.000000</td>\n",
       "      <td>0.000000</td>\n",
       "      <td>14.285714</td>\n",
       "      <td>-1.000000</td>\n",
       "      <td>7</td>\n",
       "      <td>2</td>\n",
       "      <td>28.571429</td>\n",
       "      <td>1</td>\n",
       "      <td>8.00</td>\n",
       "      <td>14.228571</td>\n",
       "      <td>14.708217</td>\n",
       "      <td>False</td>\n",
       "      <td>szanujacy zyd komunista</td>\n",
       "    </tr>\n",
       "    <tr>\n",
       "      <th>3</th>\n",
       "      <td>1465082612301668364</td>\n",
       "      <td>1465058551106256905</td>\n",
       "      <td>2021-11-28 23:18:09</td>\n",
       "      <td>@PitBrat51 o, żyd daniels opowiedział się po właściwej stronie, szpieg mosadu na salonach witany jak mesjasz</td>\n",
       "      <td>[]</td>\n",
       "      <td>859073386584178690</td>\n",
       "      <td>m_odziej</td>\n",
       "      <td>Młodziej ♂️ 🇵🇱 كافر #WhiteLivesMatter ***** tvn</td>\n",
       "      <td>https://twitter.com/m_odziej/status/1465082612301668364</td>\n",
       "      <td>[]</td>\n",
       "      <td>[]</td>\n",
       "      <td>2</td>\n",
       "      <td>0</td>\n",
       "      <td>0</td>\n",
       "      <td>Żyd</td>\n",
       "      <td>[{'screen_name': 'PitBrat51', 'name': 'Pit Brat 5', 'id': '1397490063676747776'}]</td>\n",
       "      <td>2</td>\n",
       "      <td>o, żyd daniels opowiedział się po właściwej stronie, szpieg mosadu na salonach witany jak mesjasz</td>\n",
       "      <td>0</td>\n",
       "      <td>0</td>\n",
       "      <td>0.000000</td>\n",
       "      <td>33.333333</td>\n",
       "      <td>6.666667</td>\n",
       "      <td>6.666667</td>\n",
       "      <td>0.000000</td>\n",
       "      <td>20.000000</td>\n",
       "      <td>5.000000</td>\n",
       "      <td>15</td>\n",
       "      <td>1</td>\n",
       "      <td>6.666667</td>\n",
       "      <td>1</td>\n",
       "      <td>17.00</td>\n",
       "      <td>8.666667</td>\n",
       "      <td>8.207382</td>\n",
       "      <td>False</td>\n",
       "      <td>żyd daniels opowiedział właściwej stronie szpieg mosadu salonach witany mesjasz</td>\n",
       "    </tr>\n",
       "    <tr>\n",
       "      <th>4</th>\n",
       "      <td>1465080064219955202</td>\n",
       "      <td>1464292873898237959</td>\n",
       "      <td>2021-11-28 23:08:01</td>\n",
       "      <td>@MuzeumAuschwitz Przykre...cieszę się, że teraz Ci ludzie wracają \"do żywych\". Pamięć po nich bedzie. Bede wdzieczna rowniez za dookreslanie innych narodowosci (tak jak tutaj napisane jest \"holenderski  Żyd\", tak przy innych wyznaniach rowniez byloby to wskazane np niemiecki Ewangelik</td>\n",
       "      <td>[]</td>\n",
       "      <td>1440208701562908680</td>\n",
       "      <td>Anna80693377</td>\n",
       "      <td>Anna</td>\n",
       "      <td>https://twitter.com/Anna80693377/status/1465080064219955202</td>\n",
       "      <td>[]</td>\n",
       "      <td>[]</td>\n",
       "      <td>0</td>\n",
       "      <td>0</td>\n",
       "      <td>0</td>\n",
       "      <td>Żyd</td>\n",
       "      <td>[{'screen_name': 'MuzeumAuschwitz', 'name': 'Muzeum Auschwitz', 'id': '1239961987154575360'}]</td>\n",
       "      <td>0</td>\n",
       "      <td>Przykre...cieszę się, że teraz Ci ludzie wracają \"do żywych\". Pamięć po nich bedzie. Bede wdzieczna rowniez za dookreslanie innych narodowosci (tak jak tutaj napisane jest \"holenderski Żyd\", tak przy innych wyznaniach rowniez byloby to wskazane np niemiecki Ewangelik</td>\n",
       "      <td>5</td>\n",
       "      <td>6</td>\n",
       "      <td>2.564103</td>\n",
       "      <td>15.384615</td>\n",
       "      <td>0.000000</td>\n",
       "      <td>7.692308</td>\n",
       "      <td>5.128205</td>\n",
       "      <td>20.512821</td>\n",
       "      <td>2.000000</td>\n",
       "      <td>39</td>\n",
       "      <td>4</td>\n",
       "      <td>10.256410</td>\n",
       "      <td>4</td>\n",
       "      <td>12.25</td>\n",
       "      <td>8.002564</td>\n",
       "      <td>7.075600</td>\n",
       "      <td>False</td>\n",
       "      <td>przykrecieszę ludzie wracają żywych pamięć wdzieczna dookreslanie narodowosci napisane holenderski żyd wyznaniach byloby wskazane np niemiecki ewangelik</td>\n",
       "    </tr>\n",
       "  </tbody>\n",
       "</table>\n",
       "</div>"
      ],
      "text/plain": [
       "                    id      conversation_id                 date                                                                                                                                                                                                                                                                                          tweet hashtags          user_id_str         username                                             name                                                            link urls photos  nlikes  nreplies  nretweets search                                                                                                                                                                                                                                                                       reply_to  score                                                                                                                                                                                                                                                                cleaned_tweet  lg_number_of_capital_letters  lg_number_of_words_starting_with_capital_letters  lg_percent_of_complex_nouns  lg_percent_of_nouns  lg_percent_of_complex_verbs  lg_percent_of_verbs  lg_percent_of_complex_adjectives  lg_percent_of_adjectives  lg_noun_to_verb_ratio  lg_number_of_words  lg_number_of_complex_words  lg_percent_of_complex_words  lg_number_of_sentences  lg_average_sentence_length  lg_fog_index  lg_pisarek_index  lg_contains_badword                                                                                                                                            purified_tweet\n",
       "0  1465100306920972293  1465053734241714184  2021-11-29 00:28:28  @EmiliaKaminska @JerzyOstrowski5 @gazeta_wyborcza Jak żyd w okupacji                                                                                                                                                                                                                           []       1289137837972107264  JacekKo11354585  Jacek Kowalski                                   https://twitter.com/JacekKo11354585/status/1465100306920972293  []   []     1       0         0          Żyd    [{'screen_name': 'EmiliaKaminska', 'name': 'Emilia Kamińska', 'id': '923171498382254080'}, {'screen_name': 'JerzyOstrowski5', 'name': 'Jurek Ostrowski🇵🇱PL', 'id': '931530722338377728'}, {'screen_name': 'gazeta_wyborcza', 'name': 'Gazeta Wyborcza.pl', 'id': '19179390'}]  1      Jak żyd w okupacji                                                                                                                                                                                                                                                           1                             1                                                 25.000000                    50.000000            0.000000                     0.000000             0.000000                          0.000000                 -1.000000               4                   1                           25.000000                    1                       4.00                        11.600000     12.658989         False                żyd okupacji                                                                                                                                            \n",
       "1  1465099908365664258  1464992046821871621  2021-11-29 00:26:53  @AM_Zukowska Jako żyd dziękuję. Ale zastanawia mnie ta nierówność traktowania przez Panią żydów i katolików.                                                                                                                                                                                   []       1161341418146807808  lignator3        lignator                                         https://twitter.com/lignator3/status/1465099908365664258        []   []     0       0         0          Żyd    [{'screen_name': 'AM_Zukowska', 'name': 'Anna-Maria Żukowska 💁🏻\\u200d♀️ #Lewica ↙️↙️↙️🏳️\\u200d🌈☮️', 'id': '941899796'}]                                                                                                                                                        0      Jako żyd dziękuję. Ale zastanawia mnie ta nierówność traktowania przez Panią żydów i katolików.                                                                                                                                                                              3                             3                                                 7.142857                     35.714286            7.142857                     21.428571            0.000000                          0.000000                  1.666667               14                  2                           14.285714                    2                       8.00                        8.514286      7.954270          False                żyd dziękuję zastanawia nierówność traktowania panią żydów katolików                                                                                    \n",
       "2  1465096114126864391  1464992046821871621  2021-11-29 00:11:48  @AM_Zukowska Zaden szanujacy sie Zyd nie bedzie komunista.                                                                                                                                                                                                                                     []       1329201104526127104  Wonski4          Hebrew Hammer                                    https://twitter.com/Wonski4/status/1465096114126864391          []   []     1       0         0          Żyd    [{'screen_name': 'AM_Zukowska', 'name': 'Anna-Maria Żukowska 💁🏻\\u200d♀️ #Lewica ↙️↙️↙️🏳️\\u200d🌈☮️', 'id': '941899796'}]                                                                                                                                                        1      Zaden szanujacy sie Zyd nie bedzie komunista.                                                                                                                                                                                                                                2                             2                                                 28.571429                    28.571429            0.000000                     0.000000             0.000000                          14.285714                -1.000000               7                   2                           28.571429                    1                       8.00                        14.228571     14.708217         False                szanujacy zyd komunista                                                                                                                                 \n",
       "3  1465082612301668364  1465058551106256905  2021-11-28 23:18:09  @PitBrat51 o, żyd daniels opowiedział się po właściwej stronie, szpieg mosadu na salonach witany jak mesjasz                                                                                                                                                                                   []       859073386584178690   m_odziej         Młodziej ♂️ 🇵🇱 كافر #WhiteLivesMatter ***** tvn  https://twitter.com/m_odziej/status/1465082612301668364         []   []     2       0         0          Żyd    [{'screen_name': 'PitBrat51', 'name': 'Pit Brat 5', 'id': '1397490063676747776'}]                                                                                                                                                                                              2      o, żyd daniels opowiedział się po właściwej stronie, szpieg mosadu na salonach witany jak mesjasz                                                                                                                                                                            0                             0                                                 0.000000                     33.333333            6.666667                     6.666667             0.000000                          20.000000                 5.000000               15                  1                           6.666667                     1                       17.00                       8.666667      8.207382          False                żyd daniels opowiedział właściwej stronie szpieg mosadu salonach witany mesjasz                                                                         \n",
       "4  1465080064219955202  1464292873898237959  2021-11-28 23:08:01  @MuzeumAuschwitz Przykre...cieszę się, że teraz Ci ludzie wracają \"do żywych\". Pamięć po nich bedzie. Bede wdzieczna rowniez za dookreslanie innych narodowosci (tak jak tutaj napisane jest \"holenderski  Żyd\", tak przy innych wyznaniach rowniez byloby to wskazane np niemiecki Ewangelik  []       1440208701562908680  Anna80693377     Anna                                             https://twitter.com/Anna80693377/status/1465080064219955202     []   []     0       0         0          Żyd    [{'screen_name': 'MuzeumAuschwitz', 'name': 'Muzeum Auschwitz', 'id': '1239961987154575360'}]                                                                                                                                                                                  0      Przykre...cieszę się, że teraz Ci ludzie wracają \"do żywych\". Pamięć po nich bedzie. Bede wdzieczna rowniez za dookreslanie innych narodowosci (tak jak tutaj napisane jest \"holenderski Żyd\", tak przy innych wyznaniach rowniez byloby to wskazane np niemiecki Ewangelik  5                             6                                                 2.564103                     15.384615            0.000000                     7.692308             5.128205                          20.512821                 2.000000               39                  4                           10.256410                    4                       12.25                       8.002564      7.075600          False                przykrecieszę ludzie wracają żywych pamięć wdzieczna dookreslanie narodowosci napisane holenderski żyd wyznaniach byloby wskazane np niemiecki ewangelik"
      ]
     },
     "execution_count": 89,
     "metadata": {},
     "output_type": "execute_result"
    }
   ],
   "source": [
    "data.head()"
   ]
  },
  {
   "cell_type": "code",
   "execution_count": 90,
   "metadata": {},
   "outputs": [
    {
     "name": "stderr",
     "output_type": "stream",
     "text": [
      "c:\\users\\kubas\\appdata\\local\\programs\\python\\python38\\lib\\site-packages\\ipykernel\\ipkernel.py:283: DeprecationWarning: `should_run_async` will not call `transform_cell` automatically in the future. Please pass the result to `transformed_cell` argument and any exception that happen during thetransform in `preprocessing_exc_tuple` in IPython 7.17 and above.\n",
      "  and should_run_async(code)\n"
     ]
    },
    {
     "data": {
      "image/png": "[encoded data removed]",
      "text/plain": [
       "<Figure size 432x288 with 1 Axes>"
      ]
     },
     "metadata": {
      "needs_background": "light"
     },
     "output_type": "display_data"
    },
    {
     "data": {
      "text/plain": [
       "<Figure size 1080x1440 with 0 Axes>"
      ]
     },
     "metadata": {},
     "output_type": "display_data"
    },
    {
     "name": "stdout",
     "output_type": "stream",
     "text": [
      "count    63268.000000\n",
      "mean     8.062219    \n",
      "std      4.897524    \n",
      "min     -1.000000    \n",
      "25%      4.450000    \n",
      "50%      8.010526    \n",
      "75%      10.800000   \n",
      "max      40.800000   \n",
      "Name: lg_fog_index, dtype: float64\n"
     ]
    }
   ],
   "source": [
    "# Fog index distribution\n",
    "fig, ax = plt.subplots()\n",
    "plt.figure(figsize=(15,20))\n",
    "\n",
    "sns.histplot(data['lg_fog_index'], kde = True, ax = ax)\n",
    "ax.set_xlim(0,26)\n",
    "ax.set_xticks(range(0, 28, 2))\n",
    "plt.show()\n",
    "\n",
    "print(data['lg_fog_index'].describe())\n",
    "#Fog index histplot shows the average of 8 points with standard deviation of 4.8. 8 points means that most of the tweets are around 8th grader level."
   ]
  },
  {
   "cell_type": "code",
   "execution_count": 91,
   "metadata": {},
   "outputs": [
    {
     "name": "stderr",
     "output_type": "stream",
     "text": [
      "c:\\users\\kubas\\appdata\\local\\programs\\python\\python38\\lib\\site-packages\\ipykernel\\ipkernel.py:283: DeprecationWarning: `should_run_async` will not call `transform_cell` automatically in the future. Please pass the result to `transformed_cell` argument and any exception that happen during thetransform in `preprocessing_exc_tuple` in IPython 7.17 and above.\n",
      "  and should_run_async(code)\n"
     ]
    },
    {
     "data": {
      "image/png": "[encoded data removed]",
      "text/plain": [
       "<Figure size 432x288 with 1 Axes>"
      ]
     },
     "metadata": {
      "needs_background": "light"
     },
     "output_type": "display_data"
    },
    {
     "data": {
      "text/plain": [
       "<Figure size 1080x1440 with 0 Axes>"
      ]
     },
     "metadata": {},
     "output_type": "display_data"
    },
    {
     "name": "stdout",
     "output_type": "stream",
     "text": [
      "count    63268.000000\n",
      "mean     7.845247    \n",
      "std      4.735163    \n",
      "min     -1.000000    \n",
      "25%      4.500000    \n",
      "50%      7.231325    \n",
      "75%      10.151970   \n",
      "max      50.009999   \n",
      "Name: lg_pisarek_index, dtype: float64\n"
     ]
    }
   ],
   "source": [
    "\n",
    "fig, ax = plt.subplots()\n",
    "plt.figure(figsize=(15,20))\n",
    "\n",
    "sns.histplot(data['lg_pisarek_index'], kde = True, ax = ax)\n",
    "ax.set_xlim(0,26)\n",
    "ax.set_xticks(range(0, 28, 2))\n",
    "plt.show()\n",
    "\n",
    "print(data['lg_pisarek_index'].describe())"
   ]
  },
  {
   "cell_type": "markdown",
   "metadata": {},
   "source": [
    "## Extra cleaning"
   ]
  },
  {
   "cell_type": "code",
   "execution_count": 92,
   "metadata": {},
   "outputs": [
    {
     "name": "stderr",
     "output_type": "stream",
     "text": [
      "c:\\users\\kubas\\appdata\\local\\programs\\python\\python38\\lib\\site-packages\\ipykernel\\ipkernel.py:283: DeprecationWarning: `should_run_async` will not call `transform_cell` automatically in the future. Please pass the result to `transformed_cell` argument and any exception that happen during thetransform in `preprocessing_exc_tuple` in IPython 7.17 and above.\n",
      "  and should_run_async(code)\n"
     ]
    }
   ],
   "source": [
    "#Deleting https://twitter.com/melodrama_tures. It is a bot.\n",
    "data['purified_tweet'] = data[data['username'] != 'melodrama_tures']['purified_tweet']"
   ]
  },
  {
   "cell_type": "code",
   "execution_count": 93,
   "metadata": {},
   "outputs": [
    {
     "name": "stderr",
     "output_type": "stream",
     "text": [
      "c:\\users\\kubas\\appdata\\local\\programs\\python\\python38\\lib\\site-packages\\ipykernel\\ipkernel.py:283: DeprecationWarning: `should_run_async` will not call `transform_cell` automatically in the future. Please pass the result to `transformed_cell` argument and any exception that happen during thetransform in `preprocessing_exc_tuple` in IPython 7.17 and above.\n",
      "  and should_run_async(code)\n"
     ]
    }
   ],
   "source": [
    "#Deleting search keywords\n",
    "search_keyword_list = sorted(list(data['search'].unique()), key = len, reverse = True)\n",
    "search_keyword_list.append('zyda')"
   ]
  },
  {
   "cell_type": "markdown",
   "metadata": {},
   "source": [
    "## WordCloud"
   ]
  },
  {
   "cell_type": "code",
   "execution_count": 94,
   "metadata": {},
   "outputs": [
    {
     "name": "stderr",
     "output_type": "stream",
     "text": [
      "c:\\users\\kubas\\appdata\\local\\programs\\python\\python38\\lib\\site-packages\\ipykernel\\ipkernel.py:283: DeprecationWarning: `should_run_async` will not call `transform_cell` automatically in the future. Please pass the result to `transformed_cell` argument and any exception that happen during thetransform in `preprocessing_exc_tuple` in IPython 7.17 and above.\n",
      "  and should_run_async(code)\n"
     ]
    }
   ],
   "source": [
    "from wordcloud import WordCloud\n",
    "\n",
    "stringed_data = data['purified_tweet'].to_string()\n",
    "\n",
    "for search_keyword in search_keyword_list:\n",
    "    stringed_data = stringed_data.replace(search_keyword.lower(), '')"
   ]
  },
  {
   "cell_type": "code",
   "execution_count": 95,
   "metadata": {},
   "outputs": [
    {
     "name": "stderr",
     "output_type": "stream",
     "text": [
      "c:\\users\\kubas\\appdata\\local\\programs\\python\\python38\\lib\\site-packages\\ipykernel\\ipkernel.py:283: DeprecationWarning: `should_run_async` will not call `transform_cell` automatically in the future. Please pass the result to `transformed_cell` argument and any exception that happen during thetransform in `preprocessing_exc_tuple` in IPython 7.17 and above.\n",
      "  and should_run_async(code)\n"
     ]
    },
    {
     "data": {
      "text/plain": [
       "<wordcloud.wordcloud.WordCloud at 0x2b886450b50>"
      ]
     },
     "execution_count": 95,
     "metadata": {},
     "output_type": "execute_result"
    }
   ],
   "source": [
    "wordcloud = WordCloud(width = 800, height = 400, random_state=1, background_color='white', colormap='winter', collocations=False).generate(stringed_data)\n",
    "wordcloud.to_file(\"general_wordcloud.png\")"
   ]
  },
  {
   "cell_type": "markdown",
   "metadata": {},
   "source": [
    "## Vectorization"
   ]
  },
  {
   "cell_type": "code",
   "execution_count": 96,
   "metadata": {},
   "outputs": [
    {
     "name": "stderr",
     "output_type": "stream",
     "text": [
      "c:\\users\\kubas\\appdata\\local\\programs\\python\\python38\\lib\\site-packages\\ipykernel\\ipkernel.py:283: DeprecationWarning: `should_run_async` will not call `transform_cell` automatically in the future. Please pass the result to `transformed_cell` argument and any exception that happen during thetransform in `preprocessing_exc_tuple` in IPython 7.17 and above.\n",
      "  and should_run_async(code)\n"
     ]
    }
   ],
   "source": [
    "from sklearn.decomposition import NMF, LatentDirichletAllocation, TruncatedSVD\n",
    "from sklearn.feature_extraction.text import TfidfVectorizer, CountVectorizer"
   ]
  },
  {
   "cell_type": "code",
   "execution_count": 97,
   "metadata": {},
   "outputs": [
    {
     "name": "stderr",
     "output_type": "stream",
     "text": [
      "c:\\users\\kubas\\appdata\\local\\programs\\python\\python38\\lib\\site-packages\\ipykernel\\ipkernel.py:283: DeprecationWarning: `should_run_async` will not call `transform_cell` automatically in the future. Please pass the result to `transformed_cell` argument and any exception that happen during thetransform in `preprocessing_exc_tuple` in IPython 7.17 and above.\n",
      "  and should_run_async(code)\n"
     ]
    }
   ],
   "source": [
    "NUMBER_OF_TOPICS = 10"
   ]
  },
  {
   "cell_type": "code",
   "execution_count": 98,
   "metadata": {},
   "outputs": [
    {
     "name": "stderr",
     "output_type": "stream",
     "text": [
      "c:\\users\\kubas\\appdata\\local\\programs\\python\\python38\\lib\\site-packages\\ipykernel\\ipkernel.py:283: DeprecationWarning: `should_run_async` will not call `transform_cell` automatically in the future. Please pass the result to `transformed_cell` argument and any exception that happen during thetransform in `preprocessing_exc_tuple` in IPython 7.17 and above.\n",
      "  and should_run_async(code)\n"
     ]
    }
   ],
   "source": [
    "def search_keyword_replace(tweet):\n",
    "    if type(tweet) == str:\n",
    "        for search_keyword in search_keyword_list:\n",
    "            tweet = tweet.replace(search_keyword.lower(), '')\n",
    "    return tweet\n",
    "data['purified_tweet'] = data['purified_tweet'].apply(lambda tweet: search_keyword_replace(tweet))"
   ]
  },
  {
   "cell_type": "code",
   "execution_count": 99,
   "metadata": {},
   "outputs": [
    {
     "name": "stderr",
     "output_type": "stream",
     "text": [
      "c:\\users\\kubas\\appdata\\local\\programs\\python\\python38\\lib\\site-packages\\ipykernel\\ipkernel.py:283: DeprecationWarning: `should_run_async` will not call `transform_cell` automatically in the future. Please pass the result to `transformed_cell` argument and any exception that happen during thetransform in `preprocessing_exc_tuple` in IPython 7.17 and above.\n",
      "  and should_run_async(code)\n"
     ]
    }
   ],
   "source": [
    "tfidf_vectorizer = TfidfVectorizer(min_df=5, max_df=0.9, lowercase=True)\n",
    "data_tfidf_vectorized = tfidf_vectorizer.fit_transform(data['purified_tweet'].values.astype('U'))"
   ]
  },
  {
   "cell_type": "code",
   "execution_count": 100,
   "metadata": {},
   "outputs": [
    {
     "name": "stderr",
     "output_type": "stream",
     "text": [
      "c:\\users\\kubas\\appdata\\local\\programs\\python\\python38\\lib\\site-packages\\ipykernel\\ipkernel.py:283: DeprecationWarning: `should_run_async` will not call `transform_cell` automatically in the future. Please pass the result to `transformed_cell` argument and any exception that happen during thetransform in `preprocessing_exc_tuple` in IPython 7.17 and above.\n",
      "  and should_run_async(code)\n"
     ]
    }
   ],
   "source": [
    "count_vectorizer = CountVectorizer(min_df=5, max_df=0.9, lowercase=True)\n",
    "data_count_vectorized = count_vectorizer.fit_transform(data['purified_tweet'].values.astype('U'))"
   ]
  },
  {
   "cell_type": "markdown",
   "metadata": {},
   "source": [
    "## Topic modelling for TFIDF"
   ]
  },
  {
   "cell_type": "code",
   "execution_count": 101,
   "metadata": {},
   "outputs": [
    {
     "name": "stderr",
     "output_type": "stream",
     "text": [
      "c:\\users\\kubas\\appdata\\local\\programs\\python\\python38\\lib\\site-packages\\ipykernel\\ipkernel.py:283: DeprecationWarning: `should_run_async` will not call `transform_cell` automatically in the future. Please pass the result to `transformed_cell` argument and any exception that happen during thetransform in `preprocessing_exc_tuple` in IPython 7.17 and above.\n",
      "  and should_run_async(code)\n"
     ]
    },
    {
     "name": "stdout",
     "output_type": "stream",
     "text": [
      "iteration: 1 of max_iter: 10\n",
      "iteration: 2 of max_iter: 10\n",
      "iteration: 3 of max_iter: 10\n",
      "iteration: 4 of max_iter: 10\n",
      "iteration: 5 of max_iter: 10\n",
      "iteration: 6 of max_iter: 10\n",
      "iteration: 7 of max_iter: 10\n",
      "iteration: 8 of max_iter: 10\n",
      "iteration: 9 of max_iter: 10\n",
      "iteration: 10 of max_iter: 10\n"
     ]
    }
   ],
   "source": [
    "# Latent Dirichlet Allocation Model\n",
    "lda = LatentDirichletAllocation(n_components=NUMBER_OF_TOPICS, max_iter=10, learning_method='online',verbose=True)\n",
    "data_lda = lda.fit_transform(data_tfidf_vectorized)"
   ]
  },
  {
   "cell_type": "code",
   "execution_count": 102,
   "metadata": {},
   "outputs": [
    {
     "name": "stderr",
     "output_type": "stream",
     "text": [
      "c:\\users\\kubas\\appdata\\local\\programs\\python\\python38\\lib\\site-packages\\ipykernel\\ipkernel.py:283: DeprecationWarning: `should_run_async` will not call `transform_cell` automatically in the future. Please pass the result to `transformed_cell` argument and any exception that happen during thetransform in `preprocessing_exc_tuple` in IPython 7.17 and above.\n",
      "  and should_run_async(code)\n",
      "c:\\users\\kubas\\appdata\\local\\programs\\python\\python38\\lib\\site-packages\\sklearn\\decomposition\\_nmf.py:312: FutureWarning: The 'init' value, when 'init=None' and n_components is less than n_samples and n_features, will be changed from 'nndsvd' to 'nndsvda' in 1.1 (renaming of 0.26).\n",
      "  warnings.warn((\"The 'init' value, when 'init=None' and \"\n"
     ]
    }
   ],
   "source": [
    "# Non-Negative Matrix Factorization Model\n",
    "nmf = NMF(n_components=NUMBER_OF_TOPICS)\n",
    "data_nmf = nmf.fit_transform(data_tfidf_vectorized) "
   ]
  },
  {
   "cell_type": "code",
   "execution_count": 103,
   "metadata": {},
   "outputs": [
    {
     "name": "stderr",
     "output_type": "stream",
     "text": [
      "c:\\users\\kubas\\appdata\\local\\programs\\python\\python38\\lib\\site-packages\\ipykernel\\ipkernel.py:283: DeprecationWarning: `should_run_async` will not call `transform_cell` automatically in the future. Please pass the result to `transformed_cell` argument and any exception that happen during thetransform in `preprocessing_exc_tuple` in IPython 7.17 and above.\n",
      "  and should_run_async(code)\n"
     ]
    }
   ],
   "source": [
    "# Latent Semantic Indexing Model using Truncated SVD\n",
    "lsi = TruncatedSVD(n_components=NUMBER_OF_TOPICS)\n",
    "data_lsi = lsi.fit_transform(data_tfidf_vectorized)"
   ]
  },
  {
   "cell_type": "code",
   "execution_count": 104,
   "metadata": {},
   "outputs": [
    {
     "name": "stderr",
     "output_type": "stream",
     "text": [
      "c:\\users\\kubas\\appdata\\local\\programs\\python\\python38\\lib\\site-packages\\ipykernel\\ipkernel.py:283: DeprecationWarning: `should_run_async` will not call `transform_cell` automatically in the future. Please pass the result to `transformed_cell` argument and any exception that happen during thetransform in `preprocessing_exc_tuple` in IPython 7.17 and above.\n",
      "  and should_run_async(code)\n"
     ]
    }
   ],
   "source": [
    "# Functions for printing keywords for each topic\n",
    "def selected_topics(model, vectorizer, top_n=10):\n",
    "    for idx, topic in enumerate(model.components_):\n",
    "        print(\"Topic %d:\" % (idx))\n",
    "        print([(vectorizer.get_feature_names()[i], topic[i])\n",
    "                        for i in topic.argsort()[:-top_n - 1:-1]]) "
   ]
  },
  {
   "cell_type": "code",
   "execution_count": 105,
   "metadata": {},
   "outputs": [
    {
     "name": "stderr",
     "output_type": "stream",
     "text": [
      "c:\\users\\kubas\\appdata\\local\\programs\\python\\python38\\lib\\site-packages\\ipykernel\\ipkernel.py:283: DeprecationWarning: `should_run_async` will not call `transform_cell` automatically in the future. Please pass the result to `transformed_cell` argument and any exception that happen during thetransform in `preprocessing_exc_tuple` in IPython 7.17 and above.\n",
      "  and should_run_async(code)\n"
     ]
    },
    {
     "name": "stdout",
     "output_type": "stream",
     "text": [
      "LDA Model:\n",
      "Topic 0:\n",
      "[('nan', 5176.327122055844), ('stycznia', 226.41385491486844), ('obozie', 156.01681118505687), ('urodził', 141.2037896394953), ('birkenau', 131.41944832134487), ('nr', 128.18685917281974), ('xd', 120.61061565169295), ('zginął', 115.31550244347169), ('grudnia', 108.81705288815385), ('polak', 90.51596736428581)]\n",
      "Topic 1:\n",
      "[('rip', 123.3809970580657), ('izraela', 90.20344935851215), ('polskich', 87.0733946906256), ('problem', 83.51318631188201), ('polin', 83.13243648064108), ('rozumiem', 76.8958814260008), ('prezydent', 75.04773570367983), ('święta', 69.24993926534101), ('usa', 64.62385017470481), ('wojnie', 64.33675269383123)]\n",
      "Topic 2:\n",
      "[('online', 319.25536311944495), ('prosimy', 161.6089483124592), ('koncie', 160.9140983430265), ('zyd', 158.9601839643674), ('opowiadamy', 158.86481280195395), ('kl', 149.72235393870008), ('ofiary', 114.15542373579467), ('dnia', 113.41714436590938), ('the', 82.3741492222228), ('ka', 80.1803054055581)]\n",
      "Topic 3:\n",
      "[('obozu', 164.86047308104713), ('polecamy', 160.89890284180052), ('obserwowanie', 157.83992965115473), ('chce', 83.43414579490836), ('tyle', 80.43913558265285), ('niemieckiego', 75.73616796307036), ('mieć', 67.02878674201497), ('macie', 66.82680083984914), ('konfederacji', 66.03530255274752), ('polaków', 61.10059420913754)]\n",
      "Topic 4:\n",
      "[('historii', 249.022468912198), ('in', 174.5496962188342), ('innym', 172.35541191397695), ('naszej', 169.49039685809822), ('lekcje', 165.28615140353529), ('znać', 161.53272208533116), ('wspieranie', 158.79074820369448), ('trudnej', 157.4685629692341), ('podcasty', 157.41716763935108), ('jesteś', 107.88466767519684)]\n",
      "Topic 5:\n",
      "[('kiedyś', 109.89416287699133), ('tvn', 105.67042935198408), ('tyfus', 99.48674698155018), ('samo', 97.70269022230237), ('pewnie', 87.60546162430064), ('dzieci', 87.37051139208604), ('ludzie', 79.42616474126511), ('świecie', 77.56183718208212), ('rzeszy', 73.84260083735727), ('iii', 73.34385768705829)]\n",
      "Topic 6:\n",
      "[('dziękujemy', 164.49040909856177), ('danie', 159.51355485781983), ('raz', 93.2382603907282), ('wiesz', 85.46359696453514), ('ni', 70.55676447276589), ('kolejny', 64.55919319193586), ('you', 64.33434167655761), ('jednego', 60.31465696204915), ('choć', 59.21893733445908), ('antysemitą', 58.52529267380347)]\n",
      "Topic 7:\n",
      "[('zydzi', 173.97599352820612), ('misji', 159.89380522737102), ('jezus', 143.2172365475376), ('antysemityzm', 127.59741064793586), ('sa', 89.95757176779651), ('kuch', 82.06145874385624), ('los', 69.4026451351105), ('jebać', 67.07540633264905), ('została', 63.92434626494072), ('he', 61.26408761620398)]\n",
      "Topic 8:\n",
      "[('polaków', 332.7803221396116), ('polacy', 272.1454319533059), ('niemcy', 247.7325756297173), ('ofiarach', 219.81756961490737), ('polsce', 199.77347991529763), ('polski', 182.0884163855521), ('zydow', 164.84238846124512), ('wojny', 146.53741786822732), ('polska', 143.69105029145516), ('ludzi', 135.61668994860085)]\n",
      "Topic 9:\n",
      "[('pamięci', 233.9710372497916), ('dzień', 226.99621454151185), ('międzynarodowy', 155.23423917550124), ('nieba', 143.35840758686248), ('spadło', 122.0779496717681), ('hitler', 103.69606105209901), ('ii', 100.56865049570882), ('chyba', 90.28350345851986), ('czego', 89.81624287260358), ('lepiej', 88.98878630612549)]\n"
     ]
    }
   ],
   "source": [
    "print(\"LDA Model:\")\n",
    "selected_topics(lda, tfidf_vectorizer)"
   ]
  },
  {
   "cell_type": "code",
   "execution_count": 106,
   "metadata": {},
   "outputs": [
    {
     "name": "stdout",
     "output_type": "stream",
     "text": [
      "NMF Model:\n",
      "Topic 0:\n",
      "[('nan', 8.196271452572079), ('яхира', 0.0), ('marks', 0.0), ('maria', 0.0), ('marian', 0.0), ('mariana', 0.0), ('marianna', 0.0), ('marie', 0.0), ('marii', 0.0), ('marine', 0.0)]\n",
      "Topic 1:\n"
     ]
    },
    {
     "name": "stderr",
     "output_type": "stream",
     "text": [
      "c:\\users\\kubas\\appdata\\local\\programs\\python\\python38\\lib\\site-packages\\ipykernel\\ipkernel.py:283: DeprecationWarning: `should_run_async` will not call `transform_cell` automatically in the future. Please pass the result to `transformed_cell` argument and any exception that happen during thetransform in `preprocessing_exc_tuple` in IPython 7.17 and above.\n",
      "  and should_run_async(code)\n"
     ]
    },
    {
     "name": "stdout",
     "output_type": "stream",
     "text": [
      "[('online', 2.2965992095966716), ('dziękujemy', 1.153886242069578), ('podcasty', 1.153668871275938), ('trudnej', 1.1534821263238706), ('danie', 1.1527785070072205), ('obserwowanie', 1.1526601399789884), ('misji', 1.152202447768704), ('wspieranie', 1.1520928390849108), ('opowiadamy', 1.1515755183241876), ('polecamy', 1.1493857845190811)]\n",
      "Topic 2:\n",
      "[('uczymy', 1.3632380571989546), ('obserwowania', 1.3615077409497243), ('upamiętniamy', 1.361285774692081), ('tragicznej', 1.3602266295807632), ('zachęcamy', 1.3599889626618893), ('ofiary', 1.3230541738665373), ('każdego', 1.3125771169389822), ('dnia', 1.2844420610757126), ('historii', 1.0697553994111684), ('międzynarodowego', 0.014849725492496522)]\n",
      "Topic 3:\n",
      "[('polsce', 1.7081006464443096), ('polacy', 1.6681689508255144), ('polski', 1.458651823971657), ('niemcy', 1.2039663846556048), ('zydow', 0.7568613454921497), ('zydzi', 0.6996336928236861), ('jesteś', 0.6619212032498191), ('polska', 0.6169956527333074), ('chyba', 0.5288080230022177), ('ludzi', 0.5166381338867518)]\n",
      "Topic 4:\n",
      "[('urodził', 1.2245007126868677), ('nr', 1.2041537868499115), ('obozie', 1.1881098792331255), ('zginął', 1.0911770843401172), ('stycznia', 0.9936080086471563), ('grudnia', 0.9777381273953839), ('polak', 0.576030227098361), ('października', 0.5011998041558338), ('listopada', 0.45703706556695545), ('urodziła', 0.3989347674128241)]\n",
      "Topic 5:\n",
      "[('pamięci', 1.7406321145913344), ('dzień', 1.6582612796367513), ('ofiarach', 1.5570880795294708), ('międzynarodowy', 1.339523051622894), ('stycznia', 0.30695972873110877), ('27', 0.293490446382021), ('obozu', 0.2517014638989914), ('wyzwolenia', 0.24062160228573992), ('ofiar', 0.23856955894383397), ('obchodzimy', 0.21065381916110176)]\n",
      "Topic 6:\n",
      "[('nieba', 2.4400241748788627), ('spadło', 2.2730401392919117), ('spadł', 0.27345938487217564), ('turski', 0.23896229931839913), ('marian', 0.22686642982084185), ('kroczkami', 0.1153308921012525), ('oswajamy', 0.11533054752152234), ('przerażony', 0.11482813892099877), ('nagle', 0.11467191094091207), ('wykluczyć', 0.11294455860970748)]\n",
      "Topic 7:\n",
      "[('zyd', 3.4304150220240444), ('zydem', 0.11496059884682017), ('tez', 0.08186812080195367), ('chce', 0.081322037457971), ('zydow', 0.06979444138247351), ('pewnie', 0.06659685499363766), ('ruski', 0.05645574405143252), ('miss', 0.05622992361234876), ('polakow', 0.054396040268797984), ('zaklamany', 0.051375916293463636)]\n",
      "Topic 8:\n",
      "[('polaków', 3.8245907676093305), ('mordowali', 0.18522051720872107), ('polskę', 0.13777592867357144), ('śmierć', 0.13468861833962792), ('niemcy', 0.1324223359822872), ('nienawidzicie', 0.12361402237852395), ('niemców', 0.10914709762523973), ('ilu', 0.10735944233495434), ('nienawidzą', 0.0986973683872924), ('mln', 0.09405270030673475)]\n",
      "Topic 9:\n",
      "[('in', 2.392806477570139), ('rest', 0.9746410295248268), ('peace', 0.961278560773188), ('the', 0.6724201745525046), ('he', 0.6007805679024211), ('from', 0.5297340671818225), ('born', 0.5268626859312612), ('camp', 0.4618499947849919), ('january', 0.4211310641265251), ('perished', 0.3736649806612951)]\n"
     ]
    }
   ],
   "source": [
    "print(\"NMF Model:\")\n",
    "selected_topics(nmf, tfidf_vectorizer)"
   ]
  },
  {
   "cell_type": "code",
   "execution_count": 107,
   "metadata": {},
   "outputs": [
    {
     "name": "stdout",
     "output_type": "stream",
     "text": [
      "LSI Model:\n",
      "Topic 0:\n"
     ]
    },
    {
     "name": "stderr",
     "output_type": "stream",
     "text": [
      "c:\\users\\kubas\\appdata\\local\\programs\\python\\python38\\lib\\site-packages\\ipykernel\\ipkernel.py:283: DeprecationWarning: `should_run_async` will not call `transform_cell` automatically in the future. Please pass the result to `transformed_cell` argument and any exception that happen during thetransform in `preprocessing_exc_tuple` in IPython 7.17 and above.\n",
      "  and should_run_async(code)\n"
     ]
    },
    {
     "name": "stdout",
     "output_type": "stream",
     "text": [
      "[('nan', 1.0000000000000022), ('zydow', 1.1763286670904853e-11), ('polsce', 7.049398444097241e-12), ('rip', 5.770285527983255e-12), ('jesteś', 4.1835942467965524e-12), ('jezus', 3.4945505752991096e-12), ('polacy', 3.2128865154605966e-12), ('polaków', 2.412634682569967e-12), ('gorsze', 1.8773135739055074e-12), ('nazistowskie', 1.725255062385631e-12)]\n",
      "Topic 1:\n",
      "[('online', 0.4493998149439745), ('dziękujemy', 0.22581889480229306), ('podcasty', 0.2257473327449792), ('trudnej', 0.22571561032810694), ('danie', 0.22557444529178944), ('obserwowanie', 0.22555014133047566), ('misji', 0.22546243277120967), ('wspieranie', 0.2254417944725719), ('opowiadamy', 0.22533881591452506), ('polecamy', 0.2249123315994554)]\n",
      "Topic 2:\n",
      "[('uczymy', 0.3450619296289012), ('obserwowania', 0.34462778667232496), ('upamiętniamy', 0.3445686252800118), ('tragicznej', 0.3443145964385277), ('zachęcamy', 0.3442672467174533), ('ofiary', 0.33580605956137616), ('każdego', 0.3327674377212737), ('dnia', 0.3267765561917454), ('historii', 0.25790284079891546), ('polaków', 0.015248116752158427)]\n",
      "Topic 3:\n",
      "[('polaków', 0.41643815062542056), ('polski', 0.2903605279018996), ('polsce', 0.20494452214734443), ('polacy', 0.19429906520857446), ('obozie', 0.187409250440869), ('stycznia', 0.18400987122093762), ('urodził', 0.18298551355834689), ('niemcy', 0.18237299605812468), ('nr', 0.17881838101743722), ('zginął', 0.16455113680768546)]\n",
      "Topic 4:\n",
      "[('urodził', 0.31610280102883154), ('nr', 0.3119724051207143), ('obozie', 0.30021916686311234), ('zginął', 0.28035709795933345), ('stycznia', 0.27314137242784786), ('grudnia', 0.24977939065722893), ('polak', 0.13266317991384924), ('października', 0.1307960664256094), ('listopada', 0.11747298320669783), ('urodziła', 0.1048920031608826)]\n",
      "Topic 5:\n",
      "[('pamięci', 0.5025317814662318), ('dzień', 0.47908007187122986), ('ofiarach', 0.45077211006408235), ('międzynarodowy', 0.3881747493485137), ('27', 0.07862566645878036), ('wyzwolenia', 0.06583084444642621), ('ofiar', 0.062253154986852834), ('obozu', 0.06087345808708246), ('obchodzimy', 0.06031795835032546), ('birkenau', 0.0441535928960297)]\n",
      "Topic 6:\n",
      "[('nieba', 0.6314530538627362), ('spadło', 0.5879161365418366), ('zyd', 0.247085248512446), ('spadł', 0.07141037436075176), ('zydzi', 0.06347106598248375), ('polacy', 0.0627787484562356), ('turski', 0.06231675455211144), ('marian', 0.05935793289041434), ('zydow', 0.056870581569871494), ('jesteś', 0.0464969667750017)]\n",
      "Topic 7:\n",
      "[('zyd', 0.7568693260747057), ('zydow', 0.13816870885398339), ('polsce', 0.10626233815382104), ('zydzi', 0.08709607258041138), ('polacy', 0.08344922037593747), ('polski', 0.07948849624926857), ('jesteś', 0.07636975581659007), ('jezus', 0.06636454794736027), ('chyba', 0.059617124486682736), ('polska', 0.047732218472051675)]\n",
      "Topic 8:\n",
      "[('zyd', 0.48689365333543133), ('polaków', 0.4747008255400033), ('nieba', 0.11258045119529489), ('spadło', 0.10583559887887078), ('nienawidzicie', 0.017830950421432717), ('pamięci', 0.016416394156328624), ('międzynarodowy', 0.016142932781719577), ('obozie', 0.015224336499122486), ('dzień', 0.015212205701272583), ('nr', 0.015094220661784093)]\n",
      "Topic 9:\n",
      "[('in', 0.6116818153693194), ('polaków', 0.3151280136986514), ('zyd', 0.2901418731988115), ('rest', 0.2534344893731255), ('peace', 0.24996562475281744), ('the', 0.1691693982479989), ('he', 0.14854288497237897), ('from', 0.13445537230427854), ('born', 0.13377917375681497), ('camp', 0.11727736418024191)]\n"
     ]
    }
   ],
   "source": [
    "print(\"LSI Model:\")\n",
    "selected_topics(lsi, tfidf_vectorizer)"
   ]
  },
  {
   "cell_type": "markdown",
   "metadata": {},
   "source": [
    "## Visualizing LDA results with pyLDAvis (TFIDF)"
   ]
  },
  {
   "cell_type": "code",
   "execution_count": 108,
   "metadata": {},
   "outputs": [
    {
     "name": "stderr",
     "output_type": "stream",
     "text": [
      "c:\\users\\kubas\\appdata\\local\\programs\\python\\python38\\lib\\site-packages\\ipykernel\\ipkernel.py:283: DeprecationWarning: `should_run_async` will not call `transform_cell` automatically in the future. Please pass the result to `transformed_cell` argument and any exception that happen during thetransform in `preprocessing_exc_tuple` in IPython 7.17 and above.\n",
      "  and should_run_async(code)\n",
      "c:\\users\\kubas\\appdata\\local\\programs\\python\\python38\\lib\\site-packages\\sklearn\\manifold\\_t_sne.py:691: FutureWarning: 'square_distances' has been introduced in 0.24 to help phase out legacy squaring behavior. The 'legacy' setting will be removed in 1.1 (renaming of 0.26), and the default setting will be changed to True. In 1.3, 'square_distances' will be removed altogether, and distances will be squared by default. Set 'square_distances'=True to silence this warning.\n",
      "  warnings.warn(\n"
     ]
    },
    {
     "data": {
      "text/html": [
       "\n",
       "<link rel=\"stylesheet\" type=\"text/css\" href=\"https://cdn.jsdelivr.net/gh/bmabey/pyLDAvis@3.3.1/pyLDAvis/js/ldavis.v1.0.0.css\">\n",
       "\n",
       "\n",
       "<div id=\"ldavis_el722829916796146401455782362\"></div>\n",
       "<script type=\"text/javascript\">\n",
       "\n",
       "var ldavis_el722829916796146401455782362_data = {\"mdsDat\": {\"x\": [32.42095184326172, 0.648955225944519, 71.01968383789062, 3.7859814167022705, -42.666500091552734, -3.6216893196105957, -3.632401704788208, -36.58440017700195, 44.391380310058594, 40.235809326171875], \"y\": [8.115229606628418, 71.70709991455078, 9.971006393432617, 33.18513488769531, -9.22206974029541, -43.52651596069336, -4.171707630157471, 35.804412841796875, 50.61538314819336, -31.591665267944336], \"topics\": [1, 2, 3, 4, 5, 6, 7, 8, 9, 10], \"cluster\": [1, 1, 1, 1, 1, 1, 1, 1, 1, 1], \"Freq\": [16.690447873961975, 10.369672411109416, 9.90482421932201, 9.82684050583558, 9.664042291814608, 9.374130490043497, 8.95624813806716, 8.75758869301504, 8.255467492817488, 8.200737884013241]}, \"tinfo\": {\"Term\": [\"nan\", \"online\", \"historii\", \"pami\\u0119ci\", \"dzie\\u0144\", \"stycznia\", \"zydzi\", \"misji\", \"dzi\\u0119kujemy\", \"in\", \"danie\", \"prosimy\", \"koncie\", \"innym\", \"opowiadamy\", \"zyd\", \"obozu\", \"lekcje\", \"polecamy\", \"zna\\u0107\", \"jezus\", \"naszej\", \"obserwowanie\", \"kl\", \"wspieranie\", \"trudnej\", \"podcasty\", \"ofiarach\", \"mi\\u0119dzynarodowy\", \"polak\\u00f3w\", \"ofiarach\", \"ka\\u017cdego\", \"jakie\\u015b\", \"ok\", \"pami\\u0119\\u0107\", \"tys\", \"wsz\\u0119dzie\", \"wolno\", \"tusk\", \"prawd\\u0119\", \"rzeczy\", \"centrum\", \"hi\", \"zbrodnie\", \"jan\", \"korzenie\", \"niemcami\", \"polecam\", \"szkoda\", \"dw\\u00f3ch\", \"niemieckie\", \"zbrodni\", \"podobno\", \"dobra\", \"znam\", \"kobiety\", \"wiemy\", \"wojna\", \"same\", \"dniu\", \"kraj\", \"mordowali\", \"prawo\", \"\\u017cycie\", \"wojny\", \"polacy\", \"niemcy\", \"polak\\u00f3w\", \"czasie\", \"zydow\", \"prosz\\u0119\", \"ofiar\", \"mamy\", \"polska\", \"muzeum\", \"polsce\", \"tez\", \"niemc\\u00f3w\", \"panie\", \"polski\", \"np\", \"ludzi\", \"m\\u00f3wi\", \"pis\", \"chodzi\", \"prawda\", \"swoich\", \"samo\", \"ludzie\", \"tvn\", \"tyfus\", \"rzeszy\", \"iii\", \"podobnie\", \"obozy\", \"dopiero\", \"bym\", \"segregacji\", \"ha\", \"domu\", \"inni\", \"mniej\", \"roznosz\\u0105\", \"ludziom\", \"rz\\u0105du\", \"g\\u0142upi\", \"niezaszczepieni\", \"tvp\", \"ki\", \"niekt\\u00f3rzy\", \"przypomina\", \"by\\u0142em\", \"dupie\", \"mocno\", \"imi\\u0119\", \"przynajmniej\", \"dziwne\", \"kapo\", \"chcecie\", \"kiedy\\u015b\", \"nazi\\u015bci\", \"dok\\u0142adnie\", \"\\u015bwiecie\", \"tacy\", \"mogli\", \"pewnie\", \"samo\", \"dzieci\", \"potem\", \"ludzie\", \"ciekawe\", \"wobec\", \"wiem\", \"ludzi\", \"\\u015bmier\\u0107\", \"oboz\\u00f3w\", \"polak\\u00f3w\", \"mi\\u0119dzynarodowy\", \"nieba\", \"spad\\u0142o\", \"lepiej\", \"upami\\u0119tniamy\", \"ilu\", \"czasu\", \"pochodzenie\", \"strony\", \"stary\", \"lubi\\u0105\", \"nowy\", \"m\\u00f3g\\u0142\", \"ojciec\", \"by\\u0142oby\", \"zrobi\\u0142\", \"widzisz\", \"wojn\\u0105\", \"w\\u015b\", \"rz\\u0105dzi\", \"zgin\\u0119\\u0142o\", \"b\\u0119dziesz\", \"\\u017cyciu\", \"nazywa\", \"lubi\\u0119\", \"ustawy\", \"matka\", \"\\u0142eb\", \"nowe\", \"zdanie\", \"dzie\\u0144\", \"pami\\u0119ci\", \"ii\", \"czego\", \"hitler\", \"zydowski\", \"wie\", \"swoj\\u0105\", \"kogo\", \"wi\\u0119kszo\\u015b\\u0107\", \"wida\\u0107\", \"chyba\", \"raczej\", \"polakami\", \"robi\\u0105\", \"swoim\", \"in\", \"lekcje\", \"zna\\u0107\", \"wspieranie\", \"trudnej\", \"podcasty\", \"wyzwolenia\", \"rz\\u0105dz\\u0105\", \"tragicznej\", \"rest\", \"polakiem\", \"warto\", \"peace\", \"dziadek\", \"takim\", \"dzi\\u0119ki\", \"og\\u00f3le\", \"wstyd\", \"your\", \"udzia\\u0142\", \"o\\u015bwi\\u0119cimiu\", \"ka\\u017cdym\", \"prezydenta\", \"prawdy\", \"remember\", \"katolik\\u00f3w\", \"rzecz\", \"zna\", \"bht\", \"samego\", \"innym\", \"naszej\", \"historii\", \"\\u015bwiata\", \"pytanie\", \"jeste\\u015b\", \"siebie\", \"nienawi\\u015b\\u0107\", \"izraelu\", \"znaczy\", \"obozu\", \"polecamy\", \"obserwowanie\", \"macie\", \"konfederacji\", \"won\", \"ukrainy\", \"lubi\", \"cz\\u0142owieka\", \"wi\\u0119\\u017ani\\u00f3w\", \"sprawie\", \"kaczy\\u0144ski\", \"zosta\\u0142o\", \"tak\\u0105\", \"rocznic\\u0119\", \"nazwisko\", \"brawo\", \"koncentracyjnego\", \"my\\u015bl\\u0119\", \"racj\\u0119\", \"by\\u015b\", \"jakim\", \"powiedz\", \"dziecko\", \"ho\", \"wolno\\u015bci\", \"praw\", \"ludzko\\u015bci\", \"rosja\", \"zamordowali\", \"niemieckiego\", \"mie\\u0107\", \"zrobi\\u0107\", \"chce\", \"tyle\", \"media\", \"okupacji\", \"morawiecki\", \"pieni\\u0105dze\", \"\\u015bwiat\", \"niemiec\", \"os\\u00f3b\", \"polak\\u00f3w\", \"dzieci\", \"mia\\u0142\", \"prostu\", \"nan\", \"stycznia\", \"urodzi\\u0142\", \"birkenau\", \"nr\", \"xd\", \"zgin\\u0105\\u0142\", \"grudnia\", \"getta\", \"urodzi\\u0142a\", \"rp\", \"polaka\", \"pa\\u017adziernika\", \"wygl\\u0105da\", \"of\", \"deportowana\", \"zamordowanych\", \"listopada\", \"rocznica\", \"prze\\u017cy\\u0142a\", \"prze\\u017cy\\u0142\", \"mia\\u0142a\", \"gazowej\", \"komorze\", \"zamordowany\", \"marca\", \"chrze\\u015bcijanie\", \"lewicy\", \"pami\\u0119tam\", \"jebany\", \"obozie\", \"kurwa\", \"polak\", \"maja\", \"ob\\u00f3z\", \"pomoc\", \"polski\", \"online\", \"prosimy\", \"koncie\", \"opowiadamy\", \"kl\", \"the\", \"zach\\u0119camy\", \"uczymy\", \"obserwowania\", \"zydem\", \"wiedzia\\u0142\", \"tymi\", \"sy\", \"27\", \"warszawie\", \"winni\", \"niemieckim\", \"ko\\u015bcio\\u0142a\", \"wina\", \"sw\\u00f3j\", \"pisu\", \"zw\\u0142aszcza\", \"krakowie\", \"nowego\", \"kas\\u0119\", \"drugiej\", \"zwykle\", \"drugie\", \"via\", \"zydki\", \"ofiary\", \"zyd\", \"dnia\", \"ka\", \"hitler\", \"zydow\", \"polskich\", \"dzi\\u0119kujemy\", \"danie\", \"raz\", \"ni\", \"kolejny\", \"you\", \"jednego\", \"cho\\u0107\", \"antysemit\\u0105\", \"livracha\", \"osoby\", \"gorsze\", \"michnik\", \"serio\", \"krwi\", \"chcemy\", \"t\\u0119\", \"lewica\", \"\\u015bwiatem\", \"chuj\", \"wcale\", \"jestes\", \"dzia\\u0142a\", \"panu\", \"pytam\", \"zyd\\u00f3w\", \"ko\\u0144ca\", \"d\\u0142ugo\", \"istnieje\", \"uwag\\u0119\", \"wiesz\", \"judaizmu\", \"swojego\", \"czas\", \"s\\u0142owa\", \"polskich\", \"polskim\", \"zyd\", \"misji\", \"sa\", \"kuch\", \"los\", \"jeba\\u0107\", \"zosta\\u0142a\", \"he\", \"szczepie\\u0144\", \"se\", \"lata\", \"chcia\\u0142\", \"konfederacja\", \"zydom\", \"zgotowali\", \"ko\\u015bci\\u00f3\\u0142\", \"opaski\", \"tadeusz\", \"wojn\\u0119\", \"mojej\", \"czyni\", \"samych\", \"chrystusa\", \"chrystus\", \"koncentracyjnych\", \"kobiet\", \"bramy\", \"szczepienie\", \"przeszkadza\", \"obra\\u017ca\", \"narodem\", \"zydzi\", \"jezus\", \"antysemityzm\", \"przeciwko\", \"hai\", \"sami\", \"antysemityzmu\", \"niemiecki\", \"nikt\", \"rip\", \"problem\", \"rozumiem\", \"prezydent\", \"\\u015bwi\\u0119ta\", \"zamiast\", \"ue\", \"kurwy\", \"chrze\\u015bcijan\", \"zydokomuna\", \"spisek\", \"nazistowskie\", \"szczeg\\u00f3lnie\", \"\\u015bwi\\u0119to\", \"mo\\u017cesz\", \"granicy\", \"g\\u0142\\u00f3wnie\", \"rosjanie\", \"prawem\", \"rz\\u0105dy\", \"bo\\u017ce\", \"zabili\", \"innymi\", \"ruski\", \"judaizm\", \"zupe\\u0142nie\", \"r\\u00f3\\u017cnych\", \"ukrainie\", \"polityki\", \"typu\", \"akurat\", \"wojnie\", \"duda\", \"polin\", \"izraela\", \"polskich\", \"usa\", \"zydowskie\", \"masz\", \"temu\", \"polski\"], \"Freq\": [4189.0, 295.0, 278.0, 242.0, 220.0, 184.0, 202.0, 152.0, 153.0, 158.0, 149.0, 149.0, 149.0, 166.0, 147.0, 185.0, 150.0, 150.0, 146.0, 146.0, 166.0, 167.0, 144.0, 138.0, 144.0, 143.0, 143.0, 184.0, 140.0, 442.0, 183.3012583848399, 86.39682324318309, 74.74233500685557, 66.48122925985908, 61.21917956624347, 60.02705218721769, 56.32257763076225, 55.56531640008919, 52.1553804316154, 51.294797904743795, 51.10627548424807, 49.531178080894534, 49.48042322186455, 49.142304936844496, 46.68384273651871, 45.319523651938965, 45.056206252331684, 43.78085141270002, 43.653527235516734, 43.55094643892139, 43.25807740144169, 42.95460603496639, 42.35849702424326, 42.11573363632482, 41.05312867123491, 40.708972803283416, 40.439064276201385, 40.4051870132421, 40.29874335137619, 40.05396694338355, 60.85297715486831, 74.43077760639733, 85.04788161093622, 75.17948537365116, 122.19447764238039, 226.9363646778477, 206.57899609843182, 277.49852716853275, 99.72259650574054, 137.45860848631503, 74.2767562716378, 97.51366048506803, 92.0362704009924, 119.8209514517207, 92.06146650110833, 166.58691261369142, 72.50325913047159, 94.15782445165738, 71.435012772894, 151.839709260942, 77.22979472892526, 113.08791180393146, 76.75164305995831, 94.68593475752701, 76.78293401853824, 72.50084226136825, 72.86338700829425, 75.68501876819782, 75.57961891022323, 96.25596186617435, 90.62320066617602, 67.26376162080331, 66.80945286147875, 63.39885263150803, 62.110044995307256, 59.11325811074895, 56.065403052635894, 55.73380912765605, 54.29063970967145, 48.15425185148228, 47.66010098286198, 46.87897963551456, 45.46216048312844, 44.54535977029876, 44.54069903052039, 43.729782081808786, 43.33730231706065, 42.352201523349336, 41.83613348971525, 38.853066293060635, 38.21771636085193, 37.08748630483176, 36.971063366787135, 34.675268541073095, 34.417879147463445, 33.743526461462615, 33.02909444152321, 32.95406774077582, 32.90231714709339, 100.10339142247665, 49.92071090644354, 58.56811179772745, 70.65164103006211, 59.625446628918866, 55.50765855626333, 79.80045150842336, 88.99809040175913, 79.58643363482159, 62.48388801578879, 72.34987054936336, 56.397744744453504, 54.97236992948513, 59.4327092605876, 62.57458389633158, 47.90486261022228, 46.36505315222998, 51.90165125296093, 139.29046024215748, 128.63437008752547, 109.53958279767893, 79.84893710824731, 67.49981955657032, 63.45520408726578, 55.80768723243102, 53.25669535041761, 52.10799166345763, 47.28658579986802, 45.06081137370377, 44.67496091384884, 43.625520411695526, 42.89963076903899, 42.360481854160724, 40.67374431842343, 40.55532002847002, 39.65780667090899, 38.172027722338576, 36.533842786245344, 34.777069901365806, 34.43428983048004, 33.21575028358248, 33.15438218570974, 32.85971791985902, 32.50063390616919, 32.436850375871344, 30.907078535413614, 30.789231071847123, 29.749380887248133, 203.68191556611598, 209.94036905101615, 90.23945804664152, 80.59140736859254, 93.04565890850986, 53.027589519247336, 67.92282788487452, 53.282404122214416, 48.11106403587068, 48.92992106222414, 53.636032914699136, 81.01067661235594, 51.19838866958062, 46.928362790973196, 50.54386791218393, 44.64603072181846, 157.9255450414752, 149.54426225689733, 146.14831036644608, 143.6674826759523, 142.47122265189495, 142.42472222445113, 91.15625282077605, 69.7717576416748, 69.11031359434766, 59.99473775360124, 59.829424415285025, 59.014132657122715, 58.86093916320299, 58.79837309969253, 57.44100688315361, 56.959533919601505, 50.439333154714376, 47.406220512584206, 46.3468896203792, 46.21021838890308, 44.72699389705899, 43.75804974523078, 41.36558859052025, 40.014356254810636, 38.227909308038925, 37.84494824641347, 36.65128737043473, 35.88870674761681, 35.646404126932424, 35.5985726550526, 155.94024485289117, 153.34809445645374, 225.30551460386462, 73.90137227442055, 53.84120257429505, 97.6097083713256, 67.06886337536949, 46.89666659351677, 57.05972140758328, 46.72251968508182, 149.66840634889633, 146.07189899169754, 143.2948134116818, 60.668640555084956, 59.95007967117834, 54.23017214080584, 51.32945544758592, 50.987256790666414, 50.14688361362378, 48.796708689246984, 46.58157669797475, 45.96925774975103, 43.59437986388898, 43.25954027575056, 41.89120754222856, 41.637362943487865, 41.44508833695673, 41.37798234815162, 41.228235916071526, 40.02820798745631, 38.32746326218118, 38.151022991608954, 37.94011144393843, 37.806281451616094, 37.08849123153813, 36.39432032168158, 36.07469930847167, 34.507545759851084, 33.3244551861874, 31.456496019737095, 68.75700008717385, 60.85201324301387, 54.41791512253406, 75.74560113063875, 73.02658427299221, 48.477919267089284, 47.74538927953439, 44.39766032409522, 45.41597548153848, 47.2822030834412, 47.81204516661041, 44.63591436530006, 55.47010991383317, 46.6067700202234, 44.65785960355191, 43.26356541640438, 4188.830129732642, 183.22048720901614, 114.26609534666247, 106.34832996077262, 103.73242750656082, 97.60151723308427, 93.31656204691872, 88.05783309644777, 68.49985425292986, 65.65250476055218, 48.71846290238838, 47.06902502128408, 45.36819586152701, 43.94122717562199, 43.23227977737208, 42.49751752339032, 42.49401150381578, 37.202574908209726, 36.38670525515598, 35.99035339869455, 35.753390115288035, 34.70767278963767, 34.34987545526459, 33.71504818776111, 31.102238070080574, 31.069936953294544, 30.95556331691328, 30.6338677483607, 30.357031133489816, 29.799028461014263, 126.25321082436112, 64.98537996997915, 73.24807771554252, 47.64181270254165, 44.9191668876697, 36.64559352182044, 40.13321540926916, 294.359005747424, 149.0062653304411, 148.36560155537612, 146.47612459101578, 138.0466182711258, 75.95040041746003, 71.09279828017695, 69.89660001094241, 69.72967807735253, 66.35442513788813, 63.673155173383314, 49.33076360704405, 48.149107855895664, 47.13662767128665, 46.5532266234282, 45.170825175315755, 44.16842843263262, 43.8797005772264, 43.39705219609702, 43.17491520443459, 42.27662263253458, 40.63148548005124, 39.719777957512406, 39.08885122796648, 38.68804950869327, 38.580381591058504, 38.304429379914964, 37.5648319427979, 37.13155384054315, 35.8753130328125, 105.25328910127794, 146.56405846398408, 104.57258266252045, 73.92763820501462, 56.29475791195013, 49.74077701556197, 41.147118837675265, 153.00619632518448, 148.37681068979154, 86.72865276792096, 65.63070890364885, 60.05186954214476, 59.84271646571605, 56.10367373390002, 55.08445386950081, 54.4392373385808, 52.61185876102585, 48.1930447665988, 47.284261941105434, 44.46766792201509, 44.275506386874554, 40.538644289259864, 39.430682669480504, 38.05651399842042, 37.61555756413425, 37.53771170756247, 37.10644072878494, 36.95335808900676, 36.892109629597, 35.90310985234287, 35.826558535896154, 35.500160690526556, 35.22639655174221, 33.02233787200643, 32.9460114911047, 32.492197636666624, 32.19208503113086, 79.49679235083403, 38.57918113565728, 39.58911658064101, 46.21180860497686, 42.08956291980004, 41.344734898999086, 37.96842480739847, 38.38434098747393, 151.59311816189376, 85.28753685710774, 77.80134067236062, 65.79969355131578, 63.593270442735644, 60.60579372029434, 58.083639074555045, 57.93028971084865, 57.173986289260114, 56.364312107003244, 52.91738271657286, 48.04446757158882, 46.06898893714574, 42.496995114210016, 41.639983629471764, 40.71813686741741, 39.98355033305152, 39.17294798803367, 38.500108129172595, 38.118870140357664, 38.08499918544524, 37.437928313804186, 37.43503040808007, 37.11489385616083, 35.026911065379075, 33.06318393413604, 32.54618538932682, 31.894098621367615, 31.61401851839158, 31.3595563466132, 164.94424725680068, 135.78229270294617, 120.97335054349597, 49.708066428835444, 40.754264864902574, 51.6222861363736, 40.610912584582, 39.41900573108053, 42.88334754383431, 117.54531014253791, 79.56317115351102, 73.25885222543029, 71.49812028697315, 65.97454861274596, 56.161350463793624, 51.473563707727465, 50.36898545288621, 49.647343956135146, 48.45662248945877, 47.86697052180713, 46.743292949754, 45.55134706567961, 45.411106107997135, 42.61111688818716, 41.586234995947414, 41.217089901243035, 41.051803689434635, 40.61682777213034, 38.84939862606456, 37.0143291610779, 36.17071144281947, 35.20489309566247, 34.87065293566195, 33.76396032488434, 31.51866960598322, 31.155773831871237, 31.063544602281993, 30.638518510783108, 30.580183321495788, 57.38371083777276, 61.29374643812522, 50.744650460578676, 79.20043006641419, 85.93699745985218, 82.9549884351831, 61.567264753223164, 40.796488616125174, 45.168152846686894, 42.31735217565988, 39.36469345398667], \"Total\": [4189.0, 295.0, 278.0, 242.0, 220.0, 184.0, 202.0, 152.0, 153.0, 158.0, 149.0, 149.0, 149.0, 166.0, 147.0, 185.0, 150.0, 150.0, 146.0, 146.0, 166.0, 167.0, 144.0, 138.0, 144.0, 143.0, 143.0, 184.0, 140.0, 442.0, 184.12032639253405, 87.21584285040159, 75.56090571681611, 67.29973615397935, 62.03766281849631, 60.845572564660664, 57.141077546724325, 56.38377768258142, 52.97395607150231, 52.113312244625455, 51.924859670250704, 50.349821849313486, 50.2988973247066, 49.96077773459491, 47.50284293812488, 46.13800549320124, 45.87468389653213, 44.599388115781686, 44.47205779351002, 44.36953507488115, 44.07656702689284, 43.77310687458838, 43.177027145994266, 42.93420281221607, 41.87163943569581, 41.527598196234976, 41.25754609393058, 41.2237359285895, 41.11739435104377, 40.87255867013753, 62.51600487687331, 80.73457261067666, 96.55008869165944, 84.76010406410826, 149.73944499894708, 313.785452391961, 300.6093510190831, 442.90314169717226, 130.58504427662893, 201.37042446558476, 89.5941178014318, 130.88064899500372, 125.83705181557552, 182.74950021009832, 131.45860694543373, 336.0003992945218, 94.24455546619481, 146.11330633719268, 92.77259148909093, 338.91643729055676, 106.64123533101964, 217.02425724677184, 113.89273255034048, 194.18043950839748, 120.7104147923894, 104.720632822112, 118.5834274992586, 175.114502669596, 177.3435676476873, 97.06688830563657, 91.43391440579613, 68.07451556769094, 67.62026212937819, 64.2097957937549, 62.920861014624414, 59.92420035226937, 56.87625034625601, 56.54455993724377, 55.101333249018694, 48.96511859267951, 48.4710069497454, 47.689849390382264, 46.272814647569675, 45.35626733808582, 45.35163298786133, 44.540574470901014, 44.1479815619086, 43.16305756093832, 42.64696576602408, 39.663850520355595, 39.028531956659876, 37.89831673796428, 37.781857340881224, 35.48612586165144, 35.228678426645665, 34.55433760746007, 33.83989122174618, 33.764886852876174, 33.713065209616595, 136.94530374063058, 57.871893834708374, 72.59646352071695, 94.09687165824789, 76.29099248278897, 69.26766091860947, 138.0263846292596, 175.114502669596, 162.81390855464713, 115.30272293360198, 177.3435676476873, 103.77219920368891, 101.77364352197657, 150.48462076881893, 217.02425724677184, 78.22626236704839, 62.81009458498416, 442.90314169717226, 140.10250019623092, 129.44642782995584, 110.35159330444995, 80.66119524869745, 68.31222766611432, 64.26733173931915, 56.61989127669604, 54.068899830133894, 52.92026742046771, 48.09867691142598, 45.87288217424633, 45.487196353870296, 44.43775367076199, 43.71179319381275, 43.17264655261052, 41.485926749228796, 41.36750629505106, 40.470060515969685, 38.984115288265436, 37.34599717458274, 35.58933770909088, 35.24647221114901, 34.02819816543858, 33.96654030105563, 33.67178817531919, 33.31285526454971, 33.24897205949282, 31.7192066349503, 31.601369113439713, 30.561565392426626, 220.33502399427562, 242.70505623117177, 115.93292912918733, 104.58373551116112, 150.06047924594435, 68.96675254402949, 100.8601545238298, 78.354311883577, 65.81480424010134, 69.95485214044511, 84.3383747815492, 202.73258364263222, 78.43699443490895, 65.14436713293814, 90.13785424673252, 65.9088412970167, 158.7368668688709, 150.35552969430162, 146.9595716490502, 144.47872830653986, 143.28246494453364, 143.23596473848292, 91.96796554309068, 70.58317125922822, 69.92167748594532, 60.805961684919524, 60.64084641436187, 59.825652260775136, 59.672162279434744, 59.609893967203995, 58.252595352863004, 57.7711023300871, 51.2508810924907, 48.21764823603872, 47.15811134340162, 47.02174863577429, 45.538702052109954, 44.56954407200037, 42.17710669680844, 40.82585115439357, 39.039194604365875, 38.656537856383835, 37.46278359523435, 36.7001852646892, 36.45770732032523, 36.410161730615954, 166.49583236782283, 167.6096672409209, 278.76083885508075, 90.89140965617513, 68.05475556477185, 198.79290132522135, 104.11486979903356, 56.36572750220165, 95.73675471370319, 62.901192606148676, 150.479680885709, 146.88321905414145, 144.10612915712372, 61.479804021030525, 60.761265693700764, 55.04131797076166, 52.14066622414207, 51.79830802453105, 50.95819088445817, 49.607886880856434, 47.39286045217459, 46.78041682094063, 44.40610942157727, 44.07073318793043, 42.70232839168086, 42.4484042426571, 42.256154111954366, 42.18897423279111, 42.03936520542358, 40.83931473498658, 39.13856558171821, 38.962218792227624, 38.7511631138266, 38.617469092833275, 37.8994883661021, 37.20550083085083, 36.88585876186005, 35.31873004439375, 34.1356780371385, 32.26771872681824, 79.1977845933666, 81.42700272818473, 74.02976931858215, 127.96779996771969, 134.63915271178598, 65.33993643323277, 71.84500632177388, 65.10494213866207, 73.8079304816246, 89.81604514898761, 95.58267735134113, 76.57987445678626, 442.90314169717226, 162.81390855464713, 116.37546469509455, 90.18126805693461, 4189.650897324183, 184.04153232539795, 115.08694192748364, 107.16974481950635, 104.55324092189106, 98.42259897853057, 94.13738337333045, 88.87870101491215, 69.32083552947354, 66.47329816991679, 49.53986189749991, 47.89014032144341, 46.18898908096479, 44.762273298370836, 44.05394113893387, 43.31829414815201, 43.31522623421757, 38.02345188726064, 37.20776978748653, 36.81118271031743, 36.57434888151487, 35.52883689966089, 35.17069802745665, 34.53585075567643, 31.923186606113756, 31.890759148902728, 31.776786334392266, 31.454973228078515, 31.178150508647782, 30.619891024644684, 139.10945059710207, 89.67972714116834, 125.975235913743, 67.86049109537592, 66.12517925913997, 50.839322247375556, 338.91643729055676, 295.1685680775008, 149.81595857857914, 149.1751691833034, 147.29357237729272, 138.85651819052634, 76.76072776682264, 71.90230811442058, 70.70609683563164, 70.53917749699923, 67.1640349521955, 64.48279194567147, 50.14057060942797, 48.958656936529025, 47.946726975489796, 47.36315306694083, 45.980529991704024, 44.978186791344434, 44.69018755036725, 44.20674989116626, 43.9846933504311, 43.086364921623336, 41.441270944991466, 40.52954595716783, 39.89866497294148, 39.49781321027945, 39.3902643705271, 39.11410257761698, 38.37464230838107, 37.94120200597373, 36.68492664936802, 123.53886111916037, 185.66500158204647, 127.35014412530991, 91.31381970226195, 150.06047924594435, 201.37042446558476, 166.06834138244284, 153.81523821580478, 149.18584185758093, 87.53765583786519, 66.43944615421812, 60.86072374449204, 60.651634561225144, 56.91261276987406, 55.893490457996144, 55.24808138569785, 53.42053086122243, 49.00204537045798, 48.09307387628929, 45.2764875700392, 45.08441393164115, 41.347581860543244, 40.23955159226024, 38.86548598973647, 38.42445949433995, 38.34658999763442, 37.91525393607623, 37.76223737511141, 37.700944956818525, 36.71206366280975, 36.63549617627328, 36.30914276758041, 36.035249573468114, 33.831318284609225, 33.754970016873365, 33.30112130326854, 33.0010079173366, 98.72700112980081, 46.799281343580596, 55.54736584990501, 91.47562581412365, 91.09608362603, 166.06834138244284, 76.73266927112762, 185.66500158204647, 152.40164566984438, 86.09461577618137, 78.6082771620368, 66.60672294649791, 64.40024467656548, 61.41327181816059, 58.89123085237358, 58.737534368697546, 57.98098935860078, 57.171582913457335, 53.724641375815544, 48.8516727675353, 46.876047704644265, 43.30393294604975, 42.447151429717316, 41.52524401573921, 40.790531922108414, 39.980220320644904, 39.30726207368192, 38.925879937823844, 38.89218089754368, 38.2450521297809, 38.242258022824004, 37.92217023627123, 35.83409479087139, 33.87030517639321, 33.35325000824673, 32.70113611238511, 32.42095340382137, 32.16657920056771, 202.65663035240303, 166.34755248849237, 147.50134841114402, 76.96223462255593, 57.35971726437564, 155.04446183514253, 62.94593326254576, 56.48808574326037, 131.99584238144263, 118.35179183033085, 80.36984501964177, 74.06559854823352, 72.3047629903758, 66.78112633988273, 56.96811150495901, 52.28030250068065, 51.17556765022324, 50.45404201410375, 49.26313432460914, 48.67354799044753, 47.54982457533227, 46.358046778195444, 46.217641820974286, 43.417828812825505, 42.392891729506076, 42.023784588530646, 41.85848804369016, 41.423425043569, 39.65593961305289, 37.820918263745966, 36.97733003238187, 36.01162158974966, 35.677200480426485, 34.57069543091879, 32.325351424182976, 31.96254416163497, 31.870211822286215, 31.44518222223222, 31.38691391894045, 69.5462136541478, 84.8719980458378, 65.6414570222872, 130.90169647636225, 154.78225289029814, 166.06834138244284, 139.93942607435176, 75.91722389708514, 139.03448468878113, 122.55408833640203, 338.91643729055676], \"Category\": [\"Default\", \"Default\", \"Default\", \"Default\", \"Default\", \"Default\", \"Default\", \"Default\", \"Default\", \"Default\", \"Default\", \"Default\", \"Default\", \"Default\", \"Default\", \"Default\", \"Default\", \"Default\", \"Default\", \"Default\", \"Default\", \"Default\", \"Default\", \"Default\", \"Default\", \"Default\", \"Default\", \"Default\", \"Default\", \"Default\", \"Topic1\", \"Topic1\", \"Topic1\", \"Topic1\", \"Topic1\", \"Topic1\", \"Topic1\", \"Topic1\", \"Topic1\", \"Topic1\", \"Topic1\", \"Topic1\", \"Topic1\", \"Topic1\", \"Topic1\", \"Topic1\", \"Topic1\", \"Topic1\", \"Topic1\", \"Topic1\", \"Topic1\", \"Topic1\", \"Topic1\", \"Topic1\", \"Topic1\", \"Topic1\", \"Topic1\", \"Topic1\", \"Topic1\", \"Topic1\", \"Topic1\", \"Topic1\", \"Topic1\", \"Topic1\", \"Topic1\", \"Topic1\", \"Topic1\", \"Topic1\", \"Topic1\", \"Topic1\", \"Topic1\", \"Topic1\", \"Topic1\", \"Topic1\", \"Topic1\", \"Topic1\", \"Topic1\", \"Topic1\", \"Topic1\", \"Topic1\", \"Topic1\", \"Topic1\", \"Topic1\", \"Topic1\", \"Topic1\", \"Topic1\", \"Topic1\", \"Topic1\", \"Topic1\", \"Topic2\", \"Topic2\", \"Topic2\", \"Topic2\", \"Topic2\", \"Topic2\", \"Topic2\", \"Topic2\", \"Topic2\", \"Topic2\", \"Topic2\", \"Topic2\", \"Topic2\", \"Topic2\", \"Topic2\", \"Topic2\", \"Topic2\", \"Topic2\", \"Topic2\", \"Topic2\", \"Topic2\", \"Topic2\", \"Topic2\", \"Topic2\", \"Topic2\", \"Topic2\", \"Topic2\", \"Topic2\", \"Topic2\", \"Topic2\", \"Topic2\", \"Topic2\", \"Topic2\", \"Topic2\", \"Topic2\", \"Topic2\", \"Topic2\", \"Topic2\", \"Topic2\", \"Topic2\", \"Topic2\", \"Topic2\", \"Topic2\", \"Topic2\", \"Topic2\", \"Topic2\", \"Topic2\", \"Topic2\", \"Topic3\", \"Topic3\", \"Topic3\", \"Topic3\", \"Topic3\", \"Topic3\", \"Topic3\", \"Topic3\", \"Topic3\", \"Topic3\", \"Topic3\", \"Topic3\", \"Topic3\", \"Topic3\", \"Topic3\", \"Topic3\", \"Topic3\", \"Topic3\", \"Topic3\", \"Topic3\", \"Topic3\", \"Topic3\", \"Topic3\", \"Topic3\", \"Topic3\", \"Topic3\", \"Topic3\", \"Topic3\", \"Topic3\", \"Topic3\", \"Topic3\", \"Topic3\", \"Topic3\", \"Topic3\", \"Topic3\", \"Topic3\", \"Topic3\", \"Topic3\", \"Topic3\", \"Topic3\", \"Topic3\", \"Topic3\", \"Topic3\", \"Topic3\", \"Topic3\", \"Topic3\", \"Topic4\", \"Topic4\", \"Topic4\", \"Topic4\", \"Topic4\", \"Topic4\", \"Topic4\", \"Topic4\", \"Topic4\", \"Topic4\", \"Topic4\", \"Topic4\", \"Topic4\", \"Topic4\", \"Topic4\", \"Topic4\", \"Topic4\", \"Topic4\", \"Topic4\", \"Topic4\", \"Topic4\", \"Topic4\", \"Topic4\", \"Topic4\", \"Topic4\", \"Topic4\", \"Topic4\", \"Topic4\", \"Topic4\", \"Topic4\", \"Topic4\", \"Topic4\", \"Topic4\", \"Topic4\", \"Topic4\", \"Topic4\", \"Topic4\", \"Topic4\", \"Topic4\", \"Topic4\", \"Topic5\", \"Topic5\", \"Topic5\", \"Topic5\", \"Topic5\", \"Topic5\", \"Topic5\", \"Topic5\", \"Topic5\", \"Topic5\", \"Topic5\", \"Topic5\", \"Topic5\", \"Topic5\", \"Topic5\", \"Topic5\", \"Topic5\", \"Topic5\", \"Topic5\", \"Topic5\", \"Topic5\", \"Topic5\", \"Topic5\", \"Topic5\", \"Topic5\", \"Topic5\", \"Topic5\", \"Topic5\", \"Topic5\", \"Topic5\", \"Topic5\", \"Topic5\", \"Topic5\", \"Topic5\", \"Topic5\", \"Topic5\", \"Topic5\", \"Topic5\", \"Topic5\", \"Topic5\", \"Topic5\", \"Topic5\", \"Topic5\", \"Topic5\", \"Topic5\", \"Topic5\", \"Topic6\", \"Topic6\", \"Topic6\", \"Topic6\", \"Topic6\", \"Topic6\", \"Topic6\", \"Topic6\", \"Topic6\", \"Topic6\", \"Topic6\", \"Topic6\", \"Topic6\", \"Topic6\", \"Topic6\", \"Topic6\", \"Topic6\", \"Topic6\", \"Topic6\", \"Topic6\", \"Topic6\", \"Topic6\", \"Topic6\", \"Topic6\", \"Topic6\", \"Topic6\", \"Topic6\", \"Topic6\", \"Topic6\", \"Topic6\", \"Topic6\", \"Topic6\", \"Topic6\", \"Topic6\", \"Topic6\", \"Topic6\", \"Topic6\", \"Topic7\", \"Topic7\", \"Topic7\", \"Topic7\", \"Topic7\", \"Topic7\", \"Topic7\", \"Topic7\", \"Topic7\", \"Topic7\", \"Topic7\", \"Topic7\", \"Topic7\", \"Topic7\", \"Topic7\", \"Topic7\", \"Topic7\", \"Topic7\", \"Topic7\", \"Topic7\", \"Topic7\", \"Topic7\", \"Topic7\", \"Topic7\", \"Topic7\", \"Topic7\", \"Topic7\", \"Topic7\", \"Topic7\", \"Topic7\", \"Topic7\", \"Topic7\", \"Topic7\", \"Topic7\", \"Topic7\", \"Topic7\", \"Topic7\", \"Topic8\", \"Topic8\", \"Topic8\", \"Topic8\", \"Topic8\", \"Topic8\", \"Topic8\", \"Topic8\", \"Topic8\", \"Topic8\", \"Topic8\", \"Topic8\", \"Topic8\", \"Topic8\", \"Topic8\", \"Topic8\", \"Topic8\", \"Topic8\", \"Topic8\", \"Topic8\", \"Topic8\", \"Topic8\", \"Topic8\", \"Topic8\", \"Topic8\", \"Topic8\", \"Topic8\", \"Topic8\", \"Topic8\", \"Topic8\", \"Topic8\", \"Topic8\", \"Topic8\", \"Topic8\", \"Topic8\", \"Topic8\", \"Topic8\", \"Topic8\", \"Topic9\", \"Topic9\", \"Topic9\", \"Topic9\", \"Topic9\", \"Topic9\", \"Topic9\", \"Topic9\", \"Topic9\", \"Topic9\", \"Topic9\", \"Topic9\", \"Topic9\", \"Topic9\", \"Topic9\", \"Topic9\", \"Topic9\", \"Topic9\", \"Topic9\", \"Topic9\", \"Topic9\", \"Topic9\", \"Topic9\", \"Topic9\", \"Topic9\", \"Topic9\", \"Topic9\", \"Topic9\", \"Topic9\", \"Topic9\", \"Topic9\", \"Topic9\", \"Topic9\", \"Topic9\", \"Topic9\", \"Topic9\", \"Topic9\", \"Topic9\", \"Topic9\", \"Topic10\", \"Topic10\", \"Topic10\", \"Topic10\", \"Topic10\", \"Topic10\", \"Topic10\", \"Topic10\", \"Topic10\", \"Topic10\", \"Topic10\", \"Topic10\", \"Topic10\", \"Topic10\", \"Topic10\", \"Topic10\", \"Topic10\", \"Topic10\", \"Topic10\", \"Topic10\", \"Topic10\", \"Topic10\", \"Topic10\", \"Topic10\", \"Topic10\", \"Topic10\", \"Topic10\", \"Topic10\", \"Topic10\", \"Topic10\", \"Topic10\", \"Topic10\", \"Topic10\", \"Topic10\", \"Topic10\", \"Topic10\", \"Topic10\", \"Topic10\", \"Topic10\", \"Topic10\", \"Topic10\"], \"logprob\": [30.0, 29.0, 28.0, 27.0, 26.0, 25.0, 24.0, 23.0, 22.0, 21.0, 20.0, 19.0, 18.0, 17.0, 16.0, 15.0, 14.0, 13.0, 12.0, 11.0, 10.0, 9.0, 8.0, 7.0, 6.0, 5.0, 4.0, 3.0, 2.0, 1.0, -5.0015, -5.7537, -5.8986, -6.0157, -6.0982, -6.1179, -6.1816, -6.1951, -6.2584, -6.2751, -6.2787, -6.31, -6.3111, -6.3179, -6.3692, -6.3989, -6.4047, -6.4335, -6.4364, -6.4387, -6.4455, -6.4525, -6.4665, -6.4722, -6.4978, -6.5062, -6.5129, -6.5137, -6.5163, -6.5224, -6.1042, -5.9028, -5.7694, -5.8928, -5.407, -4.788, -4.882, -4.5868, -5.6103, -5.2893, -5.9048, -5.6327, -5.6905, -5.4266, -5.6902, -5.0971, -5.929, -5.6677, -5.9439, -5.1898, -5.8659, -5.4845, -5.8721, -5.6621, -5.8717, -5.929, -5.9241, -5.8861, -5.8875, -5.1697, -5.23, -5.5281, -5.5349, -5.5873, -5.6078, -5.6572, -5.7102, -5.7161, -5.7423, -5.8623, -5.8726, -5.8891, -5.9198, -5.9402, -5.9403, -5.9587, -5.9677, -5.9907, -6.0029, -6.0769, -6.0934, -6.1234, -6.1266, -6.1907, -6.1981, -6.2179, -6.2393, -6.2416, -6.2432, -5.1305, -5.8263, -5.6665, -5.4789, -5.6486, -5.7202, -5.3572, -5.2481, -5.3599, -5.6018, -5.4552, -5.7043, -5.7299, -5.6519, -5.6003, -5.8675, -5.9002, -5.7873, -4.7543, -4.8339, -4.9945, -5.3107, -5.4787, -5.5405, -5.6689, -5.7157, -5.7375, -5.8346, -5.8828, -5.8914, -5.9152, -5.932, -5.9446, -5.9853, -5.9882, -6.0105, -6.0487, -6.0926, -6.1419, -6.1518, -6.1878, -6.1897, -6.1986, -6.2096, -6.2115, -6.2598, -6.2637, -6.298, -4.3743, -4.344, -5.1884, -5.3014, -5.1577, -5.72, -5.4725, -5.7152, -5.8173, -5.8004, -5.7086, -5.2963, -5.7551, -5.8422, -5.768, -5.8921, -4.6208, -4.6753, -4.6983, -4.7154, -4.7238, -4.7241, -5.1704, -5.4377, -5.4472, -5.5887, -5.5914, -5.6052, -5.6078, -5.6088, -5.6322, -5.6406, -5.7622, -5.8242, -5.8468, -5.8497, -5.8824, -5.9043, -5.9605, -5.9937, -6.0394, -6.0494, -6.0815, -6.1025, -6.1093, -6.1106, -4.6335, -4.6502, -4.2655, -5.3802, -5.6969, -5.102, -5.4772, -5.835, -5.6388, -5.8387, -4.6578, -4.6821, -4.7013, -5.5608, -5.5727, -5.673, -5.728, -5.7346, -5.7513, -5.7786, -5.825, -5.8383, -5.8913, -5.899, -5.9311, -5.9372, -5.9419, -5.9435, -5.9471, -5.9766, -6.0201, -6.0247, -6.0302, -6.0337, -6.0529, -6.0718, -6.0806, -6.125, -6.1599, -6.2176, -5.4356, -5.5578, -5.6695, -5.3388, -5.3754, -5.7851, -5.8003, -5.873, -5.8504, -5.8101, -5.7989, -5.8677, -5.6504, -5.8245, -5.8672, -5.8989, -1.2956, -4.4251, -4.8972, -4.969, -4.994, -5.0549, -5.0998, -5.1578, -5.4089, -5.4514, -5.7497, -5.7842, -5.821, -5.8529, -5.8692, -5.8863, -5.8864, -6.0194, -6.0416, -6.0525, -6.0591, -6.0888, -6.0992, -6.1178, -6.1985, -6.1995, -6.2032, -6.2137, -6.2227, -6.2413, -4.7975, -5.4616, -5.3419, -5.7721, -5.8309, -6.0345, -5.9436, -3.9054, -4.5862, -4.5905, -4.6033, -4.6626, -5.2601, -5.3262, -5.3431, -5.3455, -5.3952, -5.4364, -5.6916, -5.7159, -5.7371, -5.7496, -5.7797, -5.8022, -5.8087, -5.8198, -5.8249, -5.8459, -5.8856, -5.9083, -5.9243, -5.9346, -5.9374, -5.9446, -5.9641, -5.9757, -6.0101, -4.9338, -4.6027, -4.9403, -5.2871, -5.5596, -5.6833, -5.873, -4.5373, -4.568, -5.1049, -5.3837, -5.4725, -5.476, -5.5405, -5.5589, -5.5706, -5.6048, -5.6925, -5.7116, -5.773, -5.7773, -5.8655, -5.8932, -5.9287, -5.9403, -5.9424, -5.9539, -5.9581, -5.9597, -5.9869, -5.989, -5.9982, -6.0059, -6.0705, -6.0729, -6.0867, -6.096, -5.192, -5.915, -5.8892, -5.7345, -5.8279, -5.8458, -5.931, -5.9201, -4.4875, -5.0627, -5.1545, -5.3221, -5.3562, -5.4043, -5.4468, -5.4494, -5.4626, -5.4769, -5.54, -5.6366, -5.6785, -5.7593, -5.7796, -5.802, -5.8202, -5.8407, -5.858, -5.868, -5.8689, -5.886, -5.8861, -5.8947, -5.9526, -6.0103, -6.026, -6.0463, -6.0551, -6.0632, -4.4031, -4.5976, -4.7131, -5.6025, -5.8011, -5.5647, -5.8047, -5.8344, -5.7502, -4.7352, -5.1255, -5.208, -5.2324, -5.3128, -5.4738, -5.561, -5.5827, -5.5971, -5.6214, -5.6336, -5.6574, -5.6832, -5.6863, -5.7499, -5.7743, -5.7832, -5.7872, -5.7979, -5.8423, -5.8907, -5.9138, -5.9409, -5.9504, -5.9826, -6.0515, -6.063, -6.066, -6.0798, -6.0817, -5.4523, -5.3864, -5.5752, -5.1301, -5.0484, -5.0837, -5.3819, -5.7934, -5.6916, -5.7568, -5.8292], \"loglift\": [30.0, 29.0, 28.0, 27.0, 26.0, 25.0, 24.0, 23.0, 22.0, 21.0, 20.0, 19.0, 18.0, 17.0, 16.0, 15.0, 14.0, 13.0, 12.0, 11.0, 10.0, 9.0, 8.0, 7.0, 6.0, 5.0, 4.0, 3.0, 2.0, 1.0, 1.7859, 1.7809, 1.7794, 1.7781, 1.7771, 1.7768, 1.7759, 1.7757, 1.7748, 1.7745, 1.7744, 1.7739, 1.7739, 1.7738, 1.7729, 1.7724, 1.7723, 1.7718, 1.7718, 1.7717, 1.7716, 1.7715, 1.7712, 1.7711, 1.7706, 1.7704, 1.7703, 1.7703, 1.7702, 1.7701, 1.7634, 1.709, 1.6635, 1.6704, 1.5871, 1.4663, 1.4152, 1.3228, 1.5207, 1.4085, 1.6028, 1.496, 1.4775, 1.3682, 1.4341, 1.0887, 1.5281, 1.3509, 1.529, 0.9874, 1.4676, 1.1385, 1.3957, 1.0721, 1.3379, 1.4226, 1.3033, 0.9515, 0.9374, 2.2579, 2.2574, 2.2543, 2.2542, 2.2536, 2.2533, 2.2527, 2.2519, 2.2518, 2.2515, 2.2496, 2.2494, 2.2491, 2.2486, 2.2482, 2.2482, 2.2479, 2.2478, 2.2473, 2.2471, 2.2456, 2.2453, 2.2447, 2.2446, 2.2432, 2.243, 2.2425, 2.242, 2.242, 2.2419, 1.9529, 2.1185, 2.0516, 1.9797, 2.0198, 2.0448, 1.7184, 1.5895, 1.5505, 1.6536, 1.3697, 1.6565, 1.6504, 1.3373, 1.0226, 1.7759, 1.9627, 0.1223, 2.3063, 2.3059, 2.3048, 2.302, 2.3002, 2.2994, 2.2977, 2.297, 2.2967, 2.2951, 2.2943, 2.2941, 2.2937, 2.2934, 2.2932, 2.2924, 2.2923, 2.2919, 2.2911, 2.2902, 2.2891, 2.2888, 2.288, 2.2879, 2.2877, 2.2875, 2.2874, 2.2862, 2.2861, 2.2852, 2.2336, 2.1671, 2.0616, 2.0516, 1.8342, 2.0493, 1.9168, 1.9265, 1.9988, 1.9547, 1.8595, 1.3948, 1.8856, 1.9842, 1.7336, 1.9226, 2.3149, 2.3146, 2.3145, 2.3144, 2.3144, 2.3144, 2.3112, 2.3085, 2.3084, 2.3066, 2.3066, 2.3064, 2.3064, 2.3063, 2.306, 2.3059, 2.3041, 2.3031, 2.3027, 2.3026, 2.3021, 2.3017, 2.3006, 2.3, 2.2991, 2.2988, 2.2982, 2.2977, 2.2975, 2.2975, 2.2546, 2.2311, 2.1072, 2.1131, 2.0858, 1.6088, 1.8803, 2.1361, 1.8025, 2.0227, 2.3314, 2.3312, 2.3311, 2.3235, 2.3233, 2.3219, 2.3211, 2.321, 2.3207, 2.3203, 2.3195, 2.3193, 2.3183, 2.3182, 2.3176, 2.3175, 2.3174, 2.3173, 2.3173, 2.3167, 2.3158, 2.3157, 2.3156, 2.3155, 2.3151, 2.3147, 2.3145, 2.3135, 2.3127, 2.3113, 2.1954, 2.0455, 2.029, 1.8124, 1.725, 2.0383, 1.9281, 1.9539, 1.8512, 1.6951, 1.644, 1.797, 0.2593, 1.0859, 1.379, 1.6022, 2.367, 2.3627, 2.3601, 2.3595, 2.3593, 2.3588, 2.3585, 2.3579, 2.3553, 2.3548, 2.3505, 2.3499, 2.3493, 2.3487, 2.3484, 2.3481, 2.3481, 2.3454, 2.3449, 2.3447, 2.3445, 2.3438, 2.3436, 2.3432, 2.3412, 2.3411, 2.341, 2.3408, 2.3405, 2.34, 2.2702, 2.0451, 1.825, 2.0135, 1.9805, 2.0398, 0.2337, 2.4101, 2.4074, 2.4074, 2.4073, 2.407, 2.4022, 2.4015, 2.4013, 2.4013, 2.4007, 2.4002, 2.3965, 2.3961, 2.3958, 2.3956, 2.3951, 2.3947, 2.3945, 2.3943, 2.3942, 2.3938, 2.3931, 2.3926, 2.3923, 2.3921, 2.392, 2.3919, 2.3915, 2.3912, 2.3905, 2.2526, 2.1763, 2.2158, 2.2016, 1.4324, 1.0145, 1.0176, 2.43, 2.4298, 2.426, 2.423, 2.4219, 2.4218, 2.4209, 2.4207, 2.4205, 2.42, 2.4186, 2.4183, 2.4172, 2.4171, 2.4155, 2.4149, 2.4142, 2.414, 2.4139, 2.4137, 2.4136, 2.4136, 2.413, 2.4129, 2.4127, 2.4125, 2.411, 2.411, 2.4107, 2.4104, 2.2186, 2.2421, 2.0966, 1.7524, 1.6631, 1.0448, 1.7317, 0.859, 2.489, 2.4849, 2.484, 2.4821, 2.4817, 2.4811, 2.4805, 2.4805, 2.4803, 2.4801, 2.4792, 2.4776, 2.4769, 2.4755, 2.4751, 2.4747, 2.4743, 2.4739, 2.4735, 2.4733, 2.4733, 2.473, 2.473, 2.4728, 2.4715, 2.4702, 2.4698, 2.4693, 2.4691, 2.4689, 2.2884, 2.2913, 2.296, 2.0571, 2.1525, 1.3945, 2.0561, 2.1345, 1.37, 2.4941, 2.4909, 2.49, 2.4897, 2.4888, 2.4867, 2.4854, 2.4851, 2.4848, 2.4844, 2.4842, 2.4838, 2.4834, 2.4833, 2.4822, 2.4817, 2.4816, 2.4815, 2.4813, 2.4804, 2.4794, 2.4789, 2.4783, 2.4781, 2.4773, 2.4757, 2.4754, 2.4753, 2.475, 2.4749, 2.3087, 2.1755, 2.2435, 1.9985, 1.9125, 1.8068, 1.6799, 1.8799, 1.3766, 1.4376, 0.3481]}, \"token.table\": {\"Topic\": [7, 8, 10, 6, 9, 4, 9, 8, 4, 6, 10, 9, 5, 2, 2, 3, 5, 3, 1, 4, 5, 9, 2, 8, 9, 1, 5, 7, 10, 8, 9, 9, 10, 6, 8, 1, 2, 3, 5, 9, 1, 2, 3, 8, 9, 1, 3, 3, 3, 7, 9, 5, 8, 6, 1, 7, 1, 1, 2, 10, 2, 2, 7, 7, 8, 10, 2, 1, 4, 8, 2, 4, 5, 6, 5, 3, 8, 2, 4, 8, 8, 6, 6, 8, 10, 6, 2, 10, 2, 7, 9, 9, 1, 1, 2, 4, 3, 7, 5, 3, 7, 2, 3, 2, 4, 2, 1, 4, 10, 8, 2, 5, 10, 1, 4, 1, 5, 1, 6, 9, 8, 8, 1, 3, 4, 9, 10, 8, 9, 10, 6, 8, 7, 10, 5, 2, 7, 4, 1, 4, 2, 2, 3, 7, 9, 1, 3, 8, 8, 6, 5, 9, 7, 9, 5, 1, 8, 7, 9, 1, 8, 7, 8, 9, 6, 8, 10, 9, 4, 3, 8, 6, 6, 8, 9, 5, 3, 3, 1, 2, 5, 7, 9, 1, 2, 7, 9, 2, 5, 5, 6, 7, 1, 3, 7, 6, 2, 3, 5, 10, 3, 4, 5, 1, 2, 5, 7, 6, 8, 5, 9, 9, 3, 2, 2, 2, 3, 9, 1, 5, 1, 10, 10, 1, 4, 9, 5, 3, 1, 3, 7, 6, 9, 1, 4, 7, 10, 2, 10, 5, 3, 8, 3, 2, 1, 1, 2, 5, 7, 10, 1, 5, 9, 10, 2, 3, 5, 9, 2, 9, 1, 2, 5, 7, 4, 6, 2, 1, 3, 4, 9, 3, 7, 3, 1, 8, 10, 6, 6, 9, 5, 2, 2, 4, 9, 7, 5, 2, 6, 6, 1, 5, 1, 5, 7, 4, 3, 1, 1, 5, 7, 9, 7, 8, 5, 6, 10, 4, 3, 4, 6, 1, 1, 4, 7, 8, 6, 4, 1, 2, 3, 1, 5, 1, 2, 3, 5, 9, 7, 3, 4, 2, 1, 1, 3, 7, 8, 10, 4, 5, 6, 9, 6, 3, 10, 4, 1, 2, 4, 5, 6, 1, 5, 4, 8, 9, 10, 10, 1, 2, 3, 4, 6, 7, 9, 10, 1, 3, 7, 9, 1, 2, 3, 5, 6, 7, 10, 7, 8, 10, 1, 8, 6, 8, 2, 4, 5, 9, 5, 5, 1, 2, 8, 4, 1, 10, 1, 4, 10, 4, 10, 7, 3, 4, 5, 8, 9, 1, 4, 2, 9, 9, 6, 6, 2, 2, 8, 2, 4, 5, 3, 5, 8, 8, 4, 4, 10, 2, 3, 4, 6, 5, 5, 10, 2, 10, 6, 10, 4, 1, 2, 2, 10, 3, 4, 10, 9, 1, 4, 1, 4, 5, 9, 10, 1, 2, 4, 9, 9, 2, 8, 4, 5, 3, 10, 5, 3, 3, 6, 1, 2, 4, 8, 3, 4, 5, 8, 3, 8, 7, 7, 10, 9, 9, 1, 2, 5, 8, 2, 3, 9, 4, 5, 2, 4, 5, 7, 10, 1, 3, 8, 7, 4, 4, 1, 2, 2, 2, 1, 5, 8, 7, 10, 1, 8, 7, 4, 10, 10, 5, 3, 6, 6, 3, 4, 7, 10, 3, 8, 7, 7, 4, 8, 2, 3, 3, 3, 6, 7, 9, 7, 2, 3, 4, 5, 6, 1, 8, 10, 7, 7, 3, 8, 5, 2, 7, 10, 1, 7, 10, 1, 3, 3, 9, 1, 5, 5, 4, 4, 1, 6, 4, 3, 6, 8, 4, 10, 7, 10, 5, 6, 6, 1, 1, 3, 6, 3, 9, 4, 4, 5, 1, 4, 9, 5, 5, 7, 3, 10, 7, 7, 7, 8, 7, 7, 10, 9, 1, 6, 7, 3, 4, 1, 10, 9, 10, 8, 3, 1, 2, 2, 3, 5, 4, 6, 8, 2, 7, 10, 10, 1, 9, 3], \"Freq\": [0.9802546068269945, 0.1581682081889148, 0.8195988969789222, 0.1762695750246826, 0.8203314837687152, 0.3495062962723677, 0.6513526430530489, 0.977409507182978, 0.9874455265027032, 0.9890851207915404, 0.9782945972379292, 0.9743047731084575, 0.9702728717661744, 0.9845937391983209, 0.9762966586570216, 0.9728382055248448, 0.9709093686803372, 0.9646355469653292, 0.9930521730471971, 0.22661950902739086, 0.5938994029683347, 0.17191824822767582, 0.9788489950355154, 0.9691956907268654, 0.9865119364734979, 0.6378902775906519, 0.12426433979038672, 0.09941147183230938, 0.13254862910974582, 0.9840144093583205, 0.9675160911763476, 0.9674454063873168, 0.9910008792957197, 0.975554912123019, 0.9758605352447509, 0.32555200951980073, 0.10358473030175477, 0.3995411025924827, 0.11838254891629117, 0.05425866825330012, 0.4529151387429518, 0.5396435695660703, 0.2732968457717843, 0.5028661962200831, 0.20770560278655606, 0.7657844782604802, 0.22973534347814406, 0.9890517049270425, 0.7744990136765169, 0.21991947301925788, 0.97621428367701, 0.9811965286085066, 0.9920512439865911, 0.9695672654227024, 0.17275206204990592, 0.82449847796546, 0.9786517238331095, 0.9782410583864326, 0.8127117649906334, 0.17907208381149547, 0.9802896710879446, 0.9845771767193158, 0.9902372429853438, 0.9900923647819153, 0.21327984836239375, 0.7769480190344343, 0.979306010982281, 0.9916714233255431, 0.9897685782239515, 0.980604095990085, 0.4913585129807793, 0.1351235910697143, 0.28867312637620784, 0.08598773977163639, 0.9840106276424038, 0.9258627897728143, 0.07261668939394622, 0.975180439669781, 0.9866524560033275, 0.9946998865310016, 0.9776338116580766, 0.9667138244869998, 0.9809460529524063, 0.9772716986420743, 0.9907321318863318, 0.9901134804528171, 0.9878633251294462, 0.9756379726729786, 0.9800125843771973, 0.27894140283597785, 0.7147873447671933, 0.9848664930334419, 0.9741764254527984, 0.17219061399421937, 0.01793652229106452, 0.8071435030979033, 0.6197501198671768, 0.37318286787700966, 0.9762664773357043, 0.7763109297420621, 0.21564192492835055, 0.9908272741062222, 0.9802803118626475, 0.9651227783294778, 0.9953579349056977, 0.990282707552708, 0.06006156345047716, 0.9369603898274437, 0.9719084688472455, 0.960928603832303, 0.1744386032366142, 0.26488824935930305, 0.55561925475366, 0.3969217476990674, 0.5953826215486011, 0.9925767735114472, 0.9753037988580986, 0.9894144664398327, 0.9797552831214925, 0.993785044162866, 0.983964665731229, 0.9814077615926772, 0.21127514976648393, 0.130789378426871, 0.49297534945512916, 0.14085009984432262, 0.025151803543629038, 0.1803453044617254, 0.8175653802264884, 0.9834919308447472, 0.14957494643152638, 0.8333461301185042, 0.8103921207248209, 0.18617116286921562, 0.983317446188481, 0.9773466780383712, 0.9873964361614355, 0.9830161237195376, 0.9860593808342014, 0.9872212273232974, 0.9848297351428573, 0.7302185417719498, 0.2628786750379019, 0.9938316313725287, 0.9767234306952866, 0.9872952393311586, 0.7293191942786836, 0.25830054797370045, 0.98585748424377, 0.9844842173002397, 0.9718178918920719, 0.9756825563904777, 0.9921222198725353, 0.982566149339695, 0.9874712008545324, 0.9753347488467196, 0.9754275527304115, 0.984556172435182, 0.9894656905197114, 0.9757501318284955, 0.01599590380046714, 0.9869343229818697, 0.991593659292687, 0.9922619196858501, 0.7248014916200735, 0.2676190122904887, 0.977028732572972, 0.9795076005638885, 0.9976354065924647, 0.9918028086906122, 0.9889534036411762, 0.9855357299216398, 0.9730836671458664, 0.9921279168431534, 0.9908909653611804, 0.9845881447681074, 0.9809717172134351, 0.9800489308194329, 0.5206791233088339, 0.2902901306943056, 0.07833225748893961, 0.05529335822748679, 0.05529335822748679, 0.4285466961563694, 0.40599160688498154, 0.10149790172124538, 0.06202649549631663, 0.9921451354135867, 0.9909756085795518, 0.992195745762846, 0.7073335194780335, 0.27998618479338827, 0.7311042230616902, 0.18277605576542255, 0.07946785033279243, 0.9720684244378242, 0.20138888609308706, 0.23735118718113832, 0.23015872696352807, 0.32366070979246137, 0.9624357692244434, 0.24487321037340629, 0.7346196311202188, 0.29215780224019305, 0.13748602458362025, 0.38667944414143196, 0.1804504072660016, 0.9851152768903072, 0.971806833114769, 0.7491372389528685, 0.24561876686979295, 0.9973645581838763, 0.992130760017225, 0.9855346703921152, 0.986300959886501, 0.8084580778005603, 0.18767776806084435, 0.9921830710796913, 0.30719634090763065, 0.6758319499967874, 0.9165837832182188, 0.07431760404472043, 0.9903765613286015, 0.6998400647755811, 0.1977808878713599, 0.09889044393567994, 0.9752763820208805, 0.9901490594235411, 0.6760747439786474, 0.21950478700605433, 0.09658210628266391, 0.9998446416324095, 0.9637331904865059, 0.029831214883405482, 0.9128351754322077, 0.053696186790129864, 0.9884368747888608, 0.8639772553980729, 0.12095681575573021, 0.9894364876452414, 0.9715443406220093, 0.9933857643364744, 0.996551254156335, 0.9832630843539786, 0.9809331896759238, 0.6886013335854592, 0.14304278910229343, 0.09979729472253031, 0.05322522385201616, 0.016632882453755053, 0.6433363418871084, 0.17110009092742245, 0.06159603273387208, 0.11634806183064728, 0.23016722914271154, 0.14647005490899825, 0.5021830454022798, 0.11508361457135577, 0.2832455692111849, 0.6904110749522631, 0.9755750708480544, 0.1262661582182385, 0.8712364917058457, 0.9782519736537562, 0.8338400315717415, 0.15967149540735476, 0.9739969638181807, 0.3560718212940301, 0.2500078745255956, 0.06818396577970788, 0.3257678365030488, 0.9809701563473098, 0.9774763147200304, 0.9892893738695143, 0.7220471495945092, 0.14065853563529399, 0.1219040642172548, 0.9947085244128934, 0.9057616104381684, 0.0862630105179208, 0.9968123212191463, 0.9853647741023381, 0.7323663545476828, 0.25473612332093315, 0.9870160078706459, 0.9923563398932151, 0.9923242046428319, 0.3024566469849767, 0.6805274557161975, 0.976076121416469, 0.7487737931658719, 0.25213811402524255, 0.9939152487154211, 0.1457031401854835, 0.8499349844153203, 0.9755929836555731, 0.9837162206854166, 0.9806873514183532, 0.320133592820486, 0.6681048893644924, 0.9960410145121076, 0.9873512118185235, 0.9912177269081421, 0.9795509480699741, 0.587621752049141, 0.19587391734971366, 0.22199043966300883, 0.9881704566042854, 0.8652477342704354, 0.13184727379359015, 0.9622123028650784, 0.9832736635883238, 0.7653122421221665, 0.08623236530953989, 0.12934854796430983, 0.9826535398015204, 0.9742581705159079, 0.9887357478972, 0.3115346396668903, 0.5795993296128192, 0.10867487430240359, 0.379363028028146, 0.6096905807595203, 0.4892356832671174, 0.19054442400929836, 0.1132966845460693, 0.11844653384361789, 0.08754743805832627, 0.9747863407925106, 0.9802307826959303, 0.9913711284680525, 0.9811587036090127, 0.9727395046904367, 0.7234242322886465, 0.08923294495190354, 0.03824269069367294, 0.06373781782278824, 0.08604605406076413, 0.19845170218310088, 0.13494715748450858, 0.5794789703746546, 0.07938068087324035, 0.9814128687978632, 0.7214745045275905, 0.2609588633397668, 0.9894320997767259, 0.6254189097384958, 0.11740715995090896, 0.07225055996979013, 0.12418064994807679, 0.05870357997545448, 0.9865606201989666, 0.9939869301624177, 0.19862233034309823, 0.09931116517154912, 0.09167184477373765, 0.6035063114271062, 0.9858425936575598, 0.49702321887306994, 0.0803570473627119, 0.09523798205951041, 0.08928560818079101, 0.023809495514877602, 0.035714243272316405, 0.062499925726553704, 0.1160712906350283, 0.6566365427103317, 0.16415913567758292, 0.09302351021729699, 0.08207956783879146, 0.4484881323996946, 0.020654058728933302, 0.10622087346308555, 0.09441855418940938, 0.11802319273676173, 0.09736913400782843, 0.11507261291834268, 0.24688630992935673, 0.24688630992935673, 0.4997942371740636, 0.4952258322427257, 0.4952258322427257, 0.7277831089085777, 0.2557075788057165, 0.5377149682380286, 0.1561107972303954, 0.19080208550381658, 0.1040738648202636, 0.9806157272848778, 0.9759837837156166, 0.697092808100238, 0.14323824823977493, 0.1623366813384116, 0.9797713671352399, 0.978636701513052, 0.9897781257072866, 0.8803720550838064, 0.11393050124613965, 0.9819546744029922, 0.9720913360589167, 0.9953982116109421, 0.9945535937137754, 0.2883082103434749, 0.05544388660451441, 0.4768174247988239, 0.1219765505299317, 0.05544388660451441, 0.8259470801867465, 0.1674217054432594, 0.3508214143263311, 0.6496692857895021, 0.9785592735990735, 0.984296401738401, 0.9779636879178546, 0.9839575102333783, 0.973646665526594, 0.9914858147558241, 0.19102265362818194, 0.7934787150709095, 0.9794483639004954, 0.6502033940416013, 0.16573812004981997, 0.16573812004981997, 0.993858005075427, 0.9733807365931249, 0.9867453509066133, 0.9970275749535319, 0.28844707051524354, 0.565800022933747, 0.14422353525762177, 0.9675398500263589, 0.9835529251417193, 0.9667304678728539, 0.9794907058565014, 0.9724932520905873, 0.9856127734181535, 0.9891024747178967, 0.9810186765971726, 0.987646844392705, 0.9821884993792177, 0.9842155972946663, 0.9922465198120772, 0.9834592341159158, 0.9907353611964009, 0.9917378144276568, 0.9698852457812065, 0.987285897424445, 0.9728242908219352, 0.9887349654294157, 0.4256843438250458, 0.05159810228182373, 0.10964596734887543, 0.3353876648318542, 0.07739715342273559, 0.43400174652236495, 0.5082388873748748, 0.05710549296346907, 0.9770601473881341, 0.9830808447828726, 0.9903693664280322, 0.9759470327531509, 0.6435199902696505, 0.34577193507025994, 0.9968138810331453, 0.9861619294615688, 0.9917105562224708, 0.9771578558501889, 0.9826103029080352, 0.9943407756269034, 0.615600354446294, 0.20238915762617884, 0.07589593410981707, 0.10119457881308942, 0.6827612064549659, 0.3186218963456507, 0.27003980783772213, 0.7201061542339258, 0.676414593223028, 0.3063009478745787, 0.9776128176548615, 0.9804190515730069, 0.9922764912872936, 0.9894088279805, 0.9874435592739046, 0.9893852945662679, 0.3842097114040918, 0.14270646423580555, 0.4610516536849102, 0.7864624387149746, 0.20972331699065988, 0.9806197201934513, 0.9784971751854925, 0.9757042120591797, 0.26926886281767615, 0.08975628760589204, 0.22031088775991683, 0.07343696258663894, 0.34270582540431505, 0.7745805541645835, 0.11671761775082765, 0.10610692522802513, 0.9900896227933962, 0.9868184300050498, 0.9910493936223801, 0.9816144357769373, 0.9890087307395985, 0.9730543287093066, 0.9952543385174306, 0.37136300246208487, 0.5421899835946439, 0.08169986054165868, 0.9772525402969087, 0.9876727632433157, 0.9861029730016581, 0.9777312448900027, 0.9900136357792019, 0.9782707222632521, 0.9755108054192307, 0.9726951352837356, 0.9781232901927531, 0.980790735261511, 0.9905554712873637, 0.9928798753341987, 0.2286703675846002, 0.21437846961056267, 0.1143351837923001, 0.44304883719516286, 0.990608572514568, 0.9696673531958782, 0.9751931421196003, 0.9923325825367334, 0.9861990261773297, 0.9798148248595622, 0.35570996094844276, 0.640277929707197, 0.9911160635976014, 0.674200831052008, 0.019829436207412, 0.168550207763002, 0.13880605345188402, 0.9925128560488163, 0.39206664241549566, 0.2591626958339717, 0.16612993322690495, 0.16612993322690495, 0.013290394658152394, 0.969519610035276, 0.800186363365126, 0.19244988485996703, 0.9727021349875937, 0.978675104617521, 0.7004517699733676, 0.28589868162178267, 0.9877461645903927, 0.5404149649818082, 0.2456431659008219, 0.2161659859927233, 0.9703147737335274, 0.2709963301155951, 0.7187293972630999, 0.814748578778677, 0.18031321005757606, 0.9883849811446613, 0.9754823682114944, 0.9931934734004179, 0.9675988549023582, 0.9810811584977885, 0.9966865135639611, 0.9747468348087407, 0.980030521024192, 0.9829706303500323, 0.9894749705794335, 0.9747559927681195, 0.9957062810480878, 0.9892561088264267, 0.9754419481524961, 0.9735694807730574, 0.9874509158595479, 0.983006080430194, 0.9607124774592567, 0.9710810008566955, 0.969635937554481, 0.9823383138692129, 0.9807693599227213, 0.9816251103235115, 0.9879178352682716, 0.9834406103898826, 0.9698888101532428, 0.9809214787435179, 0.7472036387972346, 0.23846924642464934, 0.9791830592868371, 0.9934705059474336, 0.9932706432025923, 0.9908546498023099, 0.7294362862001449, 0.2566535081074584, 0.9882869496403903, 0.9899351001660085, 0.9715166013228557, 0.9893518964324911, 0.7917485726842268, 0.2046696990612287, 0.9826687757365381, 0.981329480200015, 0.9743594405446072, 0.9813114000104265, 0.6803382391609052, 0.06952361568067644, 0.2482986274309873, 0.7684862349603012, 0.21749610423404753, 0.4478562077835072, 0.5400618976212881, 0.814185056334346, 0.1825748308143685, 0.9712711973492104, 0.9773258315307978, 0.3835029195084877, 0.6136046712135803, 0.23381123011111235, 0.23381123011111235, 0.5232918007248706, 0.8141583487364525, 0.1760342375646384, 0.9909616474983617, 0.7545415564702955, 0.24442895491291264, 0.9883031871024878, 0.973654176781869, 0.8848502585989487, 0.10618203103187385, 0.9697839374145031], \"Term\": [\"27\", \"akurat\", \"akurat\", \"antysemityzm\", \"antysemityzm\", \"antysemityzmu\", \"antysemityzmu\", \"antysemit\\u0105\", \"bht\", \"birkenau\", \"bo\\u017ce\", \"bramy\", \"brawo\", \"bym\", \"by\\u0142em\", \"by\\u0142oby\", \"by\\u015b\", \"b\\u0119dziesz\", \"centrum\", \"chce\", \"chce\", \"chce\", \"chcecie\", \"chcemy\", \"chcia\\u0142\", \"chodzi\", \"chodzi\", \"chodzi\", \"chodzi\", \"cho\\u0107\", \"chrystus\", \"chrystusa\", \"chrze\\u015bcijan\", \"chrze\\u015bcijanie\", \"chuj\", \"chyba\", \"chyba\", \"chyba\", \"chyba\", \"chyba\", \"ciekawe\", \"ciekawe\", \"czas\", \"czas\", \"czas\", \"czasie\", \"czasie\", \"czasu\", \"czego\", \"czego\", \"czyni\", \"cz\\u0142owieka\", \"danie\", \"deportowana\", \"dnia\", \"dnia\", \"dniu\", \"dobra\", \"dok\\u0142adnie\", \"dok\\u0142adnie\", \"domu\", \"dopiero\", \"drugie\", \"drugiej\", \"duda\", \"duda\", \"dupie\", \"dw\\u00f3ch\", \"dziadek\", \"dzia\\u0142a\", \"dzieci\", \"dzieci\", \"dzieci\", \"dzieci\", \"dziecko\", \"dzie\\u0144\", \"dzie\\u0144\", \"dziwne\", \"dzi\\u0119ki\", \"dzi\\u0119kujemy\", \"d\\u0142ugo\", \"gazowej\", \"getta\", \"gorsze\", \"granicy\", \"grudnia\", \"g\\u0142upi\", \"g\\u0142\\u00f3wnie\", \"ha\", \"hai\", \"hai\", \"he\", \"hi\", \"historii\", \"historii\", \"historii\", \"hitler\", \"hitler\", \"ho\", \"ii\", \"ii\", \"iii\", \"ilu\", \"imi\\u0119\", \"in\", \"inni\", \"innym\", \"innym\", \"innymi\", \"istnieje\", \"izraela\", \"izraela\", \"izraela\", \"izraelu\", \"izraelu\", \"jakie\\u015b\", \"jakim\", \"jan\", \"jebany\", \"jeba\\u0107\", \"jednego\", \"jestes\", \"jeste\\u015b\", \"jeste\\u015b\", \"jeste\\u015b\", \"jeste\\u015b\", \"jeste\\u015b\", \"jezus\", \"jezus\", \"judaizm\", \"judaizmu\", \"judaizmu\", \"ka\", \"ka\", \"kaczy\\u0144ski\", \"kapo\", \"kas\\u0119\", \"katolik\\u00f3w\", \"ka\\u017cdego\", \"ka\\u017cdym\", \"ki\", \"kiedy\\u015b\", \"kiedy\\u015b\", \"kl\", \"kobiet\", \"kobiety\", \"kogo\", \"kogo\", \"kolejny\", \"komorze\", \"koncentracyjnego\", \"koncentracyjnych\", \"koncie\", \"konfederacja\", \"konfederacji\", \"korzenie\", \"ko\\u0144ca\", \"ko\\u015bcio\\u0142a\", \"ko\\u015bci\\u00f3\\u0142\", \"kraj\", \"kraj\", \"krakowie\", \"krwi\", \"kuch\", \"kurwa\", \"kurwa\", \"kurwy\", \"lata\", \"lekcje\", \"lepiej\", \"lewica\", \"lewicy\", \"listopada\", \"livracha\", \"los\", \"lubi\", \"lubi\\u0105\", \"lubi\\u0119\", \"ludzi\", \"ludzi\", \"ludzi\", \"ludzi\", \"ludzi\", \"ludzie\", \"ludzie\", \"ludzie\", \"ludzie\", \"ludziom\", \"ludzko\\u015bci\", \"macie\", \"maja\", \"maja\", \"mamy\", \"mamy\", \"mamy\", \"marca\", \"masz\", \"masz\", \"masz\", \"masz\", \"matka\", \"media\", \"media\", \"mia\\u0142\", \"mia\\u0142\", \"mia\\u0142\", \"mia\\u0142\", \"mia\\u0142a\", \"michnik\", \"mie\\u0107\", \"mie\\u0107\", \"misji\", \"mi\\u0119dzynarodowy\", \"mniej\", \"mocno\", \"mogli\", \"mogli\", \"mojej\", \"morawiecki\", \"morawiecki\", \"mordowali\", \"mordowali\", \"mo\\u017cesz\", \"muzeum\", \"muzeum\", \"muzeum\", \"my\\u015bl\\u0119\", \"m\\u00f3g\\u0142\", \"m\\u00f3wi\", \"m\\u00f3wi\", \"m\\u00f3wi\", \"nan\", \"narodem\", \"naszej\", \"naszej\", \"naszej\", \"nazistowskie\", \"nazi\\u015bci\", \"nazi\\u015bci\", \"nazwisko\", \"nazywa\", \"ni\", \"nieba\", \"niekt\\u00f3rzy\", \"niemcami\", \"niemcy\", \"niemcy\", \"niemcy\", \"niemcy\", \"niemcy\", \"niemc\\u00f3w\", \"niemc\\u00f3w\", \"niemc\\u00f3w\", \"niemc\\u00f3w\", \"niemiec\", \"niemiec\", \"niemiec\", \"niemiec\", \"niemiecki\", \"niemiecki\", \"niemieckie\", \"niemieckiego\", \"niemieckiego\", \"niemieckim\", \"nienawi\\u015b\\u0107\", \"nienawi\\u015b\\u0107\", \"niezaszczepieni\", \"nikt\", \"nikt\", \"nikt\", \"nikt\", \"nowe\", \"nowego\", \"nowy\", \"np\", \"np\", \"np\", \"nr\", \"obozie\", \"obozie\", \"obozu\", \"obozy\", \"oboz\\u00f3w\", \"oboz\\u00f3w\", \"obra\\u017ca\", \"obserwowania\", \"obserwowanie\", \"ob\\u00f3z\", \"ob\\u00f3z\", \"of\", \"ofiar\", \"ofiar\", \"ofiarach\", \"ofiary\", \"ofiary\", \"og\\u00f3le\", \"ojciec\", \"ok\", \"okupacji\", \"okupacji\", \"online\", \"opaski\", \"opowiadamy\", \"osoby\", \"os\\u00f3b\", \"os\\u00f3b\", \"os\\u00f3b\", \"o\\u015bwi\\u0119cimiu\", \"pami\\u0119ci\", \"pami\\u0119ci\", \"pami\\u0119tam\", \"pami\\u0119\\u0107\", \"panie\", \"panie\", \"panie\", \"panu\", \"pa\\u017adziernika\", \"peace\", \"pewnie\", \"pewnie\", \"pewnie\", \"pieni\\u0105dze\", \"pieni\\u0105dze\", \"pis\", \"pis\", \"pis\", \"pis\", \"pis\", \"pisu\", \"pochodzenie\", \"podcasty\", \"podobnie\", \"podobno\", \"polacy\", \"polacy\", \"polacy\", \"polacy\", \"polacy\", \"polak\", \"polak\", \"polak\", \"polak\", \"polaka\", \"polakami\", \"polakami\", \"polakiem\", \"polak\\u00f3w\", \"polak\\u00f3w\", \"polak\\u00f3w\", \"polak\\u00f3w\", \"polak\\u00f3w\", \"polecam\", \"polecamy\", \"polin\", \"polin\", \"polin\", \"polin\", \"polityki\", \"polsce\", \"polsce\", \"polsce\", \"polsce\", \"polsce\", \"polsce\", \"polsce\", \"polsce\", \"polska\", \"polska\", \"polska\", \"polska\", \"polski\", \"polski\", \"polski\", \"polski\", \"polski\", \"polski\", \"polski\", \"polskich\", \"polskich\", \"polskich\", \"polskim\", \"polskim\", \"pomoc\", \"pomoc\", \"potem\", \"potem\", \"potem\", \"potem\", \"powiedz\", \"praw\", \"prawda\", \"prawda\", \"prawda\", \"prawdy\", \"prawd\\u0119\", \"prawem\", \"prawo\", \"prawo\", \"prezydent\", \"prezydenta\", \"problem\", \"prosimy\", \"prostu\", \"prostu\", \"prostu\", \"prostu\", \"prostu\", \"prosz\\u0119\", \"prosz\\u0119\", \"przeciwko\", \"przeciwko\", \"przeszkadza\", \"prze\\u017cy\\u0142\", \"prze\\u017cy\\u0142a\", \"przynajmniej\", \"przypomina\", \"pytam\", \"pytanie\", \"pytanie\", \"racj\\u0119\", \"raczej\", \"raczej\", \"raczej\", \"raz\", \"remember\", \"rest\", \"rip\", \"robi\\u0105\", \"robi\\u0105\", \"robi\\u0105\", \"rocznica\", \"rocznic\\u0119\", \"rosja\", \"rosjanie\", \"roznosz\\u0105\", \"rozumiem\", \"rp\", \"ruski\", \"rzecz\", \"rzeczy\", \"rzeszy\", \"rz\\u0105du\", \"rz\\u0105dy\", \"rz\\u0105dzi\", \"rz\\u0105dz\\u0105\", \"r\\u00f3\\u017cnych\", \"sa\", \"same\", \"samego\", \"sami\", \"sami\", \"sami\", \"sami\", \"sami\", \"samo\", \"samo\", \"samo\", \"samych\", \"se\", \"segregacji\", \"serio\", \"siebie\", \"siebie\", \"spad\\u0142o\", \"spisek\", \"sprawie\", \"stary\", \"strony\", \"stycznia\", \"swoich\", \"swoich\", \"swoich\", \"swoich\", \"swoim\", \"swoim\", \"swojego\", \"swojego\", \"swoj\\u0105\", \"swoj\\u0105\", \"sw\\u00f3j\", \"sy\", \"szczeg\\u00f3lnie\", \"szczepienie\", \"szczepie\\u0144\", \"szkoda\", \"s\\u0142owa\", \"s\\u0142owa\", \"s\\u0142owa\", \"tacy\", \"tacy\", \"tadeusz\", \"takim\", \"tak\\u0105\", \"temu\", \"temu\", \"temu\", \"temu\", \"temu\", \"tez\", \"tez\", \"tez\", \"the\", \"tragicznej\", \"trudnej\", \"tusk\", \"tvn\", \"tvp\", \"tyfus\", \"tyle\", \"tyle\", \"tyle\", \"tymi\", \"typu\", \"tys\", \"t\\u0119\", \"uczymy\", \"udzia\\u0142\", \"ue\", \"ukrainie\", \"ukrainy\", \"upami\\u0119tniamy\", \"urodzi\\u0142\", \"urodzi\\u0142a\", \"usa\", \"usa\", \"usa\", \"usa\", \"ustawy\", \"uwag\\u0119\", \"via\", \"warszawie\", \"warto\", \"wcale\", \"wida\\u0107\", \"wida\\u0107\", \"widzisz\", \"wie\", \"wie\", \"wie\", \"wie\", \"wiedzia\\u0142\", \"wiem\", \"wiem\", \"wiem\", \"wiem\", \"wiem\", \"wiemy\", \"wiesz\", \"wiesz\", \"wina\", \"winni\", \"wi\\u0119kszo\\u015b\\u0107\", \"wi\\u0119kszo\\u015b\\u0107\", \"wi\\u0119\\u017ani\\u00f3w\", \"wobec\", \"wobec\", \"wobec\", \"wojna\", \"wojnie\", \"wojnie\", \"wojny\", \"wojny\", \"wojn\\u0105\", \"wojn\\u0119\", \"wolno\", \"wolno\\u015bci\", \"won\", \"wspieranie\", \"wstyd\", \"wsz\\u0119dzie\", \"wygl\\u0105da\", \"wyzwolenia\", \"w\\u015b\", \"xd\", \"you\", \"your\", \"zabili\", \"zach\\u0119camy\", \"zamiast\", \"zamordowali\", \"zamordowany\", \"zamordowanych\", \"zbrodni\", \"zbrodnie\", \"zdanie\", \"zgin\\u0105\\u0142\", \"zgin\\u0119\\u0142o\", \"zgotowali\", \"zna\", \"znaczy\", \"znaczy\", \"znam\", \"zna\\u0107\", \"zosta\\u0142a\", \"zosta\\u0142o\", \"zrobi\\u0107\", \"zrobi\\u0107\", \"zrobi\\u0142\", \"zupe\\u0142nie\", \"zwykle\", \"zw\\u0142aszcza\", \"zyd\", \"zyd\", \"zydem\", \"zydki\", \"zydokomuna\", \"zydom\", \"zydow\", \"zydow\", \"zydow\", \"zydowski\", \"zydowski\", \"zydowskie\", \"zydowskie\", \"zydzi\", \"zydzi\", \"zyd\\u00f3w\", \"\\u0142eb\", \"\\u015bmier\\u0107\", \"\\u015bmier\\u0107\", \"\\u015bwiat\", \"\\u015bwiat\", \"\\u015bwiat\", \"\\u015bwiata\", \"\\u015bwiata\", \"\\u015bwiatem\", \"\\u015bwiecie\", \"\\u015bwiecie\", \"\\u015bwi\\u0119ta\", \"\\u015bwi\\u0119to\", \"\\u017cycie\", \"\\u017cycie\", \"\\u017cyciu\"]}, \"R\": 30, \"lambda.step\": 0.01, \"plot.opts\": {\"xlab\": \"PC1\", \"ylab\": \"PC2\"}, \"topic.order\": [9, 6, 10, 5, 4, 1, 3, 7, 8, 2]};\n",
       "\n",
       "function LDAvis_load_lib(url, callback){\n",
       "  var s = document.createElement('script');\n",
       "  s.src = url;\n",
       "  s.async = true;\n",
       "  s.onreadystatechange = s.onload = callback;\n",
       "  s.onerror = function(){console.warn(\"failed to load library \" + url);};\n",
       "  document.getElementsByTagName(\"head\")[0].appendChild(s);\n",
       "}\n",
       "\n",
       "if(typeof(LDAvis) !== \"undefined\"){\n",
       "   // already loaded: just create the visualization\n",
       "   !function(LDAvis){\n",
       "       new LDAvis(\"#\" + \"ldavis_el722829916796146401455782362\", ldavis_el722829916796146401455782362_data);\n",
       "   }(LDAvis);\n",
       "}else if(typeof define === \"function\" && define.amd){\n",
       "   // require.js is available: use it to load d3/LDAvis\n",
       "   require.config({paths: {d3: \"https://d3js.org/d3.v5\"}});\n",
       "   require([\"d3\"], function(d3){\n",
       "      window.d3 = d3;\n",
       "      LDAvis_load_lib(\"https://cdn.jsdelivr.net/gh/bmabey/pyLDAvis@3.3.1/pyLDAvis/js/ldavis.v3.0.0.js\", function(){\n",
       "        new LDAvis(\"#\" + \"ldavis_el722829916796146401455782362\", ldavis_el722829916796146401455782362_data);\n",
       "      });\n",
       "    });\n",
       "}else{\n",
       "    // require.js not available: dynamically load d3 & LDAvis\n",
       "    LDAvis_load_lib(\"https://d3js.org/d3.v5.js\", function(){\n",
       "         LDAvis_load_lib(\"https://cdn.jsdelivr.net/gh/bmabey/pyLDAvis@3.3.1/pyLDAvis/js/ldavis.v3.0.0.js\", function(){\n",
       "                 new LDAvis(\"#\" + \"ldavis_el722829916796146401455782362\", ldavis_el722829916796146401455782362_data);\n",
       "            })\n",
       "         });\n",
       "}\n",
       "</script>"
      ],
      "text/plain": [
       "PreparedData(topic_coordinates=               x          y  topics  cluster       Freq\n",
       "topic                                                  \n",
       "8      32.420952  8.115230   1       1        16.690448\n",
       "5      0.648955   71.707100  2       1        10.369672\n",
       "9      71.019684  9.971006   3       1        9.904824 \n",
       "4      3.785981   33.185135  4       1        9.826841 \n",
       "3     -42.666500 -9.222070   5       1        9.664042 \n",
       "0     -3.621689  -43.526516  6       1        9.374130 \n",
       "2     -3.632402  -4.171708   7       1        8.956248 \n",
       "6     -36.584400  35.804413  8       1        8.757589 \n",
       "7      44.391380  50.615383  9       1        8.255467 \n",
       "1      40.235809 -31.591665  10      1        8.200738 , topic_info=            Term         Freq        Total Category  logprob  loglift\n",
       "7830   nan        4189.000000  4189.000000  Default  30.0000  30.0000\n",
       "9393   online     295.000000   295.000000   Default  29.0000  29.0000\n",
       "4206   historii   278.000000   278.000000   Default  28.0000  28.0000\n",
       "9848   pamięci    242.000000   242.000000   Default  27.0000  27.0000\n",
       "2948   dzień      220.000000   220.000000   Default  26.0000  26.0000\n",
       "...      ...             ...          ...       ...      ...      ...\n",
       "16187  usa        61.567265    139.939426   Topic10 -5.3819   1.6799 \n",
       "19586  zydowskie  40.796489    75.917224    Topic10 -5.7934   1.8799 \n",
       "6799   masz       45.168153    139.034485   Topic10 -5.6916   1.3766 \n",
       "15242  temu       42.317352    122.554088   Topic10 -5.7568   1.4376 \n",
       "10880  polski     39.364693    338.916437   Topic10 -5.8292   0.3481 \n",
       "\n",
       "[461 rows x 6 columns], token_table=       Topic      Freq          Term\n",
       "term                                \n",
       "29     7      0.980255  27          \n",
       "197    8      0.158168  akurat      \n",
       "197    10     0.819599  akurat      \n",
       "369    6      0.176270  antysemityzm\n",
       "369    9      0.820331  antysemityzm\n",
       "...   ..           ...           ...\n",
       "19960  10     0.988303  święta      \n",
       "19967  10     0.973654  święto      \n",
       "20059  1      0.884850  życie       \n",
       "20059  9      0.106182  życie       \n",
       "20065  3      0.969784  życiu       \n",
       "\n",
       "[633 rows x 3 columns], R=30, lambda_step=0.01, plot_opts={'xlab': 'PC1', 'ylab': 'PC2'}, topic_order=[9, 6, 10, 5, 4, 1, 3, 7, 8, 2])"
      ]
     },
     "execution_count": 108,
     "metadata": {},
     "output_type": "execute_result"
    }
   ],
   "source": [
    "import pyLDAvis.sklearn\n",
    "\n",
    "pyLDAvis.enable_notebook()\n",
    "dash = pyLDAvis.sklearn.prepare(lda, data_tfidf_vectorized, tfidf_vectorizer, mds='tsne')\n",
    "dash"
   ]
  },
  {
   "cell_type": "code",
   "execution_count": 109,
   "metadata": {},
   "outputs": [
    {
     "name": "stderr",
     "output_type": "stream",
     "text": [
      "c:\\users\\kubas\\appdata\\local\\programs\\python\\python38\\lib\\site-packages\\ipykernel\\ipkernel.py:283: DeprecationWarning: `should_run_async` will not call `transform_cell` automatically in the future. Please pass the result to `transformed_cell` argument and any exception that happen during thetransform in `preprocessing_exc_tuple` in IPython 7.17 and above.\n",
      "  and should_run_async(code)\n"
     ]
    },
    {
     "data": {
      "text/html": [
       "<div>\n",
       "<style scoped>\n",
       "    .dataframe tbody tr th:only-of-type {\n",
       "        vertical-align: middle;\n",
       "    }\n",
       "\n",
       "    .dataframe tbody tr th {\n",
       "        vertical-align: top;\n",
       "    }\n",
       "\n",
       "    .dataframe thead th {\n",
       "        text-align: right;\n",
       "    }\n",
       "</style>\n",
       "<table border=\"1\" class=\"dataframe\">\n",
       "  <thead>\n",
       "    <tr style=\"text-align: right;\">\n",
       "      <th></th>\n",
       "      <th>tweet</th>\n",
       "      <th>purified_tweet</th>\n",
       "    </tr>\n",
       "  </thead>\n",
       "  <tbody>\n",
       "    <tr>\n",
       "      <th>18</th>\n",
       "      <td>Na razie p. @cieniu powiem wam, to co mi stary pl=żyd rzekł, przed siabesem, z którym coś tam usiłuję sklecić w biznesie. Panie - on do mnie - to ja im w Izraelu tłumaczę, że to żydzi uczyli się robić interes od Polaków, on tak sam z siebie, i to jest dobry szmonces.. na dziś.</td>\n",
       "      <td>razie p powiem stary pl rzekł siabesem usiłuję sklecić biznesie panie izraelu tłumaczę  uczyli robić interes polaków siebie dobry szmonces</td>\n",
       "    </tr>\n",
       "    <tr>\n",
       "      <th>22</th>\n",
       "      <td>@r_laszuk Wszedł w drugiej połowie i wygladal równie słabo, co Bida. Złe decyzje, latał jak Żyd po pustym sklepie. Bez celu</td>\n",
       "      <td>wszedł drugiej połowie wygladal równie słabo bida złe decyzje latał  pustym sklepie celu</td>\n",
       "    </tr>\n",
       "    <tr>\n",
       "      <th>62</th>\n",
       "      <td>28 listopada 1916 | W Oslo urodził się norweski Żyd Salomon Lewenstein. Szklarz.  W #Auschwitz od 1 grudnia 1942 r. Nr 79172 Zginął w obozie 27 stycznia 1943 r.  https://t.co/lQfSJoErMQ</td>\n",
       "      <td>28 listopada oslo urodził norweski  salomon lewenstein szklarz grudnia r nr zginął obozie stycznia r</td>\n",
       "    </tr>\n",
       "    <tr>\n",
       "      <th>82</th>\n",
       "      <td>Zaklamany zyd Mattityahu!</td>\n",
       "      <td>zaklamany zyd mattityahu</td>\n",
       "    </tr>\n",
       "    <tr>\n",
       "      <th>88</th>\n",
       "      <td>@21schilling @ttxyn1 Zaklamany zyd Mattityahu mial racje. To dzial!</td>\n",
       "      <td>zaklamany zyd mattityahu mial racje dzial</td>\n",
       "    </tr>\n",
       "    <tr>\n",
       "      <th>...</th>\n",
       "      <td>...</td>\n",
       "      <td>...</td>\n",
       "    </tr>\n",
       "    <tr>\n",
       "      <th>63172</th>\n",
       "      <td>@prezydentpl @wkolarski @AndrzejDuda Nie było żadnego \"wyzwolenia\" KL Auschwitz❗Ruskie sołdaty weszły tam 6 dni po opuszczeniu obozu przez Niemców. Sowieci nie wyzwalali również opustoszalej i zrujnowanej Warszawy po wycofaniu się Niemców. Sowieci nie \"wyzwalali\" Polski w drodze na Berlin lecz okupowali nas do 1993</td>\n",
       "      <td>żadnego wyzwolenia kl ruskie sołdaty weszły dni opuszczeniu obozu niemców sowieci wyzwalali opustoszalej zrujnowanej warszawy wycofaniu niemców sowieci wyzwalali polski drodze berlin okupowali</td>\n",
       "    </tr>\n",
       "    <tr>\n",
       "      <th>63185</th>\n",
       "      <td>Collections of the Auschwitz-Birkenau State Museum. . Zofia Stępień. «Prayer», pencil, crayons, paper, 14 x 8,8 cm, KL Auschwitz 1943.  . Franciszka Studzińska.«Rosary», bread, length 35.5 cm, KL Auschwitz 1942-43.  https://t.co/mufnOvS1i1</td>\n",
       "      <td>collections of the birkenau state museum zofia stępień prayer pencil crayons paper8 cm kl  franciszka studzińskarosary bread length5 cm kl 43</td>\n",
       "    </tr>\n",
       "    <tr>\n",
       "      <th>63238</th>\n",
       "      <td>@USConsKrakow @MuzeumAuschwitz Franklin D. Roosevelt gdyby nie był rasista i wspólnikiem Stalina to USA by kogoś uratowały z Holokaustu</td>\n",
       "      <td>franklin d roosevelt rasista wspólnikiem stalina usa kogoś uratowały</td>\n",
       "    </tr>\n",
       "    <tr>\n",
       "      <th>63257</th>\n",
       "      <td>FUCK YOU Tennessee school board!!  Rada szkolna Tenn.USA, zakazała nauczania w klasach nagrodzonej Pulitzerem powieści o Holokauście. Jest to \"po prostu zbyt zorientowane na dorosłych\"  A 🇵🇱dalej obrażeni na świnki?  Tak tylko pytam, aby się nie ześwinić!   https://t.co/tJmQTZmtaU</td>\n",
       "      <td>fuck you tennessee school board rada szkolna tennusa zakazała nauczania klasach nagrodzonej pulitzerem powieści  prostu zbyt zorientowane dorosłych dalej obrażeni świnki pytam ześwinić</td>\n",
       "    </tr>\n",
       "    <tr>\n",
       "      <th>63259</th>\n",
       "      <td>Komiks \"Maus\" (antropomorficzna opowieść o Holokauście) został zakazany w szkołach stanu Tennessee (silnie republikański, prawicowy stan pokonfederackiego południa). Powód? \"Niewłaściwy język\" (w komiksie pada przekleństwo \"God damn\") i nagi wizerunek myszy w jednym z kadrów.  https://t.co/oYLvKjwW1q</td>\n",
       "      <td>komiks maus antropomorficzna opowieść  zakazany szkołach stanu tennessee silnie republikański prawicowy stan pokonfederackiego południa powód niewłaściwy język komiksie pada przekleństwo god damn nagi wizerunek myszy jednym kadrów</td>\n",
       "    </tr>\n",
       "  </tbody>\n",
       "</table>\n",
       "<p>3038 rows × 2 columns</p>\n",
       "</div>"
      ],
      "text/plain": [
       "                                                                                                                                                                                                                                                                                                                              tweet                                                                                                                                                                                                                          purified_tweet\n",
       "18     Na razie p. @cieniu powiem wam, to co mi stary pl=żyd rzekł, przed siabesem, z którym coś tam usiłuję sklecić w biznesie. Panie - on do mnie - to ja im w Izraelu tłumaczę, że to żydzi uczyli się robić interes od Polaków, on tak sam z siebie, i to jest dobry szmonces.. na dziś.                                         razie p powiem stary pl rzekł siabesem usiłuję sklecić biznesie panie izraelu tłumaczę  uczyli robić interes polaków siebie dobry szmonces                                                                                            \n",
       "22     @r_laszuk Wszedł w drugiej połowie i wygladal równie słabo, co Bida. Złe decyzje, latał jak Żyd po pustym sklepie. Bez celu                                                                                                                                                                                                   wszedł drugiej połowie wygladal równie słabo bida złe decyzje latał  pustym sklepie celu                                                                                                                                              \n",
       "62     28 listopada 1916 | W Oslo urodził się norweski Żyd Salomon Lewenstein. Szklarz.  W #Auschwitz od 1 grudnia 1942 r. Nr 79172 Zginął w obozie 27 stycznia 1943 r.  https://t.co/lQfSJoErMQ                                                                                                                                     28 listopada oslo urodził norweski  salomon lewenstein szklarz grudnia r nr zginął obozie stycznia r                                                                                                                                  \n",
       "82     Zaklamany zyd Mattityahu!                                                                                                                                                                                                                                                                                                     zaklamany zyd mattityahu                                                                                                                                                                                                              \n",
       "88     @21schilling @ttxyn1 Zaklamany zyd Mattityahu mial racje. To dzial!                                                                                                                                                                                                                                                           zaklamany zyd mattityahu mial racje dzial                                                                                                                                                                                             \n",
       "...                                                                    ...                                                                                                                                                                                                                                                                                                 ...                                                                                                                                                                                             \n",
       "63172  @prezydentpl @wkolarski @AndrzejDuda Nie było żadnego \"wyzwolenia\" KL Auschwitz❗Ruskie sołdaty weszły tam 6 dni po opuszczeniu obozu przez Niemców. Sowieci nie wyzwalali również opustoszalej i zrujnowanej Warszawy po wycofaniu się Niemców. Sowieci nie \"wyzwalali\" Polski w drodze na Berlin lecz okupowali nas do 1993  żadnego wyzwolenia kl ruskie sołdaty weszły dni opuszczeniu obozu niemców sowieci wyzwalali opustoszalej zrujnowanej warszawy wycofaniu niemców sowieci wyzwalali polski drodze berlin okupowali                                      \n",
       "63185  Collections of the Auschwitz-Birkenau State Museum. . Zofia Stępień. «Prayer», pencil, crayons, paper, 14 x 8,8 cm, KL Auschwitz 1943.  . Franciszka Studzińska.«Rosary», bread, length 35.5 cm, KL Auschwitz 1942-43.  https://t.co/mufnOvS1i1                                                                               collections of the birkenau state museum zofia stępień prayer pencil crayons paper8 cm kl  franciszka studzińskarosary bread length5 cm kl 43                                                                                         \n",
       "63238  @USConsKrakow @MuzeumAuschwitz Franklin D. Roosevelt gdyby nie był rasista i wspólnikiem Stalina to USA by kogoś uratowały z Holokaustu                                                                                                                                                                                       franklin d roosevelt rasista wspólnikiem stalina usa kogoś uratowały                                                                                                                                                                  \n",
       "63257  FUCK YOU Tennessee school board!!  Rada szkolna Tenn.USA, zakazała nauczania w klasach nagrodzonej Pulitzerem powieści o Holokauście. Jest to \"po prostu zbyt zorientowane na dorosłych\"  A 🇵🇱dalej obrażeni na świnki?  Tak tylko pytam, aby się nie ześwinić!   https://t.co/tJmQTZmtaU                                     fuck you tennessee school board rada szkolna tennusa zakazała nauczania klasach nagrodzonej pulitzerem powieści  prostu zbyt zorientowane dorosłych dalej obrażeni świnki pytam ześwinić                                              \n",
       "63259  Komiks \"Maus\" (antropomorficzna opowieść o Holokauście) został zakazany w szkołach stanu Tennessee (silnie republikański, prawicowy stan pokonfederackiego południa). Powód? \"Niewłaściwy język\" (w komiksie pada przekleństwo \"God damn\") i nagi wizerunek myszy w jednym z kadrów.  https://t.co/oYLvKjwW1q                 komiks maus antropomorficzna opowieść  zakazany szkołach stanu tennessee silnie republikański prawicowy stan pokonfederackiego południa powód niewłaściwy język komiksie pada przekleństwo god damn nagi wizerunek myszy jednym kadrów\n",
       "\n",
       "[3038 rows x 2 columns]"
      ]
     },
     "execution_count": 109,
     "metadata": {},
     "output_type": "execute_result"
    }
   ],
   "source": [
    "data[data['purified_tweet'].str.contains('kl') == True][['tweet','purified_tweet']]#['username'].value_counts()"
   ]
  },
  {
   "cell_type": "code",
   "execution_count": null,
   "metadata": {},
   "outputs": [],
   "source": []
  },
  {
   "cell_type": "code",
   "execution_count": null,
   "metadata": {},
   "outputs": [],
   "source": []
  },
  {
   "cell_type": "code",
   "execution_count": null,
   "metadata": {},
   "outputs": [],
   "source": []
  },
  {
   "cell_type": "code",
   "execution_count": null,
   "metadata": {},
   "outputs": [],
   "source": []
  },
  {
   "cell_type": "code",
   "execution_count": null,
   "metadata": {},
   "outputs": [],
   "source": []
  },
  {
   "cell_type": "code",
   "execution_count": null,
   "metadata": {},
   "outputs": [],
   "source": []
  },
  {
   "cell_type": "code",
   "execution_count": null,
   "metadata": {},
   "outputs": [],
   "source": []
  },
  {
   "cell_type": "code",
   "execution_count": null,
   "metadata": {},
   "outputs": [],
   "source": []
  },
  {
   "cell_type": "code",
   "execution_count": null,
   "metadata": {},
   "outputs": [],
   "source": []
  },
  {
   "cell_type": "code",
   "execution_count": null,
   "metadata": {},
   "outputs": [],
   "source": []
  },
  {
   "cell_type": "code",
   "execution_count": null,
   "metadata": {},
   "outputs": [],
   "source": []
  },
  {
   "cell_type": "code",
   "execution_count": null,
   "metadata": {},
   "outputs": [],
   "source": []
  },
  {
   "cell_type": "code",
   "execution_count": null,
   "metadata": {},
   "outputs": [],
   "source": []
  },
  {
   "cell_type": "code",
   "execution_count": null,
   "metadata": {},
   "outputs": [],
   "source": []
  },
  {
   "cell_type": "code",
   "execution_count": 110,
   "metadata": {},
   "outputs": [
    {
     "name": "stderr",
     "output_type": "stream",
     "text": [
      "c:\\users\\kubas\\appdata\\local\\programs\\python\\python38\\lib\\site-packages\\ipykernel\\ipkernel.py:283: DeprecationWarning: `should_run_async` will not call `transform_cell` automatically in the future. Please pass the result to `transformed_cell` argument and any exception that happen during thetransform in `preprocessing_exc_tuple` in IPython 7.17 and above.\n",
      "  and should_run_async(code)\n"
     ]
    },
    {
     "ename": "NameError",
     "evalue": "name 'data_vectorized' is not defined",
     "output_type": "error",
     "traceback": [
      "\u001b[1;31m---------------------------------------------------------------------------\u001b[0m",
      "\u001b[1;31mNameError\u001b[0m                                 Traceback (most recent call last)",
      "\u001b[1;32m<ipython-input-110-0cb46260afa7>\u001b[0m in \u001b[0;36m<module>\u001b[1;34m\u001b[0m\n\u001b[0;32m      1\u001b[0m \u001b[0mpyLDAvis\u001b[0m\u001b[1;33m.\u001b[0m\u001b[0menable_notebook\u001b[0m\u001b[1;33m(\u001b[0m\u001b[1;33m)\u001b[0m\u001b[1;33m\u001b[0m\u001b[1;33m\u001b[0m\u001b[0m\n\u001b[1;32m----> 2\u001b[1;33m \u001b[0mdash\u001b[0m \u001b[1;33m=\u001b[0m \u001b[0mpyLDAvis\u001b[0m\u001b[1;33m.\u001b[0m\u001b[0msklearn\u001b[0m\u001b[1;33m.\u001b[0m\u001b[0mprepare\u001b[0m\u001b[1;33m(\u001b[0m\u001b[0mlda\u001b[0m\u001b[1;33m,\u001b[0m \u001b[0mdata_vectorized\u001b[0m\u001b[1;33m,\u001b[0m \u001b[0mvectorizer\u001b[0m\u001b[1;33m,\u001b[0m \u001b[0mmds\u001b[0m\u001b[1;33m=\u001b[0m\u001b[1;34m'tsne'\u001b[0m\u001b[1;33m)\u001b[0m\u001b[1;33m\u001b[0m\u001b[1;33m\u001b[0m\u001b[0m\n\u001b[0m\u001b[0;32m      3\u001b[0m \u001b[0mdash\u001b[0m\u001b[1;33m\u001b[0m\u001b[1;33m\u001b[0m\u001b[0m\n",
      "\u001b[1;31mNameError\u001b[0m: name 'data_vectorized' is not defined"
     ]
    }
   ],
   "source": [
    "pyLDAvis.enable_notebook()\n",
    "dash = pyLDAvis.sklearn.prepare(lda, data_vectorized, vectorizer, mds='tsne')\n",
    "dash\n"
   ]
  },
  {
   "cell_type": "code",
   "execution_count": null,
   "metadata": {},
   "outputs": [],
   "source": []
  },
  {
   "cell_type": "code",
   "execution_count": null,
   "metadata": {},
   "outputs": [],
   "source": []
  },
  {
   "cell_type": "code",
   "execution_count": null,
   "metadata": {},
   "outputs": [],
   "source": []
  },
  {
   "cell_type": "code",
   "execution_count": null,
   "metadata": {},
   "outputs": [],
   "source": []
  },
  {
   "cell_type": "code",
   "execution_count": null,
   "metadata": {},
   "outputs": [],
   "source": []
  },
  {
   "cell_type": "code",
   "execution_count": null,
   "metadata": {},
   "outputs": [],
   "source": []
  },
  {
   "cell_type": "code",
   "execution_count": null,
   "metadata": {},
   "outputs": [],
   "source": []
  }
 ],
 "metadata": {
  "interpreter": {
   "hash": "c3943eda020cffd863547177e52345edbd7ffbdab785f1b98a98d5224685467c"
  },
  "kernelspec": {
   "display_name": "Python 3",
   "language": "python",
   "name": "python3"
  },
  "language_info": {
   "codemirror_mode": {
    "name": "ipython",
    "version": 3
   },
   "file_extension": ".py",
   "mimetype": "text/x-python",
   "name": "python",
   "nbconvert_exporter": "python",
   "pygments_lexer": "ipython3",
   "version": "3.8.10"
  }
 },
 "nbformat": 4,
 "nbformat_minor": 2
}
