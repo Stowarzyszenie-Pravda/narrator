{
 "cells": [
  {
   "cell_type": "code",
   "execution_count": 141,
   "id": "6df21c66",
   "metadata": {},
   "outputs": [],
   "source": [
    "import pandas as pd\n",
    "import numpy as np\n",
    "import ast"
   ]
  },
  {
   "cell_type": "code",
   "execution_count": 142,
   "id": "f8f4c331",
   "metadata": {},
   "outputs": [
    {
     "name": "stderr",
     "output_type": "stream",
     "text": [
      "c:\\users\\kubas\\appdata\\local\\programs\\python\\python38\\lib\\site-packages\\IPython\\core\\interactiveshell.py:3169: DtypeWarning: Columns (9) have mixed types.Specify dtype option on import or set low_memory=False.\n",
      "  has_raised = await self.run_ast_nodes(code_ast.body, cell_name,\n"
     ]
    }
   ],
   "source": [
    "df1 = pd.read_csv(\"C:/Users/kubas/Desktop/narrator/database/2021-11-08-2920.csv\")\n",
    "df2 = pd.read_csv(\"C:/Users/kubas/Desktop/narrator/database/2021-11-21-715.csv\")\n",
    "df3 = pd.read_csv(\"C:/Users/kubas/Desktop/narrator/database/2021-11-23-5264.csv\")\n",
    "df4 = pd.read_csv(\"C:/Users/kubas/Desktop/narrator/database/2021-11-24-8219.csv\")\n",
    "\n",
    "df1 = df1.append(df2)\n",
    "df1 = df1.append(df3)\n",
    "df1 = df1.append(df4)"
   ]
  },
  {
   "cell_type": "code",
   "execution_count": 143,
   "id": "bac45498",
   "metadata": {},
   "outputs": [],
   "source": [
    "df = df1.reset_index().drop([\"Unnamed: 0\",'index'], axis=1)\n",
    "df['score'] = (df['nreplies'] + df['nlikes']*3 + df['nretweets']*3)/7"
   ]
  },
  {
   "cell_type": "code",
   "execution_count": 187,
   "id": "0b9fd198",
   "metadata": {},
   "outputs": [],
   "source": [
    "def change_reply_to_user_list(reply_to):\n",
    "    user_list = []\n",
    "    temps = ast.literal_eval(reply_to)\n",
    "    for temp in temps:\n",
    "        user_list.append(temp[\"screen_name\"])\n",
    "    return user_list\n",
    "\n",
    "def generate_edge_list(df):\n",
    "    graph_list = []\n",
    "    for index, row in df.iterrows():\n",
    "        for user in change_reply_to_user_list(row[\"reply_to\"]):\n",
    "            graph_list.append([row[\"username\"],user])\n",
    "    return pd.DataFrame(graph_list, columns=['source', 'target'])"
   ]
  },
  {
   "cell_type": "code",
   "execution_count": 189,
   "id": "d51db089",
   "metadata": {},
   "outputs": [],
   "source": [
    "rdf = generate_edge_list(df)\n",
    "rdf.to_csv(\"edges.csv\", index=False)"
   ]
  },
  {
   "cell_type": "code",
   "execution_count": null,
   "id": "0d2aadcf",
   "metadata": {},
   "outputs": [],
   "source": []
  },
  {
   "cell_type": "code",
   "execution_count": null,
   "id": "b1ffbd4d",
   "metadata": {},
   "outputs": [],
   "source": []
  },
  {
   "cell_type": "code",
   "execution_count": null,
   "id": "5b8404d8",
   "metadata": {},
   "outputs": [],
   "source": []
  },
  {
   "cell_type": "code",
   "execution_count": null,
   "id": "6e57bea4",
   "metadata": {},
   "outputs": [],
   "source": []
  },
  {
   "cell_type": "code",
   "execution_count": null,
   "id": "9cb80298",
   "metadata": {},
   "outputs": [],
   "source": []
  },
  {
   "cell_type": "code",
   "execution_count": null,
   "id": "3776ec80",
   "metadata": {},
   "outputs": [],
   "source": []
  }
 ],
 "metadata": {
  "kernelspec": {
   "display_name": "Python 3",
   "language": "python",
   "name": "python3"
  },
  "language_info": {
   "codemirror_mode": {
    "name": "ipython",
    "version": 3
   },
   "file_extension": ".py",
   "mimetype": "text/x-python",
   "name": "python",
   "nbconvert_exporter": "python",
   "pygments_lexer": "ipython3",
   "version": "3.8.10"
  }
 },
 "nbformat": 4,
 "nbformat_minor": 5
}
