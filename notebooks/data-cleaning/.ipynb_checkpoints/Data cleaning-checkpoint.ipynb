{
 "cells": [
  {
   "cell_type": "code",
   "execution_count": 6,
   "id": "97b665d0",
   "metadata": {},
   "outputs": [],
   "source": [
    "import pandas as pd\n",
    "import numpy as np\n",
    "\n",
    "pd.set_option(\"display.max_columns\", None)"
   ]
  },
  {
   "cell_type": "code",
   "execution_count": null,
   "id": "50ee5fe7",
   "metadata": {},
   "outputs": [],
   "source": [
    "original_data = pd.read_excel(\"C:/Users/kubas/Desktop/narrator/database/2021-11-21-715.xlsx\", sheet_name=\"Sheet1\")"
   ]
  },
  {
   "cell_type": "code",
   "execution_count": null,
   "id": "d668d150",
   "metadata": {},
   "outputs": [],
   "source": [
    "# Copying fro original file\n",
    "data = original_data\n",
    "\n",
    "# Deleting not polish tweets\n",
    "data = data[data['language'] == 'pl']\n",
    "\n",
    "# Deleting not important columns\n",
    "data.drop(columns=['Unnamed: 0', 'created_at','timezone','place','language','cashtags', 'retweet', 'quote_url', 'thumbnail', 'video', 'day', 'hour', 'near', 'geo', 'source', 'user_rt_id',\n",
    "            'user_rt', 'retweet_id','retweet_date','translate','trans_src','trans_dest', 'user_id'], inplace=True)\n",
    "\n",
    "# Delete duplicates\n",
    "data.drop_duplicates(subset = ['id'], inplace = True)\n",
    "\n",
    "# Deleting empty urls\n",
    "data.dropna(subset = ['link'], inplace = True)"
   ]
  },
  {
   "cell_type": "code",
   "execution_count": 5,
   "id": "64fa055e",
   "metadata": {},
   "outputs": [],
   "source": [
    "data.to_csv(\"2021-11-21-715.csv\", encoding=\"utf-8\")"
   ]
  },
  {
   "cell_type": "code",
   "execution_count": null,
   "id": "138d5a68",
   "metadata": {},
   "outputs": [],
   "source": []
  },
  {
   "cell_type": "code",
   "execution_count": null,
   "id": "b8e131c4",
   "metadata": {},
   "outputs": [],
   "source": []
  },
  {
   "cell_type": "code",
   "execution_count": null,
   "id": "94f1e437",
   "metadata": {},
   "outputs": [],
   "source": []
  },
  {
   "cell_type": "code",
   "execution_count": null,
   "id": "e11b8a5e",
   "metadata": {},
   "outputs": [],
   "source": []
  }
 ],
 "metadata": {
  "kernelspec": {
   "display_name": "Python 3",
   "language": "python",
   "name": "python3"
  },
  "language_info": {
   "codemirror_mode": {
    "name": "ipython",
    "version": 3
   },
   "file_extension": ".py",
   "mimetype": "text/x-python",
   "name": "python",
   "nbconvert_exporter": "python",
   "pygments_lexer": "ipython3",
   "version": "3.8.10"
  }
 },
 "nbformat": 4,
 "nbformat_minor": 5
}
